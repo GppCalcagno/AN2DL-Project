{
 "cells": [
  {
   "cell_type": "markdown",
   "metadata": {
    "id": "l3FoTyRa9pLu"
   },
   "source": [
    "# Import libraries and Inizialization"
   ]
  },
  {
   "cell_type": "code",
   "execution_count": null,
   "metadata": {},
   "outputs": [],
   "source": [
    "!pip install split-folders\n",
    "!pip install visualkeras"
   ]
  },
  {
   "cell_type": "code",
   "execution_count": 28,
   "metadata": {
    "execution": {
     "iopub.execute_input": "2022-11-21T20:27:14.673263Z",
     "iopub.status.busy": "2022-11-21T20:27:14.672839Z",
     "iopub.status.idle": "2022-11-21T20:27:14.855920Z",
     "shell.execute_reply": "2022-11-21T20:27:14.854758Z",
     "shell.execute_reply.started": "2022-11-21T20:27:14.673218Z"
    },
    "id": "f_sOaV1Y8NsL",
    "outputId": "bb9b9a6a-2493-4cd0-ada2-48a8b9b8f133"
   },
   "outputs": [
    {
     "name": "stdout",
     "output_type": "stream",
     "text": [
      "2.6.4\n"
     ]
    }
   ],
   "source": [
    "import tensorflow as tf\n",
    "import numpy as np\n",
    "import os\n",
    "import random\n",
    "import matplotlib as mpl\n",
    "import matplotlib.pyplot as plt\n",
    "from sklearn.model_selection import train_test_split\n",
    "from sklearn.metrics import accuracy_score, f1_score, precision_score, recall_score, classification_report, confusion_matrix\n",
    "from tensorflow.keras.preprocessing.image import ImageDataGenerator\n",
    "import seaborn as sns\n",
    "\n",
    "#used to manage kaggle directory \n",
    "import shutil\n",
    "#used to split the dataset\n",
    "import splitfolders\n",
    "#used to have a graphical representation of the model\n",
    "import visualkeras\n",
    "\n",
    "tfk = tf.keras\n",
    "tfkl = tf.keras.layers\n",
    "print(tf.__version__)"
   ]
  },
  {
   "cell_type": "markdown",
   "metadata": {
    "id": "pLb-N5JzUUQS"
   },
   "source": [
    "### Set seed for reproducibility"
   ]
  },
  {
   "cell_type": "code",
   "execution_count": 4,
   "metadata": {
    "execution": {
     "iopub.execute_input": "2022-11-21T20:02:26.857348Z",
     "iopub.status.busy": "2022-11-21T20:02:26.856910Z",
     "iopub.status.idle": "2022-11-21T20:02:26.868724Z",
     "shell.execute_reply": "2022-11-21T20:02:26.867328Z",
     "shell.execute_reply.started": "2022-11-21T20:02:26.857310Z"
    },
    "id": "C7HYua8HUHIj"
   },
   "outputs": [],
   "source": [
    "# Random seed for reproducibility\n",
    "seed = 42\n",
    "\n",
    "random.seed(seed)\n",
    "os.environ['PYTHONHASHSEED'] = str(seed)\n",
    "np.random.seed(seed)\n",
    "tf.random.set_seed(seed)\n",
    "tf.compat.v1.set_random_seed(seed)"
   ]
  },
  {
   "cell_type": "markdown",
   "metadata": {
    "id": "BDM82PpE3VSg"
   },
   "source": [
    "### Suppress warnings"
   ]
  },
  {
   "cell_type": "code",
   "execution_count": 5,
   "metadata": {
    "execution": {
     "iopub.execute_input": "2022-11-21T20:02:28.675278Z",
     "iopub.status.busy": "2022-11-21T20:02:28.674867Z",
     "iopub.status.idle": "2022-11-21T20:02:28.683296Z",
     "shell.execute_reply": "2022-11-21T20:02:28.682063Z",
     "shell.execute_reply.started": "2022-11-21T20:02:28.675244Z"
    },
    "id": "5fXtacjAqOIq"
   },
   "outputs": [],
   "source": [
    "import warnings\n",
    "import logging\n",
    "\n",
    "os.environ['TF_CPP_MIN_LOG_LEVEL'] = '2'\n",
    "warnings.simplefilter(action='ignore', category=FutureWarning)\n",
    "warnings.simplefilter(action='ignore', category=Warning)\n",
    "tf.get_logger().setLevel('INFO')\n",
    "tf.autograph.set_verbosity(0)\n",
    "\n",
    "tf.get_logger().setLevel(logging.ERROR)\n",
    "tf.get_logger().setLevel('ERROR')\n",
    "tf.compat.v1.logging.set_verbosity(tf.compat.v1.logging.ERROR)"
   ]
  },
  {
   "cell_type": "markdown",
   "metadata": {
    "id": "6Cg_WShEvyD4"
   },
   "source": [
    "# Data preparation and augmentation"
   ]
  },
  {
   "cell_type": "code",
   "execution_count": 6,
   "metadata": {
    "execution": {
     "iopub.execute_input": "2022-11-21T20:02:32.127349Z",
     "iopub.status.busy": "2022-11-21T20:02:32.126581Z",
     "iopub.status.idle": "2022-11-21T20:02:32.134197Z",
     "shell.execute_reply": "2022-11-21T20:02:32.132902Z",
     "shell.execute_reply.started": "2022-11-21T20:02:32.127310Z"
    },
    "id": "tDkFtRWclq_y"
   },
   "outputs": [],
   "source": [
    "labels = [\n",
    "    \"Species1\",  #1\n",
    "    \"Species2\",  #2\n",
    "    \"Species3\",  #3\n",
    "    \"Species4\",  #4\n",
    "    \"Species5\",  #5\n",
    "    \"Species6\",  #6\n",
    "    \"Species7\",  #7\n",
    "    \"Species8\",  #8\n",
    "]"
   ]
  },
  {
   "cell_type": "code",
   "execution_count": 7,
   "metadata": {
    "execution": {
     "iopub.execute_input": "2022-11-21T20:02:34.178774Z",
     "iopub.status.busy": "2022-11-21T20:02:34.178379Z",
     "iopub.status.idle": "2022-11-21T20:02:44.581253Z",
     "shell.execute_reply": "2022-11-21T20:02:44.580132Z",
     "shell.execute_reply.started": "2022-11-21T20:02:34.178739Z"
    }
   },
   "outputs": [
    {
     "name": "stdout",
     "output_type": "stream",
     "text": [
      "splitting\n"
     ]
    },
    {
     "name": "stderr",
     "output_type": "stream",
     "text": [
      "Copying files: 3542 files [00:10, 341.07 files/s]\n"
     ]
    }
   ],
   "source": [
    "#Spit the dataset in Train-Validation-Test Set\n",
    "dataset_dir = './dataset'\n",
    "\n",
    "if not(os.path.exists(dataset_dir)) :\n",
    "    print('splitting')\n",
    "    #we decided to use a fixed number of sample to have a balanced Validation and Test Sets \n",
    "    source=\"../input/an2dl-data/training_data_final\"\n",
    "    splitfolders.fixed(source, \n",
    "                       output=\"dataset\",\n",
    "                       seed=seed, \n",
    "                       fixed=(30, 20), \n",
    "                       oversample=False, \n",
    "                       group_prefix=None, \n",
    "                       move=False)\n",
    "    \n",
    "# Setting dataset directories\n",
    "training_dir = os.path.join(dataset_dir, 'train')\n",
    "validation_dir = os.path.join(dataset_dir, 'val')\n",
    "test_dir = os.path.join(dataset_dir, 'test')"
   ]
  },
  {
   "cell_type": "code",
   "execution_count": 8,
   "metadata": {
    "execution": {
     "iopub.execute_input": "2022-11-21T20:02:52.578799Z",
     "iopub.status.busy": "2022-11-21T20:02:52.577652Z",
     "iopub.status.idle": "2022-11-21T20:02:52.586031Z",
     "shell.execute_reply": "2022-11-21T20:02:52.584400Z",
     "shell.execute_reply.started": "2022-11-21T20:02:52.578746Z"
    }
   },
   "outputs": [],
   "source": [
    "#Function used to print the Number Of Sample for each class in the train Set\n",
    "def count_dir_files(): \n",
    "    count_dir = {}\n",
    "    for sp in labels:\n",
    "        count_dir[sp] = len(os.listdir(dataset_dir+\"/train/\"+sp))\n",
    "\n",
    "    return count_dir"
   ]
  },
  {
   "cell_type": "markdown",
   "metadata": {},
   "source": [
    "### Data Augmentation"
   ]
  },
  {
   "cell_type": "code",
   "execution_count": 9,
   "metadata": {
    "execution": {
     "iopub.execute_input": "2022-11-21T20:02:54.777956Z",
     "iopub.status.busy": "2022-11-21T20:02:54.776955Z",
     "iopub.status.idle": "2022-11-21T20:03:51.346892Z",
     "shell.execute_reply": "2022-11-21T20:03:51.345606Z",
     "shell.execute_reply.started": "2022-11-21T20:02:54.777904Z"
    }
   },
   "outputs": [
    {
     "name": "stdout",
     "output_type": "stream",
     "text": [
      "Found 136 images belonging to 1 classes.\n",
      "Found 172 images belonging to 1 classes.\n",
      "Found 482 images belonging to 1 classes.\n",
      "Found 465 images belonging to 1 classes.\n",
      "Found 461 images belonging to 1 classes.\n",
      "Found 481 images belonging to 1 classes.\n",
      "Found 487 images belonging to 1 classes.\n",
      "Found 458 images belonging to 1 classes.\n"
     ]
    }
   ],
   "source": [
    "#We decided to Augment the Dataset (that seems poor) and balance the number of sample for each class\n",
    "\n",
    "#This is the type of augmentation we decided to make\n",
    "image_generator_train = ImageDataGenerator(rotation_range=91,\n",
    "                                         width_shift_range=0.2,\n",
    "                                         height_shift_range=0.2,\n",
    "                                         horizontal_flip=True,\n",
    "                                         brightness_range=(0.7,1.3), \n",
    "                                         vertical_flip=True,\n",
    "                                         zoom_range=0.3,\n",
    "                                         fill_mode='reflect')\n",
    "\n",
    "data_gen_spec1 = image_generator_train.flow_from_directory(directory='./dataset/train',\n",
    "                                                     target_size = (96,96),\n",
    "                                                     color_mode = 'rgb',\n",
    "                                                     classes=['Species1'],\n",
    "                                                     batch_size=136,\n",
    "                                                     shuffle = True,\n",
    "                                                     save_to_dir='./dataset/train/Species1',\n",
    "                                                     save_format='jpg',\n",
    "                                                     save_prefix=\"augmented\")\n",
    "#each class has a different number of repetition to balance the dataset\n",
    "for i in range(14):\n",
    "    data_gen_spec1.next()\n",
    "    \n",
    "data_gen_spec6 = image_generator_train.flow_from_directory(directory='./dataset/train',\n",
    "                                                     target_size = (96,96),\n",
    "                                                     color_mode = 'rgb',\n",
    "                                                     classes=['Species6'],\n",
    "                                                     batch_size=172,\n",
    "                                                     shuffle = True,\n",
    "                                                     save_to_dir='./dataset/train/Species6',\n",
    "                                                     save_format='jpg',\n",
    "                                                     save_prefix=\"augmented\")\n",
    "\n",
    "for i in range(11):\n",
    "    data_gen_spec6.next()\n",
    "\n",
    "data_gen_spec2 = image_generator_train.flow_from_directory(directory='./dataset/train',\n",
    "                                                     target_size = (96,96),\n",
    "                                                     color_mode = 'rgb',\n",
    "                                                     classes=['Species2'],\n",
    "                                                     batch_size=482,\n",
    "                                                     shuffle = True,\n",
    "                                                     save_to_dir='./dataset/train/Species2',\n",
    "                                                     save_format='jpg',\n",
    "                                                     save_prefix=\"augmented\")\n",
    "\n",
    "for i in range(3):\n",
    "    data_gen_spec2.next()\n",
    "    \n",
    "\n",
    "data_gen_spec3 = image_generator_train.flow_from_directory(directory='./dataset/train',\n",
    "                                                     target_size = (96,96),\n",
    "                                                     color_mode = 'rgb',\n",
    "                                                     classes=['Species3'],\n",
    "                                                     batch_size=465,\n",
    "                                                     shuffle = True,\n",
    "                                                     save_to_dir='./dataset/train/Species3',\n",
    "                                                     save_format='jpg',\n",
    "                                                     save_prefix=\"augmented\")\n",
    "\n",
    "for i in range(3):\n",
    "    data_gen_spec3.next()\n",
    "    \n",
    "    \n",
    "\n",
    "data_gen_spec4 = image_generator_train.flow_from_directory(directory='./dataset/train',\n",
    "                                                     target_size = (96,96),\n",
    "                                                     color_mode = 'rgb',\n",
    "                                                     classes=['Species4'],\n",
    "                                                     batch_size=461,\n",
    "                                                     shuffle = True,\n",
    "                                                     save_to_dir='./dataset/train/Species4',\n",
    "                                                     save_format='jpg',\n",
    "                                                     save_prefix=\"augmented\")\n",
    "\n",
    "for i in range(3):\n",
    "    data_gen_spec4.next()\n",
    "    \n",
    "    \n",
    "\n",
    "data_gen_spec5 = image_generator_train.flow_from_directory(directory='./dataset/train',\n",
    "                                                     target_size = (96,96),\n",
    "                                                     color_mode = 'rgb',\n",
    "                                                     classes=['Species5'],\n",
    "                                                     batch_size=481,\n",
    "                                                     shuffle = True,\n",
    "                                                     save_to_dir='./dataset/train/Species5',\n",
    "                                                     save_format='jpg',\n",
    "                                                     save_prefix=\"augmented\")\n",
    "\n",
    "for i in range(3):\n",
    "    data_gen_spec5.next()\n",
    "    \n",
    "    \n",
    "\n",
    "data_gen_spec7 = image_generator_train.flow_from_directory(directory='./dataset/train',\n",
    "                                                     target_size = (96,96),\n",
    "                                                     color_mode = 'rgb',\n",
    "                                                     classes=['Species7'],\n",
    "                                                     batch_size=487,\n",
    "                                                     shuffle = True,\n",
    "                                                     save_to_dir='./dataset/train/Species7',\n",
    "                                                     save_format='jpg',\n",
    "                                                     save_prefix=\"augmented\")\n",
    "\n",
    "for i in range(3):\n",
    "    data_gen_spec7.next()\n",
    "    \n",
    "    \n",
    "\n",
    "data_gen_spec8 = image_generator_train.flow_from_directory(directory='./dataset/train',\n",
    "                                                     target_size = (96,96),\n",
    "                                                     color_mode = 'rgb',\n",
    "                                                     classes=['Species8'],\n",
    "                                                     batch_size=458,\n",
    "                                                     shuffle = True,\n",
    "                                                     save_to_dir='./dataset/train/Species8',\n",
    "                                                     save_format='jpg',\n",
    "                                                     save_prefix=\"augmented\")\n",
    "\n",
    "for i in range(3):\n",
    "    data_gen_spec8.next()\n"
   ]
  },
  {
   "cell_type": "code",
   "execution_count": 11,
   "metadata": {
    "execution": {
     "iopub.execute_input": "2022-11-21T20:03:52.403010Z",
     "iopub.status.busy": "2022-11-21T20:03:52.399126Z",
     "iopub.status.idle": "2022-11-21T20:03:52.424796Z",
     "shell.execute_reply": "2022-11-21T20:03:52.423660Z",
     "shell.execute_reply.started": "2022-11-21T20:03:52.402961Z"
    }
   },
   "outputs": [
    {
     "data": {
      "text/plain": [
       "{'Species1': 2040,\n",
       " 'Species2': 1928,\n",
       " 'Species3': 1860,\n",
       " 'Species4': 1844,\n",
       " 'Species5': 1924,\n",
       " 'Species6': 2064,\n",
       " 'Species7': 1948,\n",
       " 'Species8': 1832}"
      ]
     },
     "execution_count": 11,
     "metadata": {},
     "output_type": "execute_result"
    }
   ],
   "source": [
    "count_dir_files()"
   ]
  },
  {
   "cell_type": "code",
   "execution_count": 21,
   "metadata": {
    "execution": {
     "iopub.execute_input": "2022-11-21T19:58:12.126747Z",
     "iopub.status.busy": "2022-11-21T19:58:12.126258Z",
     "iopub.status.idle": "2022-11-21T19:58:12.255284Z",
     "shell.execute_reply": "2022-11-21T19:58:12.253982Z",
     "shell.execute_reply.started": "2022-11-21T19:58:12.126700Z"
    }
   },
   "outputs": [],
   "source": [
    "#this is used to manage the dataset: used to delete the dataset when we needed to change the Augmentation\n",
    "shutil.rmtree(\"./dataset\")"
   ]
  },
  {
   "cell_type": "code",
   "execution_count": 10,
   "metadata": {
    "execution": {
     "iopub.execute_input": "2022-11-21T20:03:51.349880Z",
     "iopub.status.busy": "2022-11-21T20:03:51.349427Z",
     "iopub.status.idle": "2022-11-21T20:03:52.394306Z",
     "shell.execute_reply": "2022-11-21T20:03:52.392812Z",
     "shell.execute_reply.started": "2022-11-21T20:03:51.349837Z"
    },
    "id": "tlh1xjPirf-q",
    "outputId": "68b247db-7a95-4c11-fb04-7bb99ff4d513"
   },
   "outputs": [
    {
     "name": "stdout",
     "output_type": "stream",
     "text": [
      "Found 15440 images belonging to 8 classes.\n",
      "Found 240 images belonging to 8 classes.\n",
      "Found 160 images belonging to 8 classes.\n"
     ]
    }
   ],
   "source": [
    "#We decided to rescale the Images for a better training phase\n",
    "image_generator_train = ImageDataGenerator(rescale = 1./255)\n",
    "image_generator_validation = ImageDataGenerator(rescale = 1./255)\n",
    "image_generator_test = ImageDataGenerator(rescale = 1./255)\n",
    "\n",
    "train_data = image_generator_train.flow_from_directory(training_dir,\n",
    "                                                       target_size = (96,96),\n",
    "                                                       color_mode = 'rgb',\n",
    "                                                       classes = None,\n",
    "                                                       batch_size = 128,\n",
    "                                                       shuffle = True,\n",
    "                                                       seed = seed)\n",
    "\n",
    "validation_data = image_generator_validation.flow_from_directory(validation_dir,\n",
    "                                                                 target_size = (96,96),\n",
    "                                                                 color_mode = 'rgb',\n",
    "                                                                 classes = None,\n",
    "                                                                 batch_size = 64,\n",
    "                                                                 shuffle = False,\n",
    "                                                                 seed = seed)\n",
    "\n",
    "test_data = image_generator_test.flow_from_directory(test_dir,\n",
    "                                                     target_size = (96,96),\n",
    "                                                     color_mode = 'rgb',\n",
    "                                                     classes = None,\n",
    "                                                     batch_size = 64,\n",
    "                                                     shuffle = False,\n",
    "                                                     seed = seed)"
   ]
  },
  {
   "cell_type": "markdown",
   "metadata": {},
   "source": [
    "# Model Definition"
   ]
  },
  {
   "cell_type": "code",
   "execution_count": 13,
   "metadata": {
    "execution": {
     "iopub.execute_input": "2022-11-21T20:08:49.832650Z",
     "iopub.status.busy": "2022-11-21T20:08:49.832194Z",
     "iopub.status.idle": "2022-11-21T20:08:49.838663Z",
     "shell.execute_reply": "2022-11-21T20:08:49.837553Z",
     "shell.execute_reply.started": "2022-11-21T20:08:49.832613Z"
    },
    "id": "7YcxBMJhl4EM"
   },
   "outputs": [],
   "source": [
    "#Model Parameter\n",
    "input_shape = (96, 96, 3)\n",
    "epochs = 100\n",
    "\n",
    "dropoutrate = 0.4\n",
    "elastic_lambda = 1e-4\n",
    "\n",
    "learningRate=1e-3"
   ]
  },
  {
   "cell_type": "code",
   "execution_count": 16,
   "metadata": {
    "execution": {
     "iopub.execute_input": "2022-11-21T20:10:29.181272Z",
     "iopub.status.busy": "2022-11-21T20:10:29.180877Z",
     "iopub.status.idle": "2022-11-21T20:10:29.197415Z",
     "shell.execute_reply": "2022-11-21T20:10:29.196278Z",
     "shell.execute_reply.started": "2022-11-21T20:10:29.181240Z"
    },
    "id": "ibdFPHBBvnmd"
   },
   "outputs": [],
   "source": [
    "def build_model(input_shape, dropoutrate,learningRate,elastic_lambda):\n",
    "    #------ Input Layer ------\n",
    "    input_layer = tfkl.Input(shape=input_shape, name='input_layer')\n",
    "    \n",
    "    #------ Convolution layer 1 ------\n",
    "    conv1 = tfkl.Conv2D(\n",
    "        filters=32,\n",
    "        kernel_size=3,\n",
    "        padding = 'same',\n",
    "        kernel_initializer = tfk.initializers.HeUniform(seed)\n",
    "    )(input_layer)\n",
    "    conv1 = tfkl.LeakyReLU()(conv1)\n",
    "    \n",
    "    #------ Pool Layer 1 ------\n",
    "    pool1 = tfkl.MaxPooling2D()(conv1)\n",
    "    \n",
    "    #------ Convolution layer 2 ------\n",
    "    conv2 = tfkl.Conv2D(\n",
    "        filters=64,\n",
    "        kernel_size=3,\n",
    "        padding = 'same',\n",
    "        kernel_initializer = tfk.initializers.HeUniform(seed)\n",
    "    )(pool1)\n",
    "    conv2 = tfkl.LeakyReLU()(conv2)\n",
    "    \n",
    "    #------ Pool Layer 2 ------\n",
    "    pool2 = tfkl.MaxPooling2D()(conv2)\n",
    "\n",
    "    #------ Convolution layer 3 ------\n",
    "    conv3 = tfkl.Conv2D(\n",
    "        filters=128,\n",
    "        kernel_size=3,\n",
    "        padding = 'same',\n",
    "        kernel_initializer = tfk.initializers.HeUniform(seed)\n",
    "    )(pool2)\n",
    "    conv3 = tfkl.LeakyReLU()(conv3)\n",
    "    \n",
    "    #------ Pool Layer 3 ------\n",
    "    pool3 = tfkl.MaxPooling2D()(conv3)\n",
    "    \n",
    "    #------ Convolution layer 4 ------\n",
    "    conv4 = tfkl.Conv2D(\n",
    "        filters=256,\n",
    "        kernel_size=3,\n",
    "        padding = 'same',\n",
    "        kernel_initializer = tfk.initializers.HeUniform(seed)\n",
    "    )(pool3)\n",
    "    conv4 = tfkl.LeakyReLU()(conv4)\n",
    "    \n",
    "    #------ Pool Layer 4 ------\n",
    "    pool4 = tfkl.MaxPooling2D()(conv4)\n",
    "    \n",
    "    #------ Global Averaging Pooling Layer ------\n",
    "    glob_pooling = tfkl.GlobalAveragePooling2D(name='GlobalPooling')(pool4)\n",
    "    \n",
    "    #------ Fully Conncented: hidden layer 1 ------\n",
    "    classifier_layer1 = tfkl.Dense(units=256,\n",
    "                                   name='Classifier1',\n",
    "                                   kernel_regularizer=tf.keras.regularizers.L1L2(elastic_lambda,elastic_lambda),\n",
    "                                   kernel_initializer=tfk.initializers.HeUniform(seed) \n",
    "                                  )(glob_pooling)\n",
    "    leaky_relu_layer_clas = tfkl.LeakyReLU()(classifier_layer1)\n",
    "    \n",
    "    #------ Drop Out ------\n",
    "    dropout = tfkl.Dropout(dropoutrate, seed=seed)(leaky_relu_layer_clas)\n",
    "    \n",
    "    #------ OutPut Layer------\n",
    "    output_layer = tfkl.Dense(units=8,\n",
    "                              activation='softmax',\n",
    "                              kernel_initializer=tfk.initializers.HeUniform(seed),\n",
    "                              name='output_layer')(dropout)\n",
    "\n",
    "    # Connect input and output through the Model class\n",
    "    model = tfk.Model(inputs=input_layer, outputs=output_layer, name='model')\n",
    "\n",
    "    # Compile the model, choose the optimizer and the loss\n",
    "    model.compile(loss=tfk.losses.CategoricalCrossentropy(), optimizer=tfk.optimizers.Adam(learningRate), metrics='accuracy')\n",
    "\n",
    "    # Return the model\n",
    "    return model"
   ]
  },
  {
   "cell_type": "code",
   "execution_count": 21,
   "metadata": {
    "execution": {
     "iopub.execute_input": "2022-11-21T20:16:15.697554Z",
     "iopub.status.busy": "2022-11-21T20:16:15.696814Z",
     "iopub.status.idle": "2022-11-21T20:16:15.785212Z",
     "shell.execute_reply": "2022-11-21T20:16:15.784050Z",
     "shell.execute_reply.started": "2022-11-21T20:16:15.697515Z"
    },
    "id": "NwsjIp_crOKq",
    "outputId": "2b442220-5365-4984-a1b0-b41a778bf58f"
   },
   "outputs": [
    {
     "name": "stdout",
     "output_type": "stream",
     "text": [
      "Model: \"model\"\n",
      "_________________________________________________________________\n",
      "Layer (type)                 Output Shape              Param #   \n",
      "=================================================================\n",
      "input_layer (InputLayer)     [(None, 96, 96, 3)]       0         \n",
      "_________________________________________________________________\n",
      "conv2d_4 (Conv2D)            (None, 96, 96, 32)        896       \n",
      "_________________________________________________________________\n",
      "leaky_re_lu_5 (LeakyReLU)    (None, 96, 96, 32)        0         \n",
      "_________________________________________________________________\n",
      "max_pooling2d_4 (MaxPooling2 (None, 48, 48, 32)        0         \n",
      "_________________________________________________________________\n",
      "conv2d_5 (Conv2D)            (None, 48, 48, 64)        18496     \n",
      "_________________________________________________________________\n",
      "leaky_re_lu_6 (LeakyReLU)    (None, 48, 48, 64)        0         \n",
      "_________________________________________________________________\n",
      "max_pooling2d_5 (MaxPooling2 (None, 24, 24, 64)        0         \n",
      "_________________________________________________________________\n",
      "conv2d_6 (Conv2D)            (None, 24, 24, 128)       73856     \n",
      "_________________________________________________________________\n",
      "leaky_re_lu_7 (LeakyReLU)    (None, 24, 24, 128)       0         \n",
      "_________________________________________________________________\n",
      "max_pooling2d_6 (MaxPooling2 (None, 12, 12, 128)       0         \n",
      "_________________________________________________________________\n",
      "conv2d_7 (Conv2D)            (None, 12, 12, 256)       295168    \n",
      "_________________________________________________________________\n",
      "leaky_re_lu_8 (LeakyReLU)    (None, 12, 12, 256)       0         \n",
      "_________________________________________________________________\n",
      "max_pooling2d_7 (MaxPooling2 (None, 6, 6, 256)         0         \n",
      "_________________________________________________________________\n",
      "GlobalPooling (GlobalAverage (None, 256)               0         \n",
      "_________________________________________________________________\n",
      "Classifier1 (Dense)          (None, 256)               65792     \n",
      "_________________________________________________________________\n",
      "leaky_re_lu_9 (LeakyReLU)    (None, 256)               0         \n",
      "_________________________________________________________________\n",
      "dropout_1 (Dropout)          (None, 256)               0         \n",
      "_________________________________________________________________\n",
      "output_layer (Dense)         (None, 8)                 2056      \n",
      "=================================================================\n",
      "Total params: 456,264\n",
      "Trainable params: 456,264\n",
      "Non-trainable params: 0\n",
      "_________________________________________________________________\n"
     ]
    }
   ],
   "source": [
    "# Build model\n",
    "model = build_model(input_shape, dropoutrate,learningRate,elastic_lambda)\n",
    "model.summary()"
   ]
  },
  {
   "cell_type": "code",
   "execution_count": 29,
   "metadata": {
    "execution": {
     "iopub.execute_input": "2022-11-21T20:27:14.859618Z",
     "iopub.status.busy": "2022-11-21T20:27:14.859328Z",
     "iopub.status.idle": "2022-11-21T20:27:14.900703Z",
     "shell.execute_reply": "2022-11-21T20:27:14.899737Z",
     "shell.execute_reply.started": "2022-11-21T20:27:14.859590Z"
    }
   },
   "outputs": [
    {
     "data": {
      "image/png": "[encoded data removed]",
      "text/plain": [
       "<PIL.Image.Image image mode=RGBA size=795x328>"
      ]
     },
     "execution_count": 29,
     "metadata": {},
     "output_type": "execute_result"
    }
   ],
   "source": [
    "#Graphical representation of the Model\n",
    "visualkeras.layered_view(model, legend=True, spacing=20, scale_xy=2)"
   ]
  },
  {
   "cell_type": "code",
   "execution_count": 22,
   "metadata": {
    "execution": {
     "iopub.execute_input": "2022-11-21T20:16:18.496576Z",
     "iopub.status.busy": "2022-11-21T20:16:18.496183Z",
     "iopub.status.idle": "2022-11-21T20:16:18.503446Z",
     "shell.execute_reply": "2022-11-21T20:16:18.502167Z",
     "shell.execute_reply.started": "2022-11-21T20:16:18.496542Z"
    },
    "id": "Hln5Up0XtOs9",
    "outputId": "cd1fe5cc-b88c-4597-ce03-71db1a562618"
   },
   "outputs": [],
   "source": [
    "# Create folders and callbacks and fit\n",
    "callbacks = []\n",
    "\n",
    "#----- Early Stopping ------\n",
    "es_callback = tf.keras.callbacks.EarlyStopping(monitor='val_accuracy', \n",
    "                                               patience=10, \n",
    "                                               restore_best_weights=True)\n",
    "callbacks.append(es_callback)\n",
    "\n",
    "#------ ReduceLROnPlateau ------\n",
    "red_lr_callback = tfk.callbacks.ReduceLROnPlateau(monitor='val_loss',\n",
    "                                                  patience=8, factor=0.3)\n",
    "callbacks.append(red_lr_callback)"
   ]
  },
  {
   "cell_type": "markdown",
   "metadata": {},
   "source": [
    "### It's Training Time!"
   ]
  },
  {
   "cell_type": "code",
   "execution_count": 23,
   "metadata": {
    "execution": {
     "iopub.execute_input": "2022-11-21T20:16:24.236254Z",
     "iopub.status.busy": "2022-11-21T20:16:24.235839Z",
     "iopub.status.idle": "2022-11-21T20:26:00.648331Z",
     "shell.execute_reply": "2022-11-21T20:26:00.647267Z",
     "shell.execute_reply.started": "2022-11-21T20:16:24.236219Z"
    }
   },
   "outputs": [
    {
     "name": "stdout",
     "output_type": "stream",
     "text": [
      "Epoch 1/100\n",
      "121/121 [==============================] - 14s 109ms/step - loss: 2.3455 - accuracy: 0.3043 - val_loss: 2.5993 - val_accuracy: 0.2708\n",
      "Epoch 2/100\n",
      "121/121 [==============================] - 13s 108ms/step - loss: 2.0201 - accuracy: 0.4149 - val_loss: 1.8892 - val_accuracy: 0.4667\n",
      "Epoch 3/100\n",
      "121/121 [==============================] - 13s 103ms/step - loss: 1.8443 - accuracy: 0.4699 - val_loss: 1.9408 - val_accuracy: 0.4042\n",
      "Epoch 4/100\n",
      "121/121 [==============================] - 14s 112ms/step - loss: 1.6908 - accuracy: 0.5075 - val_loss: 1.7477 - val_accuracy: 0.4542\n",
      "Epoch 5/100\n",
      "121/121 [==============================] - 13s 111ms/step - loss: 1.5886 - accuracy: 0.5339 - val_loss: 1.5956 - val_accuracy: 0.5042\n",
      "Epoch 6/100\n",
      "121/121 [==============================] - 13s 111ms/step - loss: 1.4705 - accuracy: 0.5659 - val_loss: 1.5122 - val_accuracy: 0.5500\n",
      "Epoch 7/100\n",
      "121/121 [==============================] - 12s 101ms/step - loss: 1.3761 - accuracy: 0.5892 - val_loss: 1.3201 - val_accuracy: 0.6042\n",
      "Epoch 8/100\n",
      "121/121 [==============================] - 13s 107ms/step - loss: 1.2974 - accuracy: 0.6102 - val_loss: 1.2453 - val_accuracy: 0.5958\n",
      "Epoch 9/100\n",
      "121/121 [==============================] - 13s 111ms/step - loss: 1.1997 - accuracy: 0.6401 - val_loss: 1.3296 - val_accuracy: 0.6125\n",
      "Epoch 10/100\n",
      "121/121 [==============================] - 13s 109ms/step - loss: 1.1411 - accuracy: 0.6514 - val_loss: 1.2133 - val_accuracy: 0.5792\n",
      "Epoch 11/100\n",
      "121/121 [==============================] - 13s 108ms/step - loss: 1.0924 - accuracy: 0.6698 - val_loss: 1.2177 - val_accuracy: 0.6250\n",
      "Epoch 12/100\n",
      "121/121 [==============================] - 12s 103ms/step - loss: 1.0290 - accuracy: 0.6898 - val_loss: 1.1236 - val_accuracy: 0.6917\n",
      "Epoch 13/100\n",
      "121/121 [==============================] - 13s 107ms/step - loss: 0.9791 - accuracy: 0.7077 - val_loss: 1.2579 - val_accuracy: 0.5792\n",
      "Epoch 14/100\n",
      "121/121 [==============================] - 12s 103ms/step - loss: 0.9321 - accuracy: 0.7225 - val_loss: 1.0277 - val_accuracy: 0.6750\n",
      "Epoch 15/100\n",
      "121/121 [==============================] - 13s 107ms/step - loss: 0.8856 - accuracy: 0.7343 - val_loss: 0.9844 - val_accuracy: 0.6917\n",
      "Epoch 16/100\n",
      "121/121 [==============================] - 13s 103ms/step - loss: 0.8503 - accuracy: 0.7448 - val_loss: 0.9244 - val_accuracy: 0.7083\n",
      "Epoch 17/100\n",
      "121/121 [==============================] - 13s 109ms/step - loss: 0.8245 - accuracy: 0.7517 - val_loss: 1.0897 - val_accuracy: 0.6833\n",
      "Epoch 18/100\n",
      "121/121 [==============================] - 13s 108ms/step - loss: 0.7819 - accuracy: 0.7703 - val_loss: 1.0666 - val_accuracy: 0.6583\n",
      "Epoch 19/100\n",
      "121/121 [==============================] - 12s 101ms/step - loss: 0.7803 - accuracy: 0.7600 - val_loss: 0.8610 - val_accuracy: 0.7250\n",
      "Epoch 20/100\n",
      "121/121 [==============================] - 13s 109ms/step - loss: 0.7319 - accuracy: 0.7841 - val_loss: 0.9538 - val_accuracy: 0.6917\n",
      "Epoch 21/100\n",
      "121/121 [==============================] - 13s 106ms/step - loss: 0.7051 - accuracy: 0.7897 - val_loss: 0.9058 - val_accuracy: 0.7083\n",
      "Epoch 22/100\n",
      "121/121 [==============================] - 13s 108ms/step - loss: 0.6874 - accuracy: 0.7942 - val_loss: 0.9583 - val_accuracy: 0.6917\n",
      "Epoch 23/100\n",
      "121/121 [==============================] - 13s 106ms/step - loss: 0.6399 - accuracy: 0.8141 - val_loss: 0.8807 - val_accuracy: 0.7167\n",
      "Epoch 24/100\n",
      "121/121 [==============================] - 13s 108ms/step - loss: 0.6261 - accuracy: 0.8157 - val_loss: 0.7366 - val_accuracy: 0.7792\n",
      "Epoch 25/100\n",
      "121/121 [==============================] - 13s 105ms/step - loss: 0.6030 - accuracy: 0.8198 - val_loss: 0.9459 - val_accuracy: 0.7375\n",
      "Epoch 26/100\n",
      "121/121 [==============================] - 13s 104ms/step - loss: 0.5934 - accuracy: 0.8279 - val_loss: 0.9112 - val_accuracy: 0.7583\n",
      "Epoch 27/100\n",
      "121/121 [==============================] - 13s 109ms/step - loss: 0.5534 - accuracy: 0.8439 - val_loss: 0.8260 - val_accuracy: 0.7667\n",
      "Epoch 28/100\n",
      "121/121 [==============================] - 13s 107ms/step - loss: 0.5235 - accuracy: 0.8512 - val_loss: 0.8148 - val_accuracy: 0.7625\n",
      "Epoch 29/100\n",
      "121/121 [==============================] - 13s 111ms/step - loss: 0.5283 - accuracy: 0.8538 - val_loss: 0.8718 - val_accuracy: 0.7458\n",
      "Epoch 30/100\n",
      "121/121 [==============================] - 12s 102ms/step - loss: 0.5131 - accuracy: 0.8568 - val_loss: 0.9871 - val_accuracy: 0.7417\n",
      "Epoch 31/100\n",
      "121/121 [==============================] - 12s 99ms/step - loss: 0.4850 - accuracy: 0.8696 - val_loss: 0.7963 - val_accuracy: 0.7708\n",
      "Epoch 32/100\n",
      "121/121 [==============================] - 13s 108ms/step - loss: 0.4354 - accuracy: 0.8845 - val_loss: 0.8021 - val_accuracy: 0.7917\n",
      "Epoch 33/100\n",
      "121/121 [==============================] - 12s 102ms/step - loss: 0.3340 - accuracy: 0.9281 - val_loss: 0.7234 - val_accuracy: 0.8125\n",
      "Epoch 34/100\n",
      "121/121 [==============================] - 13s 108ms/step - loss: 0.3067 - accuracy: 0.9362 - val_loss: 0.7859 - val_accuracy: 0.7958\n",
      "Epoch 35/100\n",
      "121/121 [==============================] - 12s 99ms/step - loss: 0.2959 - accuracy: 0.9412 - val_loss: 0.9097 - val_accuracy: 0.7750\n",
      "Epoch 36/100\n",
      "121/121 [==============================] - 13s 106ms/step - loss: 0.2932 - accuracy: 0.9374 - val_loss: 0.7586 - val_accuracy: 0.7917\n",
      "Epoch 37/100\n",
      "121/121 [==============================] - 13s 109ms/step - loss: 0.2854 - accuracy: 0.9433 - val_loss: 0.8391 - val_accuracy: 0.7917\n",
      "Epoch 38/100\n",
      "121/121 [==============================] - 12s 98ms/step - loss: 0.2741 - accuracy: 0.9457 - val_loss: 0.8286 - val_accuracy: 0.7750\n",
      "Epoch 39/100\n",
      "121/121 [==============================] - 13s 103ms/step - loss: 0.2675 - accuracy: 0.9488 - val_loss: 0.8320 - val_accuracy: 0.7875\n",
      "Epoch 40/100\n",
      "121/121 [==============================] - 13s 103ms/step - loss: 0.2560 - accuracy: 0.9514 - val_loss: 0.8020 - val_accuracy: 0.8000\n",
      "Epoch 41/100\n",
      "121/121 [==============================] - 13s 105ms/step - loss: 0.2512 - accuracy: 0.9543 - val_loss: 0.7989 - val_accuracy: 0.7875\n",
      "Epoch 42/100\n",
      "121/121 [==============================] - 13s 104ms/step - loss: 0.2205 - accuracy: 0.9672 - val_loss: 0.7550 - val_accuracy: 0.8083\n",
      "Epoch 43/100\n",
      "121/121 [==============================] - 12s 103ms/step - loss: 0.2127 - accuracy: 0.9720 - val_loss: 0.7826 - val_accuracy: 0.8000\n"
     ]
    }
   ],
   "source": [
    "# Train the model\n",
    "history = model.fit(\n",
    "    x = train_data,\n",
    "    epochs = epochs,\n",
    "    validation_data = validation_data,\n",
    "    callbacks = callbacks,\n",
    ").history"
   ]
  },
  {
   "cell_type": "markdown",
   "metadata": {},
   "source": [
    "# Model Evaluation"
   ]
  },
  {
   "cell_type": "code",
   "execution_count": 25,
   "metadata": {
    "execution": {
     "iopub.execute_input": "2022-11-21T20:26:25.544354Z",
     "iopub.status.busy": "2022-11-21T20:26:25.543592Z",
     "iopub.status.idle": "2022-11-21T20:26:25.988753Z",
     "shell.execute_reply": "2022-11-21T20:26:25.987754Z",
     "shell.execute_reply.started": "2022-11-21T20:26:25.544315Z"
    }
   },
   "outputs": [
    {
     "data": {
      "image/png": "[encoded data removed]",
      "text/plain": [
       "<Figure size 720x216 with 1 Axes>"
      ]
     },
     "metadata": {
      "needs_background": "light"
     },
     "output_type": "display_data"
    },
    {
     "data": {
      "image/png": "[encoded data removed]",
      "text/plain": [
       "<Figure size 720x216 with 1 Axes>"
      ]
     },
     "metadata": {
      "needs_background": "light"
     },
     "output_type": "display_data"
    }
   ],
   "source": [
    "# Plot the Accuracy and The Loss of The Model during the Training Phase\n",
    "\n",
    "#Loss\n",
    "plt.figure(figsize=(10,3))\n",
    "plt.plot(history['loss'], label='Training', alpha=.8, color='#ff7f0e')\n",
    "plt.plot(history['val_loss'], label='Validation', alpha=.8, color='#4D61E2')\n",
    "plt.legend(loc='upper left')\n",
    "plt.title('Loss')\n",
    "plt.grid(alpha=.3)\n",
    "\n",
    "#Accuracy \n",
    "plt.figure(figsize=(10,3))\n",
    "plt.plot(history['accuracy'], label='Training', alpha=.8, color='#ff7f0e')\n",
    "plt.plot(history['val_accuracy'], label='Validation', alpha=.8, color='#4D61E2')\n",
    "plt.legend(loc='upper left')\n",
    "plt.title('Accuracy')\n",
    "plt.grid(alpha=.3)\n",
    "\n",
    "plt.show()"
   ]
  },
  {
   "cell_type": "code",
   "execution_count": 30,
   "metadata": {
    "execution": {
     "iopub.execute_input": "2022-11-21T20:27:21.198714Z",
     "iopub.status.busy": "2022-11-21T20:27:21.197552Z",
     "iopub.status.idle": "2022-11-21T20:27:22.117579Z",
     "shell.execute_reply": "2022-11-21T20:27:22.116060Z",
     "shell.execute_reply.started": "2022-11-21T20:27:21.198647Z"
    }
   },
   "outputs": [
    {
     "name": "stdout",
     "output_type": "stream",
     "text": [
      "Confusion Matrix\n"
     ]
    },
    {
     "data": {
      "image/png": "[encoded data removed]",
      "text/plain": [
       "<Figure size 360x360 with 2 Axes>"
      ]
     },
     "metadata": {
      "needs_background": "light"
     },
     "output_type": "display_data"
    },
    {
     "name": "stdout",
     "output_type": "stream",
     "text": [
      "4/4 [==============================] - 0s 49ms/step - loss: 0.7234 - accuracy: 0.8125\n",
      "{'loss': 0.723436713218689, 'accuracy': 0.8125}\n"
     ]
    }
   ],
   "source": [
    "#Compute some Evaluation Metric on the Validation Set\n",
    "\n",
    "#Make the Predcition on the Dataset\n",
    "Y_pred = model.predict(validation_data)\n",
    "y_pred = np.argmax(Y_pred, axis=1)\n",
    "\n",
    "#Draw The confusion Matrix\n",
    "print('Confusion Matrix')\n",
    "cm=confusion_matrix(validation_data.classes, y_pred);\n",
    "plt.figure(figsize=(5,5))\n",
    "sns.heatmap(cm.T, xticklabels=labels, yticklabels=labels)\n",
    "plt.xlabel('True labels')\n",
    "plt.ylabel('Predicted labels')\n",
    "plt.show()\n",
    "\n",
    "#Print Accuracy on The Validation Set\n",
    "metrics = model.evaluate(validation_data, return_dict=True)\n",
    "print(metrics)"
   ]
  },
  {
   "cell_type": "code",
   "execution_count": 33,
   "metadata": {
    "execution": {
     "iopub.execute_input": "2022-11-21T20:28:21.835330Z",
     "iopub.status.busy": "2022-11-21T20:28:21.834604Z",
     "iopub.status.idle": "2022-11-21T20:28:22.666936Z",
     "shell.execute_reply": "2022-11-21T20:28:22.665770Z",
     "shell.execute_reply.started": "2022-11-21T20:28:21.835295Z"
    }
   },
   "outputs": [
    {
     "name": "stdout",
     "output_type": "stream",
     "text": [
      "Confusion Matrix\n"
     ]
    },
    {
     "data": {
      "image/png": "[encoded data removed]",
      "text/plain": [
       "<Figure size 360x360 with 2 Axes>"
      ]
     },
     "metadata": {
      "needs_background": "light"
     },
     "output_type": "display_data"
    },
    {
     "name": "stdout",
     "output_type": "stream",
     "text": [
      "3/3 [==============================] - 0s 36ms/step - loss: 0.7553 - accuracy: 0.8125\n",
      "{'loss': 0.7553051710128784, 'accuracy': 0.8125}\n"
     ]
    }
   ],
   "source": [
    "#Compute some Evaluation Metric on the Test Set\n",
    "\n",
    "#Make the Predcition on the Dataset\n",
    "Y_pred = model.predict(test_data)\n",
    "Test_y_pred = np.argmax(Y_pred, axis=1)\n",
    "\n",
    "#Draw The confusion Matrix\n",
    "print('Confusion Matrix')\n",
    "cm=confusion_matrix(test_data.classes, Test_y_pred);\n",
    "plt.figure(figsize=(5,5))\n",
    "sns.heatmap(cm.T, xticklabels=labels, yticklabels=labels)\n",
    "plt.xlabel('True labels')\n",
    "plt.ylabel('Predicted labels')\n",
    "plt.show()\n",
    "\n",
    "#Print Accuracy on The Test Set\n",
    "metrics = model.evaluate(test_data, return_dict=True)\n",
    "print(metrics)"
   ]
  },
  {
   "cell_type": "code",
   "execution_count": 34,
   "metadata": {
    "execution": {
     "iopub.execute_input": "2022-11-21T20:28:26.527277Z",
     "iopub.status.busy": "2022-11-21T20:28:26.526531Z",
     "iopub.status.idle": "2022-11-21T20:28:26.542189Z",
     "shell.execute_reply": "2022-11-21T20:28:26.541038Z",
     "shell.execute_reply.started": "2022-11-21T20:28:26.527238Z"
    }
   },
   "outputs": [
    {
     "name": "stdout",
     "output_type": "stream",
     "text": [
      "              precision    recall  f1-score   support\n",
      "\n",
      "           0       0.79      0.55      0.65        20\n",
      "           1       0.89      0.80      0.84        20\n",
      "           2       0.89      0.85      0.87        20\n",
      "           3       0.77      0.85      0.81        20\n",
      "           4       0.86      0.95      0.90        20\n",
      "           5       0.89      0.85      0.87        20\n",
      "           6       0.82      0.90      0.86        20\n",
      "           7       0.62      0.75      0.68        20\n",
      "\n",
      "    accuracy                           0.81       160\n",
      "   macro avg       0.82      0.81      0.81       160\n",
      "weighted avg       0.82      0.81      0.81       160\n",
      "\n"
     ]
    }
   ],
   "source": [
    "#Print a More accurate Report on the TestData evaluated Dataset\n",
    "print(classification_report(test_data.classes, Test_y_pred))"
   ]
  },
  {
   "cell_type": "markdown",
   "metadata": {},
   "source": [
    "### Model Management"
   ]
  },
  {
   "cell_type": "code",
   "execution_count": 24,
   "metadata": {
    "execution": {
     "iopub.execute_input": "2022-11-21T20:26:00.650828Z",
     "iopub.status.busy": "2022-11-21T20:26:00.650385Z",
     "iopub.status.idle": "2022-11-21T20:26:02.978847Z",
     "shell.execute_reply": "2022-11-21T20:26:02.977588Z",
     "shell.execute_reply.started": "2022-11-21T20:26:00.650784Z"
    },
    "id": "U6m-yQ1bug3o",
    "outputId": "8b97964c-fa89-4b13-c428-e5341d2f0cee"
   },
   "outputs": [],
   "source": [
    "# Save The Model\n",
    "name = \"FromScratchModel\"\n",
    "model.save(name)"
   ]
  }
 ],
 "metadata": {
  "kernelspec": {
   "display_name": "Python 3 (ipykernel)",
   "language": "python",
   "name": "python3"
  },
  "language_info": {
   "codemirror_mode": {
    "name": "ipython",
    "version": 3
   },
   "file_extension": ".py",
   "mimetype": "text/x-python",
   "name": "python",
   "nbconvert_exporter": "python",
   "pygments_lexer": "ipython3",
   "version": "3.10.8"
  }
 },
 "nbformat": 4,
 "nbformat_minor": 4
}

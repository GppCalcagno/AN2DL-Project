{
 "cells": [
  {
   "cell_type": "markdown",
   "id": "8b05e758",
   "metadata": {
    "papermill": {
     "duration": 0.009061,
     "end_time": "2022-11-23T18:45:42.132758",
     "exception": false,
     "start_time": "2022-11-23T18:45:42.123697",
     "status": "completed"
    },
    "tags": []
   },
   "source": [
    "# Transfer learning and Fine-tuning with ConvNeXt model"
   ]
  },
  {
   "cell_type": "markdown",
   "id": "652cefa0",
   "metadata": {},
   "source": [
    "## Import libraries and suppressing of warnings"
   ]
  },
  {
   "cell_type": "code",
   "execution_count": null,
   "id": "face47ac",
   "metadata": {},
   "outputs": [],
   "source": [
    "# ConvNeXt model available from version 2.11\n",
    "!pip install tensorflow --upgrade"
   ]
  },
  {
   "cell_type": "code",
   "execution_count": 21,
   "id": "a996082c",
   "metadata": {
    "execution": {
     "iopub.execute_input": "2022-11-26T17:07:19.878330Z",
     "iopub.status.busy": "2022-11-26T17:07:19.877698Z",
     "iopub.status.idle": "2022-11-26T17:07:31.740590Z",
     "shell.execute_reply": "2022-11-26T17:07:31.739445Z",
     "shell.execute_reply.started": "2022-11-26T17:07:19.878286Z"
    },
    "papermill": {
     "duration": 10.769718,
     "end_time": "2022-11-23T18:45:52.910293",
     "exception": false,
     "start_time": "2022-11-23T18:45:42.140575",
     "status": "completed"
    },
    "tags": []
   },
   "outputs": [
    {
     "name": "stdout",
     "output_type": "stream",
     "text": [
      "Collecting split-folders\n",
      "  Downloading split_folders-0.5.1-py3-none-any.whl (8.4 kB)\n",
      "Installing collected packages: split-folders\n",
      "Successfully installed split-folders-0.5.1\n",
      "\u001b[33mWARNING: Running pip as the 'root' user can result in broken permissions and conflicting behaviour with the system package manager. It is recommended to use a virtual environment instead: https://pip.pypa.io/warnings/venv\u001b[0m\u001b[33m\n",
      "\u001b[0m"
     ]
    }
   ],
   "source": [
    "!pip install split-folders\n",
    "import splitfolders"
   ]
  },
  {
   "cell_type": "code",
   "execution_count": 1,
   "id": "8faa27b2",
   "metadata": {
    "execution": {
     "iopub.execute_input": "2022-11-26T22:13:46.816662Z",
     "iopub.status.busy": "2022-11-26T22:13:46.816168Z",
     "iopub.status.idle": "2022-11-26T22:13:52.655404Z",
     "shell.execute_reply": "2022-11-26T22:13:52.654310Z",
     "shell.execute_reply.started": "2022-11-26T22:13:46.816568Z"
    },
    "papermill": {
     "duration": 6.151352,
     "end_time": "2022-11-23T18:45:59.070039",
     "exception": false,
     "start_time": "2022-11-23T18:45:52.918687",
     "status": "completed"
    },
    "tags": []
   },
   "outputs": [
    {
     "name": "stdout",
     "output_type": "stream",
     "text": [
      "2.6.4\n"
     ]
    }
   ],
   "source": [
    "import tensorflow as tf\n",
    "import numpy as np\n",
    "import os\n",
    "import random\n",
    "import pandas as pd\n",
    "import seaborn as sns\n",
    "import matplotlib as mpl\n",
    "import matplotlib.pyplot as plt\n",
    "from sklearn.model_selection import train_test_split\n",
    "from sklearn.metrics import accuracy_score, f1_score, precision_score, recall_score, classification_report, confusion_matrix\n",
    "from PIL import Image\n",
    "\n",
    "from tensorflow.keras.preprocessing.image import ImageDataGenerator\n",
    "\n",
    "import shutil\n",
    "\n",
    "tfk = tf.keras\n",
    "tfkl = tf.keras.layers\n",
    "print(tf.__version__)\n",
    "\n",
    "import warnings\n",
    "import logging\n",
    "\n",
    "os.environ['TF_CPP_MIN_LOG_LEVEL'] = '2'\n",
    "warnings.simplefilter(action='ignore', category=FutureWarning)\n",
    "warnings.simplefilter(action='ignore', category=Warning)\n",
    "tf.get_logger().setLevel('INFO')\n",
    "tf.autograph.set_verbosity(0)\n",
    "\n",
    "tf.get_logger().setLevel(logging.ERROR)\n",
    "tf.get_logger().setLevel('ERROR')\n",
    "tf.compat.v1.logging.set_verbosity(tf.compat.v1.logging.ERROR)\n",
    "\n",
    "# Random seed for reproducibility\n",
    "seed = 22\n",
    "\n",
    "random.seed(seed)\n",
    "os.environ['PYTHONHASHSEED'] = str(seed)\n",
    "np.random.seed(seed)\n",
    "tf.random.set_seed(seed)\n",
    "tf.compat.v1.set_random_seed(seed)"
   ]
  },
  {
   "cell_type": "code",
   "execution_count": 2,
   "id": "bbce341b",
   "metadata": {
    "execution": {
     "iopub.execute_input": "2022-11-26T22:13:56.469066Z",
     "iopub.status.busy": "2022-11-26T22:13:56.468455Z",
     "iopub.status.idle": "2022-11-26T22:13:56.474122Z",
     "shell.execute_reply": "2022-11-26T22:13:56.473052Z",
     "shell.execute_reply.started": "2022-11-26T22:13:56.469010Z"
    },
    "papermill": {
     "duration": 0.022173,
     "end_time": "2022-11-23T18:45:59.129297",
     "exception": false,
     "start_time": "2022-11-23T18:45:59.107124",
     "status": "completed"
    },
    "tags": []
   },
   "outputs": [],
   "source": [
    "labels = [\n",
    "    \"Species1\",  #1\n",
    "    \"Species2\",  #2\n",
    "    \"Species3\",  #3\n",
    "    \"Species4\",  #4\n",
    "    \"Species5\",  #5\n",
    "    \"Species6\",  #6\n",
    "    \"Species7\",  #7\n",
    "    \"Species8\",  #8\n",
    "]"
   ]
  },
  {
   "cell_type": "markdown",
   "id": "41d04922",
   "metadata": {
    "papermill": {
     "duration": 0.011362,
     "end_time": "2022-11-23T18:45:59.152433",
     "exception": false,
     "start_time": "2022-11-23T18:45:59.141071",
     "status": "completed"
    },
    "tags": []
   },
   "source": [
    "## Dataset splitting"
   ]
  },
  {
   "cell_type": "code",
   "execution_count": 24,
   "id": "0aac97b3",
   "metadata": {
    "execution": {
     "iopub.execute_input": "2022-11-26T17:07:31.846475Z",
     "iopub.status.busy": "2022-11-26T17:07:31.846000Z",
     "iopub.status.idle": "2022-11-26T17:07:52.704962Z",
     "shell.execute_reply": "2022-11-26T17:07:52.703937Z",
     "shell.execute_reply.started": "2022-11-26T17:07:31.846440Z"
    },
    "papermill": {
     "duration": 16.377761,
     "end_time": "2022-11-23T18:46:15.541804",
     "exception": false,
     "start_time": "2022-11-23T18:45:59.164043",
     "status": "completed"
    },
    "tags": []
   },
   "outputs": [
    {
     "name": "stdout",
     "output_type": "stream",
     "text": [
      "splitting dataset\n"
     ]
    },
    {
     "name": "stderr",
     "output_type": "stream",
     "text": [
      "Copying files: 3542 files [00:20, 170.03 files/s]\n"
     ]
    }
   ],
   "source": [
    "dataset_dir = './dataset'\n",
    "\n",
    "if not(os.path.exists(dataset_dir)) :\n",
    "    print('splitting dataset')\n",
    "    \n",
    "    splitfolders.fixed(\"../input/an2dl-data/training_data_final\", \n",
    "                       output=\"dataset\",\n",
    "                       seed=seed, \n",
    "                       fixed=(35),\n",
    "                       oversample=False, \n",
    "                       group_prefix=None, \n",
    "                       move=False)\n",
    "\n",
    "# Setting dataset directories\n",
    "training_dir = os.path.join(dataset_dir, 'train')\n",
    "validation_dir = os.path.join(dataset_dir, 'val')"
   ]
  },
  {
   "cell_type": "code",
   "execution_count": 3,
   "id": "aa247665",
   "metadata": {
    "execution": {
     "iopub.execute_input": "2022-11-26T22:14:01.709418Z",
     "iopub.status.busy": "2022-11-26T22:14:01.709055Z",
     "iopub.status.idle": "2022-11-26T22:14:01.714515Z",
     "shell.execute_reply": "2022-11-26T22:14:01.713581Z",
     "shell.execute_reply.started": "2022-11-26T22:14:01.709388Z"
    },
    "papermill": {
     "duration": 0.023107,
     "end_time": "2022-11-23T18:46:15.580783",
     "exception": false,
     "start_time": "2022-11-23T18:46:15.557676",
     "status": "completed"
    },
    "tags": []
   },
   "outputs": [],
   "source": [
    "# To count the images per class\n",
    "def count_dir_files(dir):\n",
    "    count_dir = {}\n",
    "    for sp in labels:\n",
    "        count_dir[sp] = len(os.listdir(dir+sp))\n",
    "\n",
    "    return count_dir"
   ]
  },
  {
   "cell_type": "code",
   "execution_count": 26,
   "id": "fe7f0160",
   "metadata": {
    "execution": {
     "iopub.execute_input": "2022-11-26T17:07:52.717254Z",
     "iopub.status.busy": "2022-11-26T17:07:52.716436Z",
     "iopub.status.idle": "2022-11-26T17:07:52.731693Z",
     "shell.execute_reply": "2022-11-26T17:07:52.730629Z",
     "shell.execute_reply.started": "2022-11-26T17:07:52.717203Z"
    },
    "papermill": {
     "duration": 0.027751,
     "end_time": "2022-11-23T18:46:15.623769",
     "exception": false,
     "start_time": "2022-11-23T18:46:15.596018",
     "status": "completed"
    },
    "tags": []
   },
   "outputs": [],
   "source": [
    "# This function is used for oversampling. It creates augmented copies of the images\n",
    "def augm_img(dir_noaug,dir_aug,image_generator_train, img_cnt, labels):\n",
    "    \n",
    "    # Create a new directory and copy into it the content of the one splitted\n",
    "    shutil.copytree('./'+dir_noaug, './'+dir_aug)\n",
    "    \n",
    "    count_dict = count_dir_files('./'+dir_noaug+'/train/')\n",
    "    \n",
    "    for lab in labels:\n",
    "        count_to_reach = img_cnt - count_dict[lab]\n",
    "        fin_iter = 0\n",
    "        iterations = int(count_to_reach / count_dict[lab])\n",
    "        if count_to_reach > count_dict[lab]:\n",
    "            partial_tot = iterations*count_dict[lab]\n",
    "            \n",
    "            fin_iter = count_to_reach - partial_tot\n",
    "\n",
    "        elif count_to_reach < count_dict[lab]:\n",
    "            fin_iter = count_to_reach\n",
    "        \n",
    "        data_gen_spec = image_generator_train.flow_from_directory(directory='./'+dir_noaug+'/train',\n",
    "                                                                  target_size = (96,96),\n",
    "                                                                  color_mode = 'rgb',\n",
    "                                                                  classes=[lab],\n",
    "                                                                  batch_size=count_dict[lab],\n",
    "                                                                  shuffle = True,\n",
    "                                                                  save_to_dir='./'+dir_aug+'/train/'+lab,\n",
    "                                                                  save_format='jpg',\n",
    "                                                                  save_prefix=\"augmented\")\n",
    "\n",
    "        for i in range(iterations):\n",
    "            data_gen_spec.next()\n",
    "            \n",
    "        if fin_iter != 0:\n",
    "            data_gen_spec = image_generator_train.flow_from_directory(directory='./'+dir_noaug+'/train',\n",
    "                                                                      target_size = (96,96),\n",
    "                                                                      color_mode = 'rgb',\n",
    "                                                                      classes=[lab],\n",
    "                                                                      batch_size=fin_iter,\n",
    "                                                                      shuffle = True,\n",
    "                                                                      save_to_dir='./'+dir_aug+'/train/'+lab,\n",
    "                                                                      save_format='jpg',\n",
    "                                                                      save_prefix=\"augmented\")\n",
    "            data_gen_spec.next()"
   ]
  },
  {
   "cell_type": "code",
   "execution_count": 27,
   "id": "ef6e7a49",
   "metadata": {
    "execution": {
     "iopub.execute_input": "2022-11-26T17:07:52.735485Z",
     "iopub.status.busy": "2022-11-26T17:07:52.735030Z",
     "iopub.status.idle": "2022-11-26T17:07:52.743797Z",
     "shell.execute_reply": "2022-11-26T17:07:52.742877Z",
     "shell.execute_reply.started": "2022-11-26T17:07:52.735459Z"
    },
    "papermill": {
     "duration": 0.02287,
     "end_time": "2022-11-23T18:46:15.661884",
     "exception": false,
     "start_time": "2022-11-23T18:46:15.639014",
     "status": "completed"
    },
    "tags": []
   },
   "outputs": [],
   "source": [
    "#Image Generator For Augmetation\n",
    "image_generator_aug = ImageDataGenerator(rotation_range=90, \n",
    "                                         width_shift_range=0.3,\n",
    "                                         height_shift_range=0.3,\n",
    "                                         horizontal_flip=True,\n",
    "                                         brightness_range=(0.7,1.1),\n",
    "                                         vertical_flip=True,\n",
    "                                         zoom_range=0.1, \n",
    "                                         fill_mode='reflect')"
   ]
  },
  {
   "cell_type": "code",
   "execution_count": 4,
   "id": "4ca14a6e",
   "metadata": {
    "execution": {
     "iopub.execute_input": "2022-11-26T22:14:07.537786Z",
     "iopub.status.busy": "2022-11-26T22:14:07.537428Z",
     "iopub.status.idle": "2022-11-26T22:14:07.543002Z",
     "shell.execute_reply": "2022-11-26T22:14:07.542084Z",
     "shell.execute_reply.started": "2022-11-26T22:14:07.537757Z"
    },
    "papermill": {
     "duration": 0.023396,
     "end_time": "2022-11-23T18:46:15.700389",
     "exception": false,
     "start_time": "2022-11-23T18:46:15.676993",
     "status": "completed"
    },
    "tags": []
   },
   "outputs": [],
   "source": [
    "dataset_dir=\"./datasetAug\"\n",
    "training_dir = os.path.join(dataset_dir, 'train')\n",
    "validation_dir = os.path.join(dataset_dir, 'val')"
   ]
  },
  {
   "cell_type": "code",
   "execution_count": 29,
   "id": "0a8a3e2d",
   "metadata": {
    "execution": {
     "iopub.execute_input": "2022-11-26T17:07:52.755047Z",
     "iopub.status.busy": "2022-11-26T17:07:52.754624Z",
     "iopub.status.idle": "2022-11-26T17:09:14.385396Z",
     "shell.execute_reply": "2022-11-26T17:09:14.384446Z",
     "shell.execute_reply.started": "2022-11-26T17:07:52.754951Z"
    },
    "papermill": {
     "duration": 78.063409,
     "end_time": "2022-11-23T18:47:33.779027",
     "exception": false,
     "start_time": "2022-11-23T18:46:15.715618",
     "status": "completed"
    },
    "tags": []
   },
   "outputs": [
    {
     "name": "stdout",
     "output_type": "stream",
     "text": [
      "Found 151 images belonging to 1 classes.\n",
      "Found 151 images belonging to 1 classes.\n",
      "Found 497 images belonging to 1 classes.\n",
      "Found 497 images belonging to 1 classes.\n",
      "Found 480 images belonging to 1 classes.\n",
      "Found 480 images belonging to 1 classes.\n",
      "Found 476 images belonging to 1 classes.\n",
      "Found 476 images belonging to 1 classes.\n",
      "Found 496 images belonging to 1 classes.\n",
      "Found 496 images belonging to 1 classes.\n",
      "Found 187 images belonging to 1 classes.\n",
      "Found 187 images belonging to 1 classes.\n",
      "Found 502 images belonging to 1 classes.\n",
      "Found 502 images belonging to 1 classes.\n",
      "Found 473 images belonging to 1 classes.\n",
      "Found 473 images belonging to 1 classes.\n"
     ]
    }
   ],
   "source": [
    "# We augmented all images until we reach 3000 images per class\n",
    "augm_img('dataset','datasetAug',image_generator_aug, 3000, labels)"
   ]
  },
  {
   "cell_type": "code",
   "execution_count": 5,
   "id": "993ea2d3",
   "metadata": {
    "execution": {
     "iopub.execute_input": "2022-11-26T22:14:10.556906Z",
     "iopub.status.busy": "2022-11-26T22:14:10.556335Z",
     "iopub.status.idle": "2022-11-26T22:14:10.579321Z",
     "shell.execute_reply": "2022-11-26T22:14:10.578237Z",
     "shell.execute_reply.started": "2022-11-26T22:14:10.556870Z"
    },
    "papermill": {
     "duration": 0.063049,
     "end_time": "2022-11-23T18:47:33.869515",
     "exception": false,
     "start_time": "2022-11-23T18:47:33.806466",
     "status": "completed"
    },
    "tags": []
   },
   "outputs": [
    {
     "data": {
      "text/plain": [
       "{'Species1': 3000,\n",
       " 'Species2': 3000,\n",
       " 'Species3': 3000,\n",
       " 'Species4': 3000,\n",
       " 'Species5': 3000,\n",
       " 'Species6': 2999,\n",
       " 'Species7': 3000,\n",
       " 'Species8': 3000}"
      ]
     },
     "execution_count": 5,
     "metadata": {},
     "output_type": "execute_result"
    }
   ],
   "source": [
    "count_dir_files(dataset_dir+\"/train/\")"
   ]
  },
  {
   "cell_type": "markdown",
   "id": "76b45d88",
   "metadata": {
    "papermill": {
     "duration": 0.026795,
     "end_time": "2022-11-23T18:47:33.922883",
     "exception": false,
     "start_time": "2022-11-23T18:47:33.896088",
     "status": "completed"
    },
    "tags": []
   },
   "source": [
    "## Load dataset with ImageDataGenerator"
   ]
  },
  {
   "cell_type": "code",
   "execution_count": 6,
   "id": "b60059d3",
   "metadata": {
    "execution": {
     "iopub.execute_input": "2022-11-26T22:14:14.236323Z",
     "iopub.status.busy": "2022-11-26T22:14:14.235942Z",
     "iopub.status.idle": "2022-11-26T22:14:15.534176Z",
     "shell.execute_reply": "2022-11-26T22:14:15.533230Z",
     "shell.execute_reply.started": "2022-11-26T22:14:14.236288Z"
    },
    "papermill": {
     "duration": 1.1837,
     "end_time": "2022-11-23T18:47:35.133524",
     "exception": false,
     "start_time": "2022-11-23T18:47:33.949824",
     "status": "completed"
    },
    "tags": []
   },
   "outputs": [
    {
     "name": "stdout",
     "output_type": "stream",
     "text": [
      "Found 23999 images belonging to 8 classes.\n",
      "Found 280 images belonging to 8 classes.\n"
     ]
    }
   ],
   "source": [
    "image_generator_preprocessing = ImageDataGenerator()\n",
    "\n",
    "train_data = image_generator_preprocessing.flow_from_directory(training_dir,\n",
    "                                                       target_size = (96,96),\n",
    "                                                       color_mode = 'rgb',\n",
    "                                                       classes = None,\n",
    "                                                       batch_size = 64,\n",
    "                                                       shuffle = True,\n",
    "                                                       seed = seed)\n",
    "\n",
    "validation_data = image_generator_preprocessing.flow_from_directory(validation_dir,\n",
    "                                                                 target_size = (96,96),\n",
    "                                                                 color_mode = 'rgb',\n",
    "                                                                 classes = None,\n",
    "                                                                 batch_size = 64,\n",
    "                                                                 shuffle = False,\n",
    "                                                                 seed = seed)"
   ]
  },
  {
   "cell_type": "markdown",
   "id": "fd146fec",
   "metadata": {
    "papermill": {
     "duration": 0.017348,
     "end_time": "2022-11-23T18:47:54.058189",
     "exception": false,
     "start_time": "2022-11-23T18:47:54.040841",
     "status": "completed"
    },
    "tags": []
   },
   "source": [
    "## Definition of the Fully connected part"
   ]
  },
  {
   "cell_type": "code",
   "execution_count": 8,
   "id": "1eea0c59",
   "metadata": {
    "execution": {
     "iopub.execute_input": "2022-11-26T22:14:20.671803Z",
     "iopub.status.busy": "2022-11-26T22:14:20.671454Z",
     "iopub.status.idle": "2022-11-26T22:14:20.677124Z",
     "shell.execute_reply": "2022-11-26T22:14:20.676091Z",
     "shell.execute_reply.started": "2022-11-26T22:14:20.671773Z"
    },
    "papermill": {
     "duration": 0.026034,
     "end_time": "2022-11-23T18:47:54.102011",
     "exception": false,
     "start_time": "2022-11-23T18:47:54.075977",
     "status": "completed"
    },
    "tags": []
   },
   "outputs": [],
   "source": [
    "input_shape = (96, 96, 3)\n",
    "\n",
    "dropoutrate = 0.35\n",
    "elastic_lambda = 5e-4\n",
    "learning_rate = 5e-4"
   ]
  },
  {
   "cell_type": "code",
   "execution_count": 33,
   "id": "70edcb12",
   "metadata": {
    "execution": {
     "iopub.execute_input": "2022-11-26T17:09:15.750593Z",
     "iopub.status.busy": "2022-11-26T17:09:15.749322Z",
     "iopub.status.idle": "2022-11-26T17:09:34.581996Z",
     "shell.execute_reply": "2022-11-26T17:09:34.580978Z",
     "shell.execute_reply.started": "2022-11-26T17:09:15.750517Z"
    },
    "papermill": {
     "duration": 18.476886,
     "end_time": "2022-11-23T18:47:54.022757",
     "exception": false,
     "start_time": "2022-11-23T18:47:35.545871",
     "status": "completed"
    },
    "tags": []
   },
   "outputs": [],
   "source": [
    "# Load the base version of the ConvNeXt model pre-downloaded with 96x96x3 as input size\n",
    "supernet = tfk.applications.ConvNeXtBase(include_top=False,\n",
    "                                         weights=\"imagenet\",\n",
    "                                         input_shape=input_shape)\n",
    "\n",
    "supernet.trainable = False"
   ]
  },
  {
   "cell_type": "code",
   "execution_count": 35,
   "id": "dcfffafe",
   "metadata": {
    "execution": {
     "iopub.execute_input": "2022-11-26T17:09:34.614517Z",
     "iopub.status.busy": "2022-11-26T17:09:34.613893Z",
     "iopub.status.idle": "2022-11-26T17:09:36.176054Z",
     "shell.execute_reply": "2022-11-26T17:09:36.174883Z",
     "shell.execute_reply.started": "2022-11-26T17:09:34.614480Z"
    },
    "papermill": {
     "duration": 1.547681,
     "end_time": "2022-11-23T18:47:55.667132",
     "exception": false,
     "start_time": "2022-11-23T18:47:54.119451",
     "status": "completed"
    },
    "tags": []
   },
   "outputs": [
    {
     "name": "stdout",
     "output_type": "stream",
     "text": [
      "Model: \"model\"\n",
      "_________________________________________________________________\n",
      "Layer (type)                 Output Shape              Param #   \n",
      "=================================================================\n",
      "input_layer (InputLayer)     [(None, 96, 96, 3)]       0         \n",
      "_________________________________________________________________\n",
      "convnext_base (Functional)   (None, 3, 3, 1024)        87566464  \n",
      "_________________________________________________________________\n",
      "GlobalPooling (GlobalAverage (None, 1024)              0         \n",
      "_________________________________________________________________\n",
      "batch_normalization (BatchNo (None, 1024)              4096      \n",
      "_________________________________________________________________\n",
      "Classifier1 (Dense)          (None, 128)               131200    \n",
      "_________________________________________________________________\n",
      "dropout (Dropout)            (None, 128)               0         \n",
      "_________________________________________________________________\n",
      "output_layer (Dense)         (None, 8)                 1032      \n",
      "=================================================================\n",
      "Total params: 87,702,792\n",
      "Trainable params: 134,280\n",
      "Non-trainable params: 87,568,512\n",
      "_________________________________________________________________\n"
     ]
    }
   ],
   "source": [
    "input_layer = tfk.Input(shape=input_shape,name=\"input_layer\")\n",
    "\n",
    "x = supernet(input_layer) \n",
    "\n",
    "x = tfkl.GlobalAveragePooling2D(name='GlobalPooling')(x)\n",
    "\n",
    "x = tfkl.BatchNormalization()(x)\n",
    "\n",
    "classifier_layer1 = tfkl.Dense(units=128,\n",
    "                               name='Classifier1', \n",
    "                               activation=tfkl.LeakyReLU(),\n",
    "                               kernel_regularizer=tf.keras.regularizers.L1L2(elastic_lambda,elastic_lambda),\n",
    "                               kernel_initializer=tfk.initializers.GlorotUniform(seed),\n",
    "                              )(x)\n",
    "    \n",
    "classifier_layer1 = tfkl.Dropout(dropoutrate, seed=seed)(classifier_layer1)\n",
    "\n",
    "output_layer = tfkl.Dense(units=8,\n",
    "                          name='output_layer',\n",
    "                          activation='softmax',\n",
    "                          kernel_initializer=tfk.initializers.GlorotUniform(seed),\n",
    "                          )(classifier_layer1)\n",
    "\n",
    "# Connect input and output through the Model class\n",
    "model = tfk.Model(inputs=input_layer, outputs=output_layer, name='model')\n",
    "\n",
    "# Compile the model\n",
    "model.compile(loss=tfk.losses.CategoricalCrossentropy(), optimizer=tfk.optimizers.Adam(learning_rate), metrics='accuracy')\n",
    "model.summary()"
   ]
  },
  {
   "cell_type": "markdown",
   "id": "2646a441",
   "metadata": {
    "papermill": {
     "duration": 0.019897,
     "end_time": "2022-11-23T18:47:55.707355",
     "exception": false,
     "start_time": "2022-11-23T18:47:55.687458",
     "status": "completed"
    },
    "tags": []
   },
   "source": [
    "## Transfer Learning"
   ]
  },
  {
   "cell_type": "code",
   "execution_count": 9,
   "id": "0f3cb786",
   "metadata": {
    "execution": {
     "iopub.execute_input": "2022-11-26T22:14:26.112611Z",
     "iopub.status.busy": "2022-11-26T22:14:26.112263Z",
     "iopub.status.idle": "2022-11-26T22:14:26.122084Z",
     "shell.execute_reply": "2022-11-26T22:14:26.118433Z",
     "shell.execute_reply.started": "2022-11-26T22:14:26.112581Z"
    },
    "papermill": {
     "duration": 0.030106,
     "end_time": "2022-11-23T18:47:55.757907",
     "exception": false,
     "start_time": "2022-11-23T18:47:55.727801",
     "status": "completed"
    },
    "tags": []
   },
   "outputs": [],
   "source": [
    "callbacks = []\n",
    "# Early Stopping\n",
    "# --------------\n",
    "es_callback = tf.keras.callbacks.EarlyStopping(monitor='val_accuracy', \n",
    "                                               patience=12, \n",
    "                                               restore_best_weights=True)\n",
    "callbacks.append(es_callback)\n",
    "\n",
    "# ReduceLROnPlateau\n",
    "# -----------------\n",
    "red_lr_callback = tfk.callbacks.ReduceLROnPlateau(monitor='val_loss', patience=5,factor=0.3)\n",
    "callbacks.append(red_lr_callback)"
   ]
  },
  {
   "cell_type": "code",
   "execution_count": 37,
   "id": "b8a90cfe",
   "metadata": {
    "execution": {
     "iopub.execute_input": "2022-11-26T17:09:36.192516Z",
     "iopub.status.busy": "2022-11-26T17:09:36.191842Z",
     "iopub.status.idle": "2022-11-26T17:52:29.460424Z",
     "shell.execute_reply": "2022-11-26T17:52:29.459316Z",
     "shell.execute_reply.started": "2022-11-26T17:09:36.192479Z"
    },
    "papermill": {
     "duration": 3066.287238,
     "end_time": "2022-11-23T19:39:02.116257",
     "exception": false,
     "start_time": "2022-11-23T18:47:55.829019",
     "status": "completed"
    },
    "tags": []
   },
   "outputs": [
    {
     "name": "stdout",
     "output_type": "stream",
     "text": [
      "Epoch 1/100\n",
      "375/375 - 77s - loss: 3.1273 - accuracy: 0.6637 - val_loss: 2.5043 - val_accuracy: 0.7429\n",
      "Epoch 2/100\n",
      "375/375 - 60s - loss: 2.1393 - accuracy: 0.7776 - val_loss: 1.8592 - val_accuracy: 0.7929\n",
      "Epoch 3/100\n",
      "375/375 - 60s - loss: 1.5590 - accuracy: 0.8001 - val_loss: 1.3769 - val_accuracy: 0.7929\n",
      "Epoch 4/100\n",
      "375/375 - 60s - loss: 1.2116 - accuracy: 0.8079 - val_loss: 1.1924 - val_accuracy: 0.7750\n",
      "Epoch 5/100\n",
      "375/375 - 60s - loss: 1.0487 - accuracy: 0.8079 - val_loss: 1.0864 - val_accuracy: 0.7679\n",
      "Epoch 6/100\n",
      "375/375 - 60s - loss: 0.9845 - accuracy: 0.8052 - val_loss: 1.0132 - val_accuracy: 0.7964\n",
      "Epoch 7/100\n",
      "375/375 - 60s - loss: 0.9469 - accuracy: 0.8043 - val_loss: 0.9926 - val_accuracy: 0.8036\n",
      "Epoch 8/100\n",
      "375/375 - 60s - loss: 0.9230 - accuracy: 0.8058 - val_loss: 0.9917 - val_accuracy: 0.7964\n",
      "Epoch 9/100\n",
      "375/375 - 60s - loss: 0.9083 - accuracy: 0.8087 - val_loss: 0.9431 - val_accuracy: 0.8107\n",
      "Epoch 10/100\n",
      "375/375 - 60s - loss: 0.8983 - accuracy: 0.8072 - val_loss: 0.9954 - val_accuracy: 0.7536\n",
      "Epoch 11/100\n",
      "375/375 - 60s - loss: 0.8765 - accuracy: 0.8167 - val_loss: 0.9392 - val_accuracy: 0.8143\n",
      "Epoch 12/100\n",
      "375/375 - 60s - loss: 0.8798 - accuracy: 0.8120 - val_loss: 0.9054 - val_accuracy: 0.8071\n",
      "Epoch 13/100\n",
      "375/375 - 60s - loss: 0.8738 - accuracy: 0.8115 - val_loss: 0.9500 - val_accuracy: 0.8000\n",
      "Epoch 14/100\n",
      "375/375 - 60s - loss: 0.8572 - accuracy: 0.8169 - val_loss: 0.9308 - val_accuracy: 0.8000\n",
      "Epoch 15/100\n",
      "375/375 - 60s - loss: 0.8557 - accuracy: 0.8166 - val_loss: 0.9272 - val_accuracy: 0.8000\n",
      "Epoch 16/100\n",
      "375/375 - 60s - loss: 0.8427 - accuracy: 0.8217 - val_loss: 0.9767 - val_accuracy: 0.7714\n",
      "Epoch 17/100\n",
      "375/375 - 60s - loss: 0.8389 - accuracy: 0.8205 - val_loss: 0.9307 - val_accuracy: 0.8071\n",
      "Epoch 18/100\n",
      "375/375 - 60s - loss: 0.7347 - accuracy: 0.8474 - val_loss: 0.8321 - val_accuracy: 0.8179\n",
      "Epoch 19/100\n",
      "375/375 - 60s - loss: 0.6883 - accuracy: 0.8540 - val_loss: 0.8006 - val_accuracy: 0.8107\n",
      "Epoch 20/100\n",
      "375/375 - 60s - loss: 0.6776 - accuracy: 0.8516 - val_loss: 0.7925 - val_accuracy: 0.8143\n",
      "Epoch 21/100\n",
      "375/375 - 60s - loss: 0.6729 - accuracy: 0.8538 - val_loss: 0.7892 - val_accuracy: 0.8071\n",
      "Epoch 22/100\n",
      "375/375 - 60s - loss: 0.6687 - accuracy: 0.8528 - val_loss: 0.7894 - val_accuracy: 0.8036\n",
      "Epoch 23/100\n",
      "375/375 - 60s - loss: 0.6569 - accuracy: 0.8543 - val_loss: 0.7788 - val_accuracy: 0.8143\n",
      "Epoch 24/100\n",
      "375/375 - 60s - loss: 0.6593 - accuracy: 0.8537 - val_loss: 0.8083 - val_accuracy: 0.8000\n",
      "Epoch 25/100\n",
      "375/375 - 60s - loss: 0.6558 - accuracy: 0.8509 - val_loss: 0.7738 - val_accuracy: 0.8107\n",
      "Epoch 26/100\n",
      "375/375 - 60s - loss: 0.6518 - accuracy: 0.8542 - val_loss: 0.7664 - val_accuracy: 0.8250\n",
      "Epoch 27/100\n",
      "375/375 - 60s - loss: 0.6454 - accuracy: 0.8553 - val_loss: 0.7696 - val_accuracy: 0.8071\n",
      "Epoch 28/100\n",
      "375/375 - 59s - loss: 0.6478 - accuracy: 0.8546 - val_loss: 0.7765 - val_accuracy: 0.8071\n",
      "Epoch 29/100\n",
      "375/375 - 60s - loss: 0.6447 - accuracy: 0.8546 - val_loss: 0.7508 - val_accuracy: 0.8143\n",
      "Epoch 30/100\n",
      "375/375 - 60s - loss: 0.6360 - accuracy: 0.8553 - val_loss: 0.7608 - val_accuracy: 0.8321\n",
      "Epoch 31/100\n",
      "375/375 - 60s - loss: 0.6382 - accuracy: 0.8553 - val_loss: 0.7758 - val_accuracy: 0.8179\n",
      "Epoch 32/100\n",
      "375/375 - 60s - loss: 0.6322 - accuracy: 0.8582 - val_loss: 0.7599 - val_accuracy: 0.8107\n",
      "Epoch 33/100\n",
      "375/375 - 60s - loss: 0.6301 - accuracy: 0.8589 - val_loss: 0.7768 - val_accuracy: 0.8179\n",
      "Epoch 34/100\n",
      "375/375 - 60s - loss: 0.6356 - accuracy: 0.8538 - val_loss: 0.7723 - val_accuracy: 0.8107\n",
      "Epoch 35/100\n",
      "375/375 - 60s - loss: 0.5954 - accuracy: 0.8688 - val_loss: 0.7327 - val_accuracy: 0.8179\n",
      "Epoch 36/100\n",
      "375/375 - 60s - loss: 0.5810 - accuracy: 0.8700 - val_loss: 0.7292 - val_accuracy: 0.8250\n",
      "Epoch 37/100\n",
      "375/375 - 59s - loss: 0.5775 - accuracy: 0.8700 - val_loss: 0.7161 - val_accuracy: 0.8179\n",
      "Epoch 38/100\n",
      "375/375 - 60s - loss: 0.5705 - accuracy: 0.8718 - val_loss: 0.7115 - val_accuracy: 0.8071\n",
      "Epoch 39/100\n",
      "375/375 - 60s - loss: 0.5704 - accuracy: 0.8697 - val_loss: 0.7113 - val_accuracy: 0.8250\n",
      "Epoch 40/100\n",
      "375/375 - 60s - loss: 0.5650 - accuracy: 0.8723 - val_loss: 0.7187 - val_accuracy: 0.8107\n",
      "Epoch 41/100\n",
      "375/375 - 60s - loss: 0.5670 - accuracy: 0.8705 - val_loss: 0.7253 - val_accuracy: 0.8250\n",
      "Epoch 42/100\n",
      "375/375 - 59s - loss: 0.5625 - accuracy: 0.8735 - val_loss: 0.7113 - val_accuracy: 0.8179\n",
      "END TRAINING\n"
     ]
    }
   ],
   "source": [
    "# Train the model\n",
    "history = model.fit(\n",
    "    x = train_data,\n",
    "    epochs = 100,\n",
    "    validation_data = validation_data,\n",
    "    callbacks = callbacks,\n",
    "    verbose=2,\n",
    ").history\n",
    "print(\"END TRAINING\")"
   ]
  },
  {
   "cell_type": "code",
   "execution_count": 38,
   "id": "24ad6875",
   "metadata": {
    "execution": {
     "iopub.execute_input": "2022-11-26T17:52:29.462522Z",
     "iopub.status.busy": "2022-11-26T17:52:29.461809Z",
     "iopub.status.idle": "2022-11-26T17:52:29.835065Z",
     "shell.execute_reply": "2022-11-26T17:52:29.834152Z",
     "shell.execute_reply.started": "2022-11-26T17:52:29.462483Z"
    },
    "papermill": {
     "duration": 0.388995,
     "end_time": "2022-11-23T19:39:02.527393",
     "exception": false,
     "start_time": "2022-11-23T19:39:02.138398",
     "status": "completed"
    },
    "tags": []
   },
   "outputs": [
    {
     "data": {
      "image/png": "[encoded data removed]",
      "text/plain": [
       "<Figure size 720x216 with 1 Axes>"
      ]
     },
     "metadata": {
      "needs_background": "light"
     },
     "output_type": "display_data"
    },
    {
     "data": {
      "image/png": "[encoded data removed]",
      "text/plain": [
       "<Figure size 720x216 with 1 Axes>"
      ]
     },
     "metadata": {
      "needs_background": "light"
     },
     "output_type": "display_data"
    }
   ],
   "source": [
    "# Plot the training\n",
    "\n",
    "plt.figure(figsize=(10,3))\n",
    "plt.plot(history['loss'], label='Training', alpha=.8, color='#ff7f0e')\n",
    "plt.plot(history['val_loss'], label='Validation', alpha=.8, color='#4D61E2')\n",
    "plt.legend(loc='upper left')\n",
    "plt.title('Loss')\n",
    "plt.grid(alpha=.3)\n",
    "\n",
    "plt.figure(figsize=(10,3))\n",
    "plt.plot(history['accuracy'], label='Training', alpha=.8, color='#ff7f0e')\n",
    "plt.plot(history['val_accuracy'], label='Validation', alpha=.8, color='#4D61E2')\n",
    "plt.legend(loc='upper left')\n",
    "plt.title('Accuracy')\n",
    "plt.grid(alpha=.3)\n",
    "\n",
    "plt.show()"
   ]
  },
  {
   "cell_type": "code",
   "execution_count": 11,
   "id": "d64b0388",
   "metadata": {
    "execution": {
     "iopub.execute_input": "2022-11-26T22:14:41.215211Z",
     "iopub.status.busy": "2022-11-26T22:14:41.214798Z",
     "iopub.status.idle": "2022-11-26T22:14:41.220721Z",
     "shell.execute_reply": "2022-11-26T22:14:41.219570Z",
     "shell.execute_reply.started": "2022-11-26T22:14:41.215175Z"
    },
    "papermill": {
     "duration": 0.030576,
     "end_time": "2022-11-23T19:39:02.581359",
     "exception": false,
     "start_time": "2022-11-23T19:39:02.550783",
     "status": "completed"
    },
    "tags": []
   },
   "outputs": [],
   "source": [
    "name=\"ConvNeXt_base_tl\""
   ]
  },
  {
   "cell_type": "code",
   "execution_count": 40,
   "id": "9da3aa0a",
   "metadata": {
    "execution": {
     "iopub.execute_input": "2022-11-26T17:52:29.846014Z",
     "iopub.status.busy": "2022-11-26T17:52:29.845569Z",
     "iopub.status.idle": "2022-11-26T17:53:11.392119Z",
     "shell.execute_reply": "2022-11-26T17:53:11.391085Z",
     "shell.execute_reply.started": "2022-11-26T17:52:29.845970Z"
    },
    "papermill": {
     "duration": 40.921111,
     "end_time": "2022-11-23T19:39:43.524827",
     "exception": false,
     "start_time": "2022-11-23T19:39:02.603716",
     "status": "completed"
    },
    "tags": []
   },
   "outputs": [],
   "source": [
    "model.save(name)\n",
    "del model"
   ]
  },
  {
   "cell_type": "markdown",
   "id": "f05dfd7f",
   "metadata": {
    "papermill": {
     "duration": 0.022423,
     "end_time": "2022-11-23T19:39:43.570888",
     "exception": false,
     "start_time": "2022-11-23T19:39:43.548465",
     "status": "completed"
    },
    "tags": []
   },
   "source": [
    "## Fine Tuning"
   ]
  },
  {
   "cell_type": "code",
   "execution_count": 12,
   "id": "eab2ba75",
   "metadata": {
    "execution": {
     "iopub.execute_input": "2022-11-26T22:14:43.351991Z",
     "iopub.status.busy": "2022-11-26T22:14:43.350971Z",
     "iopub.status.idle": "2022-11-26T22:15:04.378964Z",
     "shell.execute_reply": "2022-11-26T22:15:04.377621Z",
     "shell.execute_reply.started": "2022-11-26T22:14:43.351946Z"
    }
   },
   "outputs": [],
   "source": [
    "model = tfk.models.load_model('./'+name)"
   ]
  },
  {
   "cell_type": "code",
   "execution_count": 13,
   "id": "46a71763",
   "metadata": {
    "execution": {
     "iopub.execute_input": "2022-11-26T22:18:19.898984Z",
     "iopub.status.busy": "2022-11-26T22:18:19.898626Z",
     "iopub.status.idle": "2022-11-26T22:18:19.918955Z",
     "shell.execute_reply": "2022-11-26T22:18:19.917991Z",
     "shell.execute_reply.started": "2022-11-26T22:18:19.898955Z"
    }
   },
   "outputs": [
    {
     "name": "stdout",
     "output_type": "stream",
     "text": [
      "Model: \"model\"\n",
      "_________________________________________________________________\n",
      "Layer (type)                 Output Shape              Param #   \n",
      "=================================================================\n",
      "input_layer (InputLayer)     [(None, 96, 96, 3)]       0         \n",
      "_________________________________________________________________\n",
      "convnext_base (Functional)   (None, 3, 3, 1024)        87566464  \n",
      "_________________________________________________________________\n",
      "GlobalPooling (GlobalAverage (None, 1024)              0         \n",
      "_________________________________________________________________\n",
      "batch_normalization (BatchNo (None, 1024)              4096      \n",
      "_________________________________________________________________\n",
      "Classifier1 (Dense)          (None, 128)               131200    \n",
      "_________________________________________________________________\n",
      "dropout (Dropout)            (None, 128)               0         \n",
      "_________________________________________________________________\n",
      "output_layer (Dense)         (None, 8)                 1032      \n",
      "=================================================================\n",
      "Total params: 87,702,792\n",
      "Trainable params: 134,280\n",
      "Non-trainable params: 87,568,512\n",
      "_________________________________________________________________\n"
     ]
    }
   ],
   "source": [
    "model.summary()"
   ]
  },
  {
   "cell_type": "code",
   "execution_count": 14,
   "id": "bd9c3674",
   "metadata": {
    "execution": {
     "iopub.execute_input": "2022-11-26T22:18:56.612142Z",
     "iopub.status.busy": "2022-11-26T22:18:56.611746Z",
     "iopub.status.idle": "2022-11-26T22:18:56.650707Z",
     "shell.execute_reply": "2022-11-26T22:18:56.649675Z",
     "shell.execute_reply.started": "2022-11-26T22:18:56.612109Z"
    }
   },
   "outputs": [
    {
     "name": "stdout",
     "output_type": "stream",
     "text": [
      "Model: \"model\"\n",
      "_________________________________________________________________\n",
      "Layer (type)                 Output Shape              Param #   \n",
      "=================================================================\n",
      "input_layer (InputLayer)     [(None, 96, 96, 3)]       0         \n",
      "_________________________________________________________________\n",
      "convnext_base (Functional)   (None, 3, 3, 1024)        87566464  \n",
      "_________________________________________________________________\n",
      "GlobalPooling (GlobalAverage (None, 1024)              0         \n",
      "_________________________________________________________________\n",
      "batch_normalization (BatchNo (None, 1024)              4096      \n",
      "_________________________________________________________________\n",
      "Classifier1 (Dense)          (None, 128)               131200    \n",
      "_________________________________________________________________\n",
      "dropout (Dropout)            (None, 128)               0         \n",
      "_________________________________________________________________\n",
      "output_layer (Dense)         (None, 8)                 1032      \n",
      "=================================================================\n",
      "Total params: 87,702,792\n",
      "Trainable params: 87,700,744\n",
      "Non-trainable params: 2,048\n",
      "_________________________________________________________________\n"
     ]
    }
   ],
   "source": [
    "model.get_layer(index=1).trainable = True\n",
    "\n",
    "for i, layer in enumerate(model.get_layer(index=1).layers):\n",
    "   print(i, layer.name, layer.trainable)\n",
    "\n",
    "model.summary()"
   ]
  },
  {
   "cell_type": "code",
   "execution_count": 16,
   "id": "9cb9885e",
   "metadata": {
    "execution": {
     "iopub.execute_input": "2022-11-26T22:19:53.163895Z",
     "iopub.status.busy": "2022-11-26T22:19:53.163535Z",
     "iopub.status.idle": "2022-11-26T23:42:38.452460Z",
     "shell.execute_reply": "2022-11-26T23:42:38.451502Z",
     "shell.execute_reply.started": "2022-11-26T22:19:53.163865Z"
    }
   },
   "outputs": [
    {
     "name": "stdout",
     "output_type": "stream",
     "text": [
      "Epoch 1/100\n",
      "375/375 - 203s - loss: 0.4940 - accuracy: 0.9050 - val_loss: 0.6194 - val_accuracy: 0.8643\n",
      "Epoch 2/100\n",
      "375/375 - 170s - loss: 0.3163 - accuracy: 0.9670 - val_loss: 0.5695 - val_accuracy: 0.9036\n",
      "Epoch 3/100\n",
      "375/375 - 170s - loss: 0.2421 - accuracy: 0.9892 - val_loss: 0.5468 - val_accuracy: 0.9143\n",
      "Epoch 4/100\n",
      "375/375 - 170s - loss: 0.2027 - accuracy: 0.9975 - val_loss: 0.5176 - val_accuracy: 0.9107\n",
      "Epoch 5/100\n",
      "375/375 - 170s - loss: 0.1809 - accuracy: 0.9992 - val_loss: 0.5143 - val_accuracy: 0.9143\n",
      "Epoch 6/100\n",
      "375/375 - 170s - loss: 0.1654 - accuracy: 0.9997 - val_loss: 0.5279 - val_accuracy: 0.9179\n",
      "Epoch 7/100\n",
      "375/375 - 170s - loss: 0.1532 - accuracy: 0.9997 - val_loss: 0.5034 - val_accuracy: 0.9179\n",
      "Epoch 8/100\n",
      "375/375 - 170s - loss: 0.1414 - accuracy: 0.9999 - val_loss: 0.5132 - val_accuracy: 0.9179\n",
      "Epoch 9/100\n",
      "375/375 - 170s - loss: 0.1298 - accuracy: 0.9999 - val_loss: 0.5170 - val_accuracy: 0.9071\n",
      "Epoch 10/100\n",
      "375/375 - 170s - loss: 0.1182 - accuracy: 1.0000 - val_loss: 0.4853 - val_accuracy: 0.9179\n",
      "Epoch 11/100\n",
      "375/375 - 170s - loss: 0.1138 - accuracy: 0.9982 - val_loss: 0.4281 - val_accuracy: 0.9250\n",
      "Epoch 12/100\n",
      "375/375 - 170s - loss: 0.0993 - accuracy: 0.9998 - val_loss: 0.4742 - val_accuracy: 0.9214\n",
      "Epoch 13/100\n",
      "375/375 - 170s - loss: 0.0875 - accuracy: 1.0000 - val_loss: 0.4189 - val_accuracy: 0.9250\n",
      "Epoch 14/100\n",
      "375/375 - 170s - loss: 0.0774 - accuracy: 1.0000 - val_loss: 0.3906 - val_accuracy: 0.9286\n",
      "Epoch 15/100\n",
      "375/375 - 170s - loss: 0.0724 - accuracy: 0.9992 - val_loss: 0.4784 - val_accuracy: 0.9250\n",
      "Epoch 16/100\n",
      "375/375 - 170s - loss: 0.0604 - accuracy: 1.0000 - val_loss: 0.4044 - val_accuracy: 0.9321\n",
      "Epoch 17/100\n",
      "375/375 - 170s - loss: 0.0521 - accuracy: 1.0000 - val_loss: 0.3687 - val_accuracy: 0.9429\n",
      "Epoch 18/100\n",
      "375/375 - 170s - loss: 0.0447 - accuracy: 1.0000 - val_loss: 0.3776 - val_accuracy: 0.9321\n",
      "Epoch 19/100\n",
      "375/375 - 170s - loss: 0.0386 - accuracy: 1.0000 - val_loss: 0.4161 - val_accuracy: 0.9214\n",
      "Epoch 20/100\n",
      "375/375 - 170s - loss: 0.0455 - accuracy: 0.9971 - val_loss: 0.3777 - val_accuracy: 0.9000\n",
      "Epoch 21/100\n",
      "375/375 - 170s - loss: 0.0389 - accuracy: 0.9993 - val_loss: 0.3925 - val_accuracy: 0.9214\n",
      "Epoch 22/100\n",
      "375/375 - 170s - loss: 0.0332 - accuracy: 0.9997 - val_loss: 0.4135 - val_accuracy: 0.9143\n",
      "Epoch 23/100\n",
      "375/375 - 170s - loss: 0.0301 - accuracy: 1.0000 - val_loss: 0.4115 - val_accuracy: 0.9214\n",
      "Epoch 24/100\n",
      "375/375 - 170s - loss: 0.0294 - accuracy: 1.0000 - val_loss: 0.4264 - val_accuracy: 0.9214\n",
      "Epoch 25/100\n",
      "375/375 - 170s - loss: 0.0290 - accuracy: 1.0000 - val_loss: 0.4346 - val_accuracy: 0.9107\n",
      "Epoch 26/100\n",
      "375/375 - 170s - loss: 0.0283 - accuracy: 1.0000 - val_loss: 0.4395 - val_accuracy: 0.9107\n",
      "Epoch 27/100\n",
      "375/375 - 170s - loss: 0.0277 - accuracy: 1.0000 - val_loss: 0.4340 - val_accuracy: 0.9107\n",
      "Epoch 28/100\n",
      "375/375 - 170s - loss: 0.0273 - accuracy: 1.0000 - val_loss: 0.4377 - val_accuracy: 0.9107\n",
      "Epoch 29/100\n",
      "375/375 - 170s - loss: 0.0273 - accuracy: 1.0000 - val_loss: 0.4392 - val_accuracy: 0.9071\n"
     ]
    }
   ],
   "source": [
    "model.compile(loss=tfk.losses.CategoricalCrossentropy(), \n",
    "              optimizer=tfk.optimizers.Adam(2e-5), \n",
    "              metrics='accuracy')\n",
    "\n",
    "history = model.fit(\n",
    "    x = train_data,\n",
    "    epochs = 100,\n",
    "    validation_data = validation_data,\n",
    "    callbacks = callbacks,\n",
    "    verbose = 2\n",
    ").history"
   ]
  },
  {
   "cell_type": "markdown",
   "id": "daff23c5",
   "metadata": {
    "papermill": {
     "duration": 0.025868,
     "end_time": "2022-11-23T21:06:09.694594",
     "exception": false,
     "start_time": "2022-11-23T21:06:09.668726",
     "status": "completed"
    },
    "tags": []
   },
   "source": [
    "# Evaluation Of the Model"
   ]
  },
  {
   "cell_type": "code",
   "execution_count": 17,
   "id": "b9750be5",
   "metadata": {
    "execution": {
     "iopub.execute_input": "2022-11-26T23:42:51.726176Z",
     "iopub.status.busy": "2022-11-26T23:42:51.725781Z",
     "iopub.status.idle": "2022-11-26T23:42:52.149468Z",
     "shell.execute_reply": "2022-11-26T23:42:52.148562Z",
     "shell.execute_reply.started": "2022-11-26T23:42:51.726146Z"
    },
    "papermill": {
     "duration": 0.436681,
     "end_time": "2022-11-23T21:06:10.157430",
     "exception": false,
     "start_time": "2022-11-23T21:06:09.720749",
     "status": "completed"
    },
    "tags": []
   },
   "outputs": [
    {
     "name": "stdout",
     "output_type": "stream",
     "text": [
      "PRINT MODEL STATS:\n"
     ]
    },
    {
     "data": {
      "image/png": "[encoded data removed]",
      "text/plain": [
       "<Figure size 720x216 with 1 Axes>"
      ]
     },
     "metadata": {
      "needs_background": "light"
     },
     "output_type": "display_data"
    },
    {
     "data": {
      "image/png": "[encoded data removed]",
      "text/plain": [
       "<Figure size 720x216 with 1 Axes>"
      ]
     },
     "metadata": {
      "needs_background": "light"
     },
     "output_type": "display_data"
    }
   ],
   "source": [
    "# Plot the training\n",
    "print(\"PRINT MODEL STATS:\")\n",
    "plt.figure(figsize=(10,3))\n",
    "plt.plot(history['loss'], label='Training', alpha=.8, color='#ff7f0e')\n",
    "plt.plot(history['val_loss'], label='Validation', alpha=.8, color='#4D61E2')\n",
    "plt.legend(loc='upper left')\n",
    "plt.title('Loss')\n",
    "plt.grid(alpha=.3)\n",
    "\n",
    "plt.figure(figsize=(10,3))\n",
    "plt.plot(history['accuracy'], label='Training', alpha=.8, color='#ff7f0e')\n",
    "plt.plot(history['val_accuracy'], label='Validation', alpha=.8, color='#4D61E2')\n",
    "plt.legend(loc='upper left')\n",
    "plt.title('Accuracy')\n",
    "plt.grid(alpha=.3)\n",
    "\n",
    "plt.show()"
   ]
  },
  {
   "cell_type": "code",
   "execution_count": 19,
   "id": "6649a319",
   "metadata": {
    "execution": {
     "iopub.execute_input": "2022-11-26T23:43:24.491118Z",
     "iopub.status.busy": "2022-11-26T23:43:24.490735Z",
     "iopub.status.idle": "2022-11-26T23:43:26.970054Z",
     "shell.execute_reply": "2022-11-26T23:43:26.968956Z",
     "shell.execute_reply.started": "2022-11-26T23:43:24.491086Z"
    },
    "papermill": {
     "duration": 5.236071,
     "end_time": "2022-11-23T21:06:15.421265",
     "exception": false,
     "start_time": "2022-11-23T21:06:10.185194",
     "status": "completed"
    },
    "tags": []
   },
   "outputs": [
    {
     "name": "stdout",
     "output_type": "stream",
     "text": [
      "\n",
      "PLOTTING NEW MODEL:\n",
      "\n",
      "Confusion Matrix\n",
      "[[30  3  1  0  0  0  0  1]\n",
      " [ 0 33  0  0  0  0  0  2]\n",
      " [ 0  0 35  0  0  0  0  0]\n",
      " [ 0  0  1 34  0  0  0  0]\n",
      " [ 0  0  0  3 32  0  0  0]\n",
      " [ 0  0  0  0  0 35  0  0]\n",
      " [ 0  0  0  0  0  0 33  2]\n",
      " [ 1  0  1  1  0  0  0 32]]\n"
     ]
    },
    {
     "data": {
      "image/png": "[encoded data removed]",
      "text/plain": [
       "<Figure size 360x360 with 2 Axes>"
      ]
     },
     "metadata": {
      "needs_background": "light"
     },
     "output_type": "display_data"
    },
    {
     "name": "stdout",
     "output_type": "stream",
     "text": [
      "\n",
      "\n",
      "5/5 [==============================] - 1s 142ms/step - loss: 0.3687 - accuracy: 0.9429\n",
      "\n",
      "              precision    recall  f1-score   support\n",
      "\n",
      "           0       0.97      0.86      0.91        35\n",
      "           1       0.92      0.94      0.93        35\n",
      "           2       0.92      1.00      0.96        35\n",
      "           3       0.89      0.97      0.93        35\n",
      "           4       1.00      0.91      0.96        35\n",
      "           5       1.00      1.00      1.00        35\n",
      "           6       1.00      0.94      0.97        35\n",
      "           7       0.86      0.91      0.89        35\n",
      "\n",
      "    accuracy                           0.94       280\n",
      "   macro avg       0.95      0.94      0.94       280\n",
      "weighted avg       0.95      0.94      0.94       280\n",
      "\n"
     ]
    }
   ],
   "source": [
    "print(\"\\nPLOTTING NEW MODEL:\\n\")\n",
    "Y_pred = model.predict(validation_data)\n",
    "y_pred = np.argmax(Y_pred, axis=1)\n",
    "print('Confusion Matrix')\n",
    "cm=confusion_matrix(validation_data.classes, y_pred);\n",
    "print(cm)\n",
    "plt.figure(figsize=(5,5))\n",
    "sns.heatmap(cm, xticklabels=labels, yticklabels=labels)\n",
    "plt.xlabel('True labels')\n",
    "plt.ylabel('Predicted labels')\n",
    "plt.show()\n",
    "\n",
    "print(\"\\n\")\n",
    "metrics = model.evaluate(validation_data, return_dict=True)\n",
    "print()\n",
    "print(classification_report(validation_data.classes, y_pred))"
   ]
  },
  {
   "cell_type": "code",
   "execution_count": 20,
   "id": "5642f95b",
   "metadata": {
    "execution": {
     "iopub.execute_input": "2022-11-26T23:43:51.692994Z",
     "iopub.status.busy": "2022-11-26T23:43:51.691966Z",
     "iopub.status.idle": "2022-11-26T23:44:40.231862Z",
     "shell.execute_reply": "2022-11-26T23:44:40.230682Z",
     "shell.execute_reply.started": "2022-11-26T23:43:51.692957Z"
    }
   },
   "outputs": [],
   "source": [
    "model.save('ConvNeXt_base_ft')"
   ]
  }
 ],
 "metadata": {
  "kernelspec": {
   "display_name": "Python 3 (ipykernel)",
   "language": "python",
   "name": "python3"
  },
  "language_info": {
   "codemirror_mode": {
    "name": "ipython",
    "version": 3
   },
   "file_extension": ".py",
   "mimetype": "text/x-python",
   "name": "python",
   "nbconvert_exporter": "python",
   "pygments_lexer": "ipython3",
   "version": "3.10.8"
  },
  "papermill": {
   "default_parameters": {},
   "duration": 8499.876418,
   "end_time": "2022-11-23T21:07:14.404449",
   "environment_variables": {},
   "exception": null,
   "input_path": "__notebook__.ipynb",
   "output_path": "__notebook__.ipynb",
   "parameters": {},
   "start_time": "2022-11-23T18:45:34.528031",
   "version": "2.3.4"
  }
 },
 "nbformat": 4,
 "nbformat_minor": 5
}

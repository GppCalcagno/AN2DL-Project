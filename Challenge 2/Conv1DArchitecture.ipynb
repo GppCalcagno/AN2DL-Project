{
 "cells": [
  {
   "cell_type": "markdown",
   "id": "d29bcf06",
   "metadata": {
    "papermill": {
     "duration": 0.006261,
     "end_time": "2022-12-19T13:18:02.975758",
     "exception": false,
     "start_time": "2022-12-19T13:18:02.969497",
     "status": "completed"
    },
    "tags": []
   },
   "source": [
    "# Conv1D for Time Series Classification"
   ]
  },
  {
   "cell_type": "markdown",
   "id": "62646c27",
   "metadata": {
    "id": "zfehjCy896Fd",
    "papermill": {
     "duration": 0.005004,
     "end_time": "2022-12-19T13:18:02.985921",
     "exception": false,
     "start_time": "2022-12-19T13:18:02.980917",
     "status": "completed"
    },
    "tags": []
   },
   "source": [
    "### Import libraries"
   ]
  },
  {
   "cell_type": "code",
   "execution_count": 22,
   "id": "41c69f14",
   "metadata": {
    "execution": {
     "iopub.execute_input": "2022-12-20T11:48:16.587094Z",
     "iopub.status.busy": "2022-12-20T11:48:16.586504Z",
     "iopub.status.idle": "2022-12-20T11:48:16.604930Z",
     "shell.execute_reply": "2022-12-20T11:48:16.603140Z",
     "shell.execute_reply.started": "2022-12-20T11:48:16.587052Z"
    },
    "id": "Z_wVYNVVfr6q",
    "papermill": {
     "duration": 5.600483,
     "end_time": "2022-12-19T13:18:08.591496",
     "exception": false,
     "start_time": "2022-12-19T13:18:02.991013",
     "status": "completed"
    },
    "tags": []
   },
   "outputs": [
    {
     "name": "stdout",
     "output_type": "stream",
     "text": [
      "2.6.4\n"
     ]
    }
   ],
   "source": [
    "import tensorflow as tf\n",
    "import tensorflow_addons as tfa\n",
    "import numpy as np\n",
    "import os\n",
    "import random\n",
    "import seaborn as sns\n",
    "import matplotlib.pyplot as plt\n",
    "from sklearn.metrics import accuracy_score, f1_score, precision_score, recall_score\n",
    "from sklearn.metrics import confusion_matrix, classification_report\n",
    "from sklearn.preprocessing import RobustScaler\n",
    "from sklearn.model_selection import train_test_split\n",
    "import shutil\n",
    "import sys\n",
    "\n",
    "import keras_tuner\n",
    "from tensorflow import keras\n",
    "\n",
    "tfk = tf.keras\n",
    "tfkl = tf.keras.layers\n",
    "print(tf.__version__)\n",
    "\n",
    "import warnings\n",
    "import logging\n",
    "os.environ['TF_CPP_MIN_LOG_LEVEL'] = '2'\n",
    "warnings.simplefilter(action='ignore', category=FutureWarning)\n",
    "warnings.simplefilter(action='ignore', category=Warning)\n",
    "tf.get_logger().setLevel('INFO')\n",
    "tf.autograph.set_verbosity(0)\n",
    "\n",
    "tf.get_logger().setLevel(logging.ERROR)\n",
    "tf.get_logger().setLevel('ERROR')\n",
    "tf.compat.v1.logging.set_verbosity(tf.compat.v1.logging.ERROR)"
   ]
  },
  {
   "cell_type": "code",
   "execution_count": 23,
   "id": "f986379b",
   "metadata": {
    "execution": {
     "iopub.execute_input": "2022-12-20T11:48:16.609717Z",
     "iopub.status.busy": "2022-12-20T11:48:16.608623Z",
     "iopub.status.idle": "2022-12-20T11:48:16.647152Z",
     "shell.execute_reply": "2022-12-20T11:48:16.645957Z",
     "shell.execute_reply.started": "2022-12-20T11:48:16.609680Z"
    },
    "papermill": {
     "duration": 0.014053,
     "end_time": "2022-12-19T13:18:08.611067",
     "exception": false,
     "start_time": "2022-12-19T13:18:08.597014",
     "status": "completed"
    },
    "tags": []
   },
   "outputs": [],
   "source": [
    "# Random seed for reproducibility\n",
    "seed = 42\n",
    "random.seed(seed)\n",
    "os.environ['PYTHONHASHSEED'] = str(seed)\n",
    "np.random.seed(seed)\n",
    "tf.random.set_seed(seed)\n",
    "tf.compat.v1.set_random_seed(seed)"
   ]
  },
  {
   "cell_type": "markdown",
   "id": "3f0dd3be",
   "metadata": {},
   "source": [
    "## Some Function Definition"
   ]
  },
  {
   "cell_type": "markdown",
   "id": "eb1d6794",
   "metadata": {},
   "source": [
    "Mostly used for Dataset management"
   ]
  },
  {
   "cell_type": "code",
   "execution_count": 24,
   "id": "9500b62e",
   "metadata": {
    "execution": {
     "iopub.execute_input": "2022-12-20T11:48:16.657658Z",
     "iopub.status.busy": "2022-12-20T11:48:16.653648Z",
     "iopub.status.idle": "2022-12-20T11:48:16.668569Z",
     "shell.execute_reply": "2022-12-20T11:48:16.666588Z",
     "shell.execute_reply.started": "2022-12-20T11:48:16.657609Z"
    },
    "papermill": {
     "duration": 0.015282,
     "end_time": "2022-12-19T13:18:08.631536",
     "exception": false,
     "start_time": "2022-12-19T13:18:08.616254",
     "status": "completed"
    },
    "tags": []
   },
   "outputs": [],
   "source": [
    "def Unroll2D(X,Y):\n",
    "    \n",
    "    initialShape = X.shape\n",
    "\n",
    "    # Flatten the 3D array X into a 2D array\n",
    "    X_flat = X.reshape(initialShape[0]*initialShape[1],initialShape[2])\n",
    "\n",
    "    # Get the unique values and counts of the 1D array Y\n",
    "    classes, classes_count = np.unique(Y, return_counts=True)\n",
    "\n",
    "    # Calculate the number of elements in each class\n",
    "    elPerClass = classes_count*initialShape[1]\n",
    "\n",
    "    # Initialize an empty 1D array for the output Y\n",
    "    Y_flat = np.empty(0)\n",
    "\n",
    "    i=0 \n",
    "    #Build a new Y to match the unrolled dataset\n",
    "    # Iterate over the number of elements in each class\n",
    "    for el in elPerClass:\n",
    "        # Append the label for each element in the current class\n",
    "        for y in range(el):\n",
    "            Y_flat=np.append(Y_flat,i)\n",
    "        # Increment the label for the next class\n",
    "        i=i+1\n",
    "\n",
    "    # Verify that all is correct by comparing the counts of the unique values\n",
    "    # in the output Y with the expected number of elements in each class\n",
    "    classes, classes_count_post = np.unique(Y_flat, return_counts=True)\n",
    "    assert classes_count_post.all()==elPerClass.all() \n",
    "\n",
    "    # Return the flattened X and Y arrays\n",
    "    return X_flat, Y_flat"
   ]
  },
  {
   "cell_type": "code",
   "execution_count": 25,
   "id": "e0b545f5",
   "metadata": {
    "execution": {
     "iopub.execute_input": "2022-12-20T11:48:16.672106Z",
     "iopub.status.busy": "2022-12-20T11:48:16.670148Z",
     "iopub.status.idle": "2022-12-20T11:48:16.686229Z",
     "shell.execute_reply": "2022-12-20T11:48:16.684978Z",
     "shell.execute_reply.started": "2022-12-20T11:48:16.672068Z"
    }
   },
   "outputs": [],
   "source": [
    "def limitadataset(X,Y,limit=500):\n",
    "    # Store the shape of the input array X\n",
    "    shape=X.shape\n",
    "    \n",
    "    classes, classes_count = np.unique(Y, return_counts=True)\n",
    "    for c in classes:\n",
    "        #get the index of fist-last element of class c\n",
    "        useless, classes_count = np.unique(Y, return_counts=True)\n",
    "        FirstIndex = np.sum(classes_count[0:int(c)]) \n",
    "        LastIndex = np.sum(classes_count[0:int(c+1)])-1\n",
    "\n",
    "        while classes_count[int(c)]>limit:\n",
    "            #remove random elements from a class\n",
    "            index=random.randint(FirstIndex, LastIndex)\n",
    "            X = np.delete(X, index, axis=0)\n",
    "            Y = np.delete(Y, index, axis=0)\n",
    "            LastIndex-=1\n",
    "            classes_count[int(c)]-=1\n",
    "            #endWhile\n",
    "        #endFor\n",
    "    useless, classes_count = np.unique(Y, return_counts=True)\n",
    "    print(\"Elements x Class: \",classes_count)\n",
    "    return X,Y"
   ]
  },
  {
   "cell_type": "code",
   "execution_count": 26,
   "id": "7f3bc26c",
   "metadata": {
    "execution": {
     "iopub.execute_input": "2022-12-20T11:48:16.690376Z",
     "iopub.status.busy": "2022-12-20T11:48:16.689092Z",
     "iopub.status.idle": "2022-12-20T11:48:16.705724Z",
     "shell.execute_reply": "2022-12-20T11:48:16.704496Z",
     "shell.execute_reply.started": "2022-12-20T11:48:16.690338Z"
    }
   },
   "outputs": [],
   "source": [
    "def SelectWindows(X,Y,ws=36,st=0):\n",
    "    \n",
    "    X,Y=Unroll2D(X,Y)\n",
    "    \n",
    "    finalX = np.empty((0,ws,6))\n",
    "    finalY = np.empty(0)\n",
    "    \n",
    "    classes, classes_count = np.unique(Y, return_counts=True)\n",
    "    \n",
    "    count_elementi=0\n",
    "    for i in classes:\n",
    "        #get the index of fist-last element of class i\n",
    "        FirstIndex = np.sum(classes_count[0:int(i)]) \n",
    "        LastIndex = np.sum(classes_count[0:int(i+1)])-1 \n",
    "         \n",
    "        #get the elements for each windows\n",
    "        inizio = FirstIndex  \n",
    "        fine  = inizio + ws-1\n",
    "        while inizio <= LastIndex:    \n",
    "            if(fine>LastIndex):\n",
    "                #add padding if elememnts of a class are not enought \n",
    "                element = X[inizio:LastIndex+1,:] \n",
    "                padding = np.zeros((fine-LastIndex,6))\n",
    "                element = np.append(element,padding).reshape(1,ws,6)\n",
    "            else:\n",
    "                element = X[inizio:fine+1,:] \n",
    "                element = element.reshape(1,ws,6)\n",
    "\n",
    "            inizio=inizio+ws-st\n",
    "            fine = fine+ws-st  \n",
    "            count_elementi=count_elementi+1\n",
    "\n",
    "\n",
    "            finalX = np.append(finalX,element).reshape(count_elementi,ws,6)\n",
    "            finalY = np.append(finalY,i).reshape(count_elementi)\n",
    "            #fine while\n",
    "        #finefor\n",
    "    classes, classes_count_post = np.unique(finalY, return_counts=True)\n",
    "    print(\"Elementi per Classe: \",classes_count_post)\n",
    "    return finalX, finalY  \n",
    "    #fine Fun"
   ]
  },
  {
   "cell_type": "markdown",
   "id": "7320abcb",
   "metadata": {
    "id": "XRK9IPIc-ZEz",
    "papermill": {
     "duration": 0.004905,
     "end_time": "2022-12-19T13:18:08.641482",
     "exception": false,
     "start_time": "2022-12-19T13:18:08.636577",
     "status": "completed"
    },
    "tags": []
   },
   "source": [
    "### Exploration Data Analysis (EDA)"
   ]
  },
  {
   "cell_type": "code",
   "execution_count": 27,
   "id": "1b7eccde",
   "metadata": {
    "execution": {
     "iopub.execute_input": "2022-12-20T11:48:16.714605Z",
     "iopub.status.busy": "2022-12-20T11:48:16.711475Z",
     "iopub.status.idle": "2022-12-20T11:48:16.724395Z",
     "shell.execute_reply": "2022-12-20T11:48:16.723226Z",
     "shell.execute_reply.started": "2022-12-20T11:48:16.714536Z"
    },
    "papermill": {
     "duration": 0.012962,
     "end_time": "2022-12-19T13:18:08.659579",
     "exception": false,
     "start_time": "2022-12-19T13:18:08.646617",
     "status": "completed"
    },
    "tags": []
   },
   "outputs": [],
   "source": [
    "# Define a function to inspect NumPy arrays\n",
    "def describe_array(np_array,name):\n",
    "    print(\"DESCRIBE \"+name.upper())\n",
    "    print(\"Dimensions:\",np_array.ndim)\n",
    "    print(\"Shape:\",np_array.shape,\"\\n\")"
   ]
  },
  {
   "cell_type": "code",
   "execution_count": 28,
   "id": "5397c2ed",
   "metadata": {
    "execution": {
     "iopub.execute_input": "2022-12-20T11:48:16.728268Z",
     "iopub.status.busy": "2022-12-20T11:48:16.726704Z",
     "iopub.status.idle": "2022-12-20T11:48:16.748415Z",
     "shell.execute_reply": "2022-12-20T11:48:16.747421Z",
     "shell.execute_reply.started": "2022-12-20T11:48:16.728233Z"
    },
    "papermill": {
     "duration": 0.13753,
     "end_time": "2022-12-19T13:18:08.802094",
     "exception": false,
     "start_time": "2022-12-19T13:18:08.664564",
     "status": "completed"
    },
    "tags": []
   },
   "outputs": [
    {
     "name": "stdout",
     "output_type": "stream",
     "text": [
      "DESCRIBE X_TRAIN\n",
      "Dimensions: 3\n",
      "Shape: (2429, 36, 6) \n",
      "\n",
      "DESCRIBE Y_TRAIN\n",
      "Dimensions: 1\n",
      "Shape: (2429,) \n",
      "\n"
     ]
    }
   ],
   "source": [
    "X_Dataset = np.load(\"/kaggle/input/an2dl-challenge2/x_train.npy\")\n",
    "Y_Dataset = np.load(\"/kaggle/input/an2dl-challenge2/y_train.npy\")\n",
    "\n",
    "describe_array(X_Dataset,\"X_train\")\n",
    "describe_array(Y_Dataset,\"Y_train\")"
   ]
  },
  {
   "cell_type": "code",
   "execution_count": 29,
   "id": "a1ae1c38",
   "metadata": {
    "execution": {
     "iopub.execute_input": "2022-12-20T11:48:16.753964Z",
     "iopub.status.busy": "2022-12-20T11:48:16.753288Z",
     "iopub.status.idle": "2022-12-20T11:48:16.773731Z",
     "shell.execute_reply": "2022-12-20T11:48:16.772814Z",
     "shell.execute_reply.started": "2022-12-20T11:48:16.753929Z"
    },
    "papermill": {
     "duration": 0.019377,
     "end_time": "2022-12-19T13:18:08.826764",
     "exception": false,
     "start_time": "2022-12-19T13:18:08.807387",
     "status": "completed"
    },
    "tags": []
   },
   "outputs": [],
   "source": [
    "X_train, X_val, Y_train, Y_val = train_test_split(X_Dataset, Y_Dataset, test_size=0.2, stratify = Y_Dataset)"
   ]
  },
  {
   "cell_type": "code",
   "execution_count": 30,
   "id": "4ab23299",
   "metadata": {
    "execution": {
     "iopub.execute_input": "2022-12-20T11:48:16.777837Z",
     "iopub.status.busy": "2022-12-20T11:48:16.777208Z",
     "iopub.status.idle": "2022-12-20T11:48:16.786729Z",
     "shell.execute_reply": "2022-12-20T11:48:16.785756Z",
     "shell.execute_reply.started": "2022-12-20T11:48:16.777803Z"
    },
    "papermill": {
     "duration": 0.014494,
     "end_time": "2022-12-19T13:18:08.846482",
     "exception": false,
     "start_time": "2022-12-19T13:18:08.831988",
     "status": "completed"
    },
    "tags": []
   },
   "outputs": [
    {
     "name": "stdout",
     "output_type": "stream",
     "text": [
      "DESCRIBE TRAINX\n",
      "Dimensions: 3\n",
      "Shape: (1943, 36, 6) \n",
      "\n",
      "DESCRIBE TRAINY\n",
      "Dimensions: 1\n",
      "Shape: (1943,) \n",
      "\n",
      "\n",
      "DESCRIBE VALX\n",
      "Dimensions: 3\n",
      "Shape: (486, 36, 6) \n",
      "\n",
      "DESCRIBE VALY\n",
      "Dimensions: 1\n",
      "Shape: (486,) \n",
      "\n"
     ]
    }
   ],
   "source": [
    "describe_array(X_train,\"trainX\")\n",
    "describe_array(Y_train,\"trainY\")\n",
    "print()\n",
    "describe_array(X_val,\"valX\")\n",
    "describe_array(Y_val,\"valY\")"
   ]
  },
  {
   "cell_type": "code",
   "execution_count": 31,
   "id": "4629d233",
   "metadata": {
    "execution": {
     "iopub.execute_input": "2022-12-20T11:48:16.789644Z",
     "iopub.status.busy": "2022-12-20T11:48:16.788623Z",
     "iopub.status.idle": "2022-12-20T11:48:16.799148Z",
     "shell.execute_reply": "2022-12-20T11:48:16.798263Z",
     "shell.execute_reply.started": "2022-12-20T11:48:16.789610Z"
    },
    "papermill": {
     "duration": 0.013133,
     "end_time": "2022-12-19T13:18:08.864686",
     "exception": false,
     "start_time": "2022-12-19T13:18:08.851553",
     "status": "completed"
    },
    "tags": []
   },
   "outputs": [],
   "source": [
    "label_mapping = {\n",
    "    0: \"Wish\",\n",
    "    1: \"Another\",\n",
    "    2: \"Comfortably\",\n",
    "    3: \"Money\",\n",
    "    4: \"Breathe\",\n",
    "    5: \"Time\",\n",
    "    6: \"Brain\",\n",
    "    7: \"Echoes\",\n",
    "    8: \"Wearing\",\n",
    "    9: \"Sorrow\",\n",
    "    10: \"Hey\",\n",
    "    11: \"Shine\"\n",
    "}"
   ]
  },
  {
   "cell_type": "code",
   "execution_count": 32,
   "id": "d208ffd6",
   "metadata": {
    "execution": {
     "iopub.execute_input": "2022-12-20T11:48:16.802454Z",
     "iopub.status.busy": "2022-12-20T11:48:16.800605Z",
     "iopub.status.idle": "2022-12-20T11:48:18.298885Z",
     "shell.execute_reply": "2022-12-20T11:48:18.297925Z",
     "shell.execute_reply.started": "2022-12-20T11:48:16.802216Z"
    },
    "papermill": {
     "duration": 1.292715,
     "end_time": "2022-12-19T13:18:10.162524",
     "exception": false,
     "start_time": "2022-12-19T13:18:08.869809",
     "status": "completed"
    },
    "tags": []
   },
   "outputs": [],
   "source": [
    "# Apply RobustScaler to the useful features\n",
    "Xt,Yt=Unroll2D(X_train,Y_train)\n",
    "Xv,Yv=Unroll2D(X_val,Y_val)\n",
    "\n",
    "scaler = RobustScaler()\n",
    "scaler = scaler.fit(Xt)\n",
    "\n",
    "X_train = scaler.transform(Xt).reshape(X_train.shape)\n",
    "X_val = scaler.transform(Xv).reshape(X_val.shape)"
   ]
  },
  {
   "cell_type": "code",
   "execution_count": 33,
   "id": "bf0f7d1b",
   "metadata": {
    "execution": {
     "iopub.execute_input": "2022-12-20T11:48:18.300950Z",
     "iopub.status.busy": "2022-12-20T11:48:18.300305Z",
     "iopub.status.idle": "2022-12-20T11:48:18.306534Z",
     "shell.execute_reply": "2022-12-20T11:48:18.305344Z",
     "shell.execute_reply.started": "2022-12-20T11:48:18.300912Z"
    },
    "papermill": {
     "duration": 0.014646,
     "end_time": "2022-12-19T13:18:10.182705",
     "exception": false,
     "start_time": "2022-12-19T13:18:10.168059",
     "status": "completed"
    },
    "tags": []
   },
   "outputs": [],
   "source": [
    "# To save the scaler parameters\n",
    "if not os.path.exists('/kaggle/working/export.obj'):\n",
    "    import pickle \n",
    "    import math \n",
    "    \n",
    "    filehandler = open('export.obj', 'wb') \n",
    "    pickle.dump(scaler, filehandler)\n",
    "    filehandler.close()"
   ]
  },
  {
   "cell_type": "code",
   "execution_count": 34,
   "id": "c905300d",
   "metadata": {
    "execution": {
     "iopub.execute_input": "2022-12-20T11:48:18.309250Z",
     "iopub.status.busy": "2022-12-20T11:48:18.308405Z",
     "iopub.status.idle": "2022-12-20T11:48:18.320838Z",
     "shell.execute_reply": "2022-12-20T11:48:18.319924Z",
     "shell.execute_reply.started": "2022-12-20T11:48:18.309213Z"
    },
    "papermill": {
     "duration": 0.018084,
     "end_time": "2022-12-19T13:18:10.205941",
     "exception": false,
     "start_time": "2022-12-19T13:18:10.187857",
     "status": "completed"
    },
    "tags": []
   },
   "outputs": [
    {
     "data": {
      "text/plain": [
       "((1943, 36, 6), (1943, 12), (486, 36, 6), (486, 12))"
      ]
     },
     "execution_count": 34,
     "metadata": {},
     "output_type": "execute_result"
    }
   ],
   "source": [
    "# Convert the sparse labels to categorical values\n",
    "Y_train = tfk.utils.to_categorical(Y_train)\n",
    "Y_val = tfk.utils.to_categorical(Y_val)\n",
    "\n",
    "X_train.shape, Y_train.shape, X_val.shape, Y_val.shape"
   ]
  },
  {
   "cell_type": "markdown",
   "id": "3afb43e1",
   "metadata": {
    "id": "g_0wmrz3MGsd",
    "papermill": {
     "duration": 0.005085,
     "end_time": "2022-12-19T13:18:10.216169",
     "exception": false,
     "start_time": "2022-12-19T13:18:10.211084",
     "status": "completed"
    },
    "tags": []
   },
   "source": [
    "# Build and train models"
   ]
  },
  {
   "cell_type": "code",
   "execution_count": 35,
   "id": "92fbf772",
   "metadata": {
    "execution": {
     "iopub.execute_input": "2022-12-20T11:48:18.325488Z",
     "iopub.status.busy": "2022-12-20T11:48:18.324808Z",
     "iopub.status.idle": "2022-12-20T11:48:18.330140Z",
     "shell.execute_reply": "2022-12-20T11:48:18.329042Z",
     "shell.execute_reply.started": "2022-12-20T11:48:18.325451Z"
    },
    "id": "XkUqhy__KMnr",
    "papermill": {
     "duration": 0.012494,
     "end_time": "2022-12-19T13:18:10.233850",
     "exception": false,
     "start_time": "2022-12-19T13:18:10.221356",
     "status": "completed"
    },
    "tags": []
   },
   "outputs": [],
   "source": [
    "input_shape = X_train.shape[1:]\n",
    "classes = Y_train.shape[-1]\n",
    "batch_size = 64\n",
    "epochs = 1000"
   ]
  },
  {
   "cell_type": "markdown",
   "id": "9d0b1980",
   "metadata": {
    "papermill": {
     "duration": 0.005041,
     "end_time": "2022-12-19T13:18:10.244182",
     "exception": false,
     "start_time": "2022-12-19T13:18:10.239141",
     "status": "completed"
    },
    "tags": []
   },
   "source": [
    "## Conv1D"
   ]
  },
  {
   "cell_type": "code",
   "execution_count": 36,
   "id": "b11bf68b",
   "metadata": {
    "execution": {
     "iopub.execute_input": "2022-12-20T11:48:18.332098Z",
     "iopub.status.busy": "2022-12-20T11:48:18.331742Z",
     "iopub.status.idle": "2022-12-20T11:48:18.342472Z",
     "shell.execute_reply": "2022-12-20T11:48:18.341503Z",
     "shell.execute_reply.started": "2022-12-20T11:48:18.332053Z"
    },
    "papermill": {
     "duration": 0.030334,
     "end_time": "2022-12-19T13:18:10.279682",
     "exception": false,
     "start_time": "2022-12-19T13:18:10.249348",
     "status": "completed"
    },
    "tags": []
   },
   "outputs": [],
   "source": [
    "def build_1DCNN_classifier(input_shape, classes):\n",
    "    # Build the neural network layer by layer\n",
    "    dropRate = 0.35\n",
    "    \n",
    "    input_layer = tfkl.Input(shape=input_shape, name='Input')\n",
    "    #cnn = normalizationLayer(input_layer)\n",
    "    \n",
    "    # Feature extractor\n",
    "    cnn = tfkl.Conv1D(256,6,padding='same',activation='relu')(input_layer)\n",
    "    cnn = tfkl.MaxPooling1D()(cnn)\n",
    "    \n",
    "    cnn = tfkl.Conv1D(512,3,padding='same',activation='relu')(cnn)\n",
    "    gap = tfkl.GlobalAveragePooling1D()(cnn)\n",
    "    \n",
    "    dropout = tfkl.Dropout(0.5, seed=seed)(gap)\n",
    "\n",
    "    # Classifier\n",
    "    classifier = tfkl.Dense(128, activation=tfkl.LeakyReLU())(dropout)\n",
    "    classifier = tfkl.Dropout(dropRate, seed=seed)(classifier)\n",
    "    \n",
    "    classifier = tfkl.Dense(128, activation=tfkl.LeakyReLU())(classifier)\n",
    "    classifier = tfkl.Dropout(dropRate, seed=seed)(classifier)\n",
    "    \n",
    "    output_layer = tfkl.Dense(classes, activation='softmax')(classifier)\n",
    "\n",
    "    # Connect input and output through the Model class\n",
    "    model = tfk.Model(inputs=input_layer, outputs=output_layer, name='model')\n",
    "\n",
    "    # Compile the model\n",
    "    model.compile(loss=tfk.losses.CategoricalCrossentropy(), optimizer=tfk.optimizers.Adam(), metrics='accuracy')\n",
    "\n",
    "    # Return the model\n",
    "    return model"
   ]
  },
  {
   "cell_type": "code",
   "execution_count": 37,
   "id": "42732ebc",
   "metadata": {
    "execution": {
     "iopub.execute_input": "2022-12-20T11:48:18.344335Z",
     "iopub.status.busy": "2022-12-20T11:48:18.343973Z",
     "iopub.status.idle": "2022-12-20T11:48:18.415602Z",
     "shell.execute_reply": "2022-12-20T11:48:18.414680Z",
     "shell.execute_reply.started": "2022-12-20T11:48:18.344301Z"
    },
    "papermill": {
     "duration": 2.568621,
     "end_time": "2022-12-19T13:18:12.853619",
     "exception": false,
     "start_time": "2022-12-19T13:18:10.284998",
     "status": "completed"
    },
    "tags": []
   },
   "outputs": [
    {
     "name": "stdout",
     "output_type": "stream",
     "text": [
      "Model: \"model\"\n",
      "_________________________________________________________________\n",
      "Layer (type)                 Output Shape              Param #   \n",
      "=================================================================\n",
      "Input (InputLayer)           [(None, 36, 6)]           0         \n",
      "_________________________________________________________________\n",
      "conv1d_4 (Conv1D)            (None, 36, 256)           9472      \n",
      "_________________________________________________________________\n",
      "max_pooling1d_2 (MaxPooling1 (None, 18, 256)           0         \n",
      "_________________________________________________________________\n",
      "conv1d_5 (Conv1D)            (None, 18, 512)           393728    \n",
      "_________________________________________________________________\n",
      "global_average_pooling1d_2 ( (None, 512)               0         \n",
      "_________________________________________________________________\n",
      "dropout_6 (Dropout)          (None, 512)               0         \n",
      "_________________________________________________________________\n",
      "dense_6 (Dense)              (None, 128)               65664     \n",
      "_________________________________________________________________\n",
      "dropout_7 (Dropout)          (None, 128)               0         \n",
      "_________________________________________________________________\n",
      "dense_7 (Dense)              (None, 128)               16512     \n",
      "_________________________________________________________________\n",
      "dropout_8 (Dropout)          (None, 128)               0         \n",
      "_________________________________________________________________\n",
      "dense_8 (Dense)              (None, 12)                1548      \n",
      "=================================================================\n",
      "Total params: 486,924\n",
      "Trainable params: 486,924\n",
      "Non-trainable params: 0\n",
      "_________________________________________________________________\n"
     ]
    }
   ],
   "source": [
    "model = build_1DCNN_classifier(input_shape, classes)\n",
    "model.summary()"
   ]
  },
  {
   "cell_type": "markdown",
   "id": "a5cba0fa",
   "metadata": {},
   "source": [
    "## Train The model "
   ]
  },
  {
   "cell_type": "code",
   "execution_count": null,
   "id": "41947ebf",
   "metadata": {
    "papermill": {
     "duration": 104.789357,
     "end_time": "2022-12-19T13:19:57.649670",
     "exception": false,
     "start_time": "2022-12-19T13:18:12.860313",
     "status": "completed"
    },
    "tags": []
   },
   "outputs": [],
   "source": [
    "# Train the model\n",
    "history = model.fit(\n",
    "    x = X_train,\n",
    "    y = Y_train,\n",
    "    batch_size = batch_size,\n",
    "    epochs = epochs,\n",
    "    verbose=2,\n",
    "    validation_data = (X_val, Y_val),\n",
    "    callbacks = [\n",
    "        tfk.callbacks.EarlyStopping(monitor='val_accuracy', mode='max', patience=60, restore_best_weights=True),\n",
    "        keras.callbacks.ReduceLROnPlateau(monitor='loss', factor=0.5, patience=20, min_lr=0.0001)\n",
    "    ]\n",
    ").history"
   ]
  },
  {
   "cell_type": "code",
   "execution_count": 39,
   "id": "f20f510b",
   "metadata": {
    "execution": {
     "iopub.execute_input": "2022-12-20T11:48:49.281813Z",
     "iopub.status.busy": "2022-12-20T11:48:49.281226Z",
     "iopub.status.idle": "2022-12-20T11:48:50.177559Z",
     "shell.execute_reply": "2022-12-20T11:48:50.176709Z",
     "shell.execute_reply.started": "2022-12-20T11:48:49.281774Z"
    },
    "papermill": {
     "duration": 39.575539,
     "end_time": "2022-12-19T13:20:37.249261",
     "exception": false,
     "start_time": "2022-12-19T13:19:57.673722",
     "status": "completed"
    },
    "tags": []
   },
   "outputs": [
    {
     "data": {
      "image/png": "[encoded data removed]",
      "text/plain": [
       "<Figure size 1080x144 with 1 Axes>"
      ]
     },
     "metadata": {
      "needs_background": "light"
     },
     "output_type": "display_data"
    },
    {
     "data": {
      "image/png": "[encoded data removed]",
      "text/plain": [
       "<Figure size 1080x144 with 1 Axes>"
      ]
     },
     "metadata": {
      "needs_background": "light"
     },
     "output_type": "display_data"
    },
    {
     "data": {
      "image/png": "[encoded data removed]",
      "text/plain": [
       "<Figure size 1080x144 with 1 Axes>"
      ]
     },
     "metadata": {
      "needs_background": "light"
     },
     "output_type": "display_data"
    }
   ],
   "source": [
    "best_epoch = np.argmax(history['val_accuracy'])\n",
    "plt.figure(figsize=(15,2))\n",
    "plt.plot(history['loss'], label='Training loss', alpha=.8, color='#ff7f0e')\n",
    "plt.plot(history['val_loss'], label='Validation loss', alpha=.9, color='#5a9aa5')\n",
    "plt.axvline(x=best_epoch, label='Best epoch', alpha=.3, ls='--', color='#5a9aa5')\n",
    "plt.title('Categorical Crossentropy')\n",
    "plt.legend()\n",
    "plt.grid(alpha=0.15)\n",
    "plt.show()\n",
    "\n",
    "plt.figure(figsize=(15,2))\n",
    "plt.plot(history['accuracy'], label='Training accuracy', alpha=.8, color='#ff7f0e')\n",
    "plt.plot(history['val_accuracy'], label='Validation accuracy', alpha=.9, color='#5a9aa5')\n",
    "plt.axvline(x=best_epoch, label='Best epoch', alpha=.3, ls='--', color='#5a9aa5')\n",
    "plt.title('Accuracy')\n",
    "plt.legend()\n",
    "plt.grid(alpha=0.15)\n",
    "plt.show()\n",
    "\n",
    "plt.figure(figsize=(15,2))\n",
    "plt.plot(history['lr'], label='Learning Rate', alpha=.8, color='#ff7f0e')\n",
    "plt.axvline(x=best_epoch, label='Best epoch', alpha=.3, ls='--', color='#5a9aa5')\n",
    "plt.legend()\n",
    "plt.grid(alpha=0.15)\n",
    "plt.show()"
   ]
  },
  {
   "cell_type": "code",
   "execution_count": 40,
   "id": "25b75af9",
   "metadata": {
    "execution": {
     "iopub.execute_input": "2022-12-20T11:48:50.183859Z",
     "iopub.status.busy": "2022-12-20T11:48:50.181358Z",
     "iopub.status.idle": "2022-12-20T11:48:50.671478Z",
     "shell.execute_reply": "2022-12-20T11:48:50.670444Z",
     "shell.execute_reply.started": "2022-12-20T11:48:50.183815Z"
    },
    "papermill": {
     "duration": 0.880845,
     "end_time": "2022-12-19T13:20:38.161408",
     "exception": false,
     "start_time": "2022-12-19T13:20:37.280563",
     "status": "completed"
    },
    "tags": []
   },
   "outputs": [
    {
     "name": "stdout",
     "output_type": "stream",
     "text": [
      "Accuracy: 0.7366\n",
      "Precision: 0.751\n",
      "Recall: 0.5956\n",
      "F1: 0.6353\n",
      "              precision    recall  f1-score   support\n",
      "\n",
      "           0      1.000     0.429     0.600         7\n",
      "           1      0.750     0.720     0.735        25\n",
      "           2      0.927     0.944     0.936        54\n",
      "           3      0.618     0.553     0.583        76\n",
      "           4      0.000     0.000     0.000        12\n",
      "           5      0.550     0.355     0.431        31\n",
      "           6      0.775     0.873     0.821        63\n",
      "           7      1.000     0.214     0.353        14\n",
      "           8      0.955     0.875     0.913        24\n",
      "           9      0.682     0.884     0.770       155\n",
      "          10      0.923     0.800     0.857        15\n",
      "          11      0.833     0.500     0.625        10\n",
      "\n",
      "    accuracy                          0.737       486\n",
      "   macro avg      0.751     0.596     0.635       486\n",
      "weighted avg      0.727     0.737     0.716       486\n",
      "\n",
      "\n",
      "[[  3   0   0   0   0   0   0   0   0   0   0   0]\n",
      " [  0  18   0   2   0   0   0   0   1   3   0   0]\n",
      " [  0   0  51   0   0   0   1   0   0   0   3   0]\n",
      " [  1   2   0  42   3   9   0   0   0  10   0   1]\n",
      " [  0   0   0   0   0   0   0   0   0   0   0   0]\n",
      " [  1   0   0   6   0  11   0   1   0   1   0   0]\n",
      " [  1   2   2   2   0   3  55   0   2   4   0   0]\n",
      " [  0   0   0   0   0   0   0   3   0   0   0   0]\n",
      " [  0   0   0   0   0   0   0   0  21   0   0   1]\n",
      " [  1   3   0  23   9   8   7  10   0 137   0   3]\n",
      " [  0   0   1   0   0   0   0   0   0   0  12   0]\n",
      " [  0   0   0   1   0   0   0   0   0   0   0   5]]\n"
     ]
    },
    {
     "data": {
      "image/png": "[encoded data removed]",
      "text/plain": [
       "<Figure size 360x360 with 2 Axes>"
      ]
     },
     "metadata": {
      "needs_background": "light"
     },
     "output_type": "display_data"
    }
   ],
   "source": [
    "#prediction and evaluation is done on the Validation dataset\n",
    "predictions = model.predict(X_val)\n",
    "# Compute the confusion matrix\n",
    "cm = confusion_matrix(np.argmax(Y_val, axis=-1), np.argmax(predictions, axis=-1))\n",
    "\n",
    "# Compute the classification metrics\n",
    "accuracy = accuracy_score(np.argmax(Y_val, axis=-1), np.argmax(predictions, axis=-1))\n",
    "precision = precision_score(np.argmax(Y_val, axis=-1), np.argmax(predictions, axis=-1), average='macro')\n",
    "recall = recall_score(np.argmax(Y_val, axis=-1), np.argmax(predictions, axis=-1), average='macro')\n",
    "f1 = f1_score(np.argmax(Y_val, axis=-1), np.argmax(predictions, axis=-1), average='macro')\n",
    "print('Accuracy:',accuracy.round(4))\n",
    "print('Precision:',precision.round(4))\n",
    "print('Recall:',recall.round(4))\n",
    "print('F1:',f1.round(4))\n",
    "\n",
    "print(classification_report(np.argmax(Y_val, axis=-1), np.argmax(predictions, axis=-1), digits=3))\n",
    "print()\n",
    "print(cm.T)\n",
    "\n",
    "# Plot the confusion matrix\n",
    "plt.figure(figsize=(5,5))\n",
    "sns.heatmap(cm.T, cmap='Oranges', xticklabels=list(label_mapping.values()), yticklabels=list(label_mapping.values()))\n",
    "plt.xlabel('True labels')\n",
    "plt.ylabel('Predicted labels')\n",
    "plt.show()"
   ]
  },
  {
   "cell_type": "code",
   "execution_count": 41,
   "id": "0d5da55e",
   "metadata": {
    "execution": {
     "iopub.execute_input": "2022-12-20T11:48:50.673499Z",
     "iopub.status.busy": "2022-12-20T11:48:50.673124Z",
     "iopub.status.idle": "2022-12-20T11:48:50.686094Z",
     "shell.execute_reply": "2022-12-20T11:48:50.684961Z",
     "shell.execute_reply.started": "2022-12-20T11:48:50.673462Z"
    },
    "papermill": {
     "duration": 0.248514,
     "end_time": "2022-12-19T13:20:38.435381",
     "exception": false,
     "start_time": "2022-12-19T13:20:38.186867",
     "status": "completed"
    },
    "tags": []
   },
   "outputs": [],
   "source": [
    "def multiple_build_models(repetitions=3):\n",
    "    models= []\n",
    "    histories = []\n",
    "    metrics = []\n",
    "    confusion = []\n",
    "    \n",
    "    for i in range(repetitions): \n",
    "        print(\"sto trainando il modello numero: \",i)\n",
    "        model = build_1DCNN_classifier(input_shape, classes)\n",
    "        \n",
    "        # Train the model\n",
    "        history = model.fit(\n",
    "            x = X_train,\n",
    "            y = Y_train,\n",
    "            batch_size = batch_size,\n",
    "            epochs = epochs,\n",
    "            verbose=0,\n",
    "            validation_data = (X_val, Y_val),\n",
    "            callbacks = [\n",
    "                tfk.callbacks.EarlyStopping(monitor='val_accuracy', mode='max', patience=60, restore_best_weights=True),\n",
    "                keras.callbacks.ReduceLROnPlateau(monitor='loss', factor=0.5, patience=20, min_lr=0.0001)\n",
    "            ]\n",
    "        ).history\n",
    "\n",
    "        predictions = model.predict(X_val)\n",
    "        # Compute the confusion matrix\n",
    "        cm = confusion_matrix(np.argmax(Y_val, axis=-1), np.argmax(predictions, axis=-1))\n",
    "\n",
    "        # Compute the classification metrics\n",
    "        accuracy = accuracy_score(np.argmax(Y_val, axis=-1), np.argmax(predictions, axis=-1))\n",
    "        precision = precision_score(np.argmax(Y_val, axis=-1), np.argmax(predictions, axis=-1), average='macro')\n",
    "        recall = recall_score(np.argmax(Y_val, axis=-1), np.argmax(predictions, axis=-1), average='macro')\n",
    "        f1 = f1_score(np.argmax(Y_val, axis=-1), np.argmax(predictions, axis=-1), average='macro')\n",
    "        \n",
    "        print('\\tAccuracy:',accuracy.round(4))\n",
    "        print('\\tPrecision:',precision.round(4))\n",
    "        print('\\tRecall:',recall.round(4))\n",
    "        print('\\tF1:',f1.round(4),\"\\n\")\n",
    "        \n",
    "        print(cm.T)\n",
    "        print(\"\\n\\n\")\n",
    "        \n",
    "        models.append(model)\n",
    "        histories.append(history)\n",
    "        metrics.append((accuracy.round(4),precision.round(4),recall.round(4),f1.round(4))) \n",
    "        confusion.append(cm) \n",
    "        \n",
    "    return models,histories,metrics,confusion"
   ]
  },
  {
   "cell_type": "code",
   "execution_count": 42,
   "id": "24696d89",
   "metadata": {
    "execution": {
     "iopub.execute_input": "2022-12-20T11:48:50.688425Z",
     "iopub.status.busy": "2022-12-20T11:48:50.687686Z",
     "iopub.status.idle": "2022-12-20T11:50:33.943697Z",
     "shell.execute_reply": "2022-12-20T11:50:33.942616Z",
     "shell.execute_reply.started": "2022-12-20T11:48:50.688388Z"
    },
    "papermill": {
     "duration": 742.432398,
     "end_time": "2022-12-19T13:33:00.897727",
     "exception": false,
     "start_time": "2022-12-19T13:20:38.465329",
     "status": "completed"
    },
    "tags": []
   },
   "outputs": [
    {
     "name": "stdout",
     "output_type": "stream",
     "text": [
      "sto trainando il modello numero:  0\n",
      "\tAccuracy: 0.7449\n",
      "\tPrecision: 0.7461\n",
      "\tRecall: 0.6355\n",
      "\tF1: 0.6619 \n",
      "\n",
      "[[  3   0   0   0   0   0   0   0   0   0   0   0]\n",
      " [  0  16   0   1   0   0   0   0   1   2   0   0]\n",
      " [  0   0  52   0   0   0   1   0   0   0   1   0]\n",
      " [  2   4   0  47   5  10   0   2   0  19   0   1]\n",
      " [  0   0   0   1   1   0   0   0   0   0   0   0]\n",
      " [  1   0   0   7   0  14   1   0   0   0   0   0]\n",
      " [  0   1   1   1   0   2  52   0   0   2   0   0]\n",
      " [  0   0   0   0   0   0   1   4   0   2   0   0]\n",
      " [  0   1   0   0   0   0   3   0  23   0   0   1]\n",
      " [  0   3   0  16   6   5   5   8   0 130   0   2]\n",
      " [  1   0   1   0   0   0   0   0   0   0  14   0]\n",
      " [  0   0   0   3   0   0   0   0   0   0   0   6]]\n",
      "\n",
      "\n",
      "\n",
      "sto trainando il modello numero:  1\n",
      "\tAccuracy: 0.7407\n",
      "\tPrecision: 0.776\n",
      "\tRecall: 0.5994\n",
      "\tF1: 0.6455 \n",
      "\n",
      "[[  3   0   0   0   0   0   0   0   0   0   0   0]\n",
      " [  0  17   0   4   0   0   0   0   1   2   0   0]\n",
      " [  0   0  52   1   0   0   1   0   1   0   3   0]\n",
      " [  1   3   0  43   4   7   0   1   0  11   0   3]\n",
      " [  0   0   0   1   1   0   0   0   0   0   0   0]\n",
      " [  1   0   0   6   0  12   0   1   0   1   0   0]\n",
      " [  2   2   1   2   0   2  56   1   2   3   0   0]\n",
      " [  0   0   0   0   0   0   0   4   0   2   0   0]\n",
      " [  0   0   0   0   0   0   0   0  20   0   0   1]\n",
      " [  0   3   0  19   7  10   6   7   0 136   0   2]\n",
      " [  0   0   1   0   0   0   0   0   0   0  12   0]\n",
      " [  0   0   0   0   0   0   0   0   0   0   0   4]]\n",
      "\n",
      "\n",
      "\n",
      "sto trainando il modello numero:  2\n",
      "\tAccuracy: 0.7428\n",
      "\tPrecision: 0.7524\n",
      "\tRecall: 0.5983\n",
      "\tF1: 0.6352 \n",
      "\n",
      "[[  2   0   0   0   0   0   0   0   0   0   0   0]\n",
      " [  0  20   0   3   0   1   1   0   1   2   0   0]\n",
      " [  0   0  51   0   0   0   1   0   0   0   2   0]\n",
      " [  1   2   0  43   3   7   0   1   0  12   0   1]\n",
      " [  0   0   0   1   0   0   0   0   0   0   0   0]\n",
      " [  1   0   0   3   0  13   0   1   0   1   0   0]\n",
      " [  1   1   2   2   0   2  55   0   3   3   0   0]\n",
      " [  0   0   0   0   0   0   0   3   0   1   0   0]\n",
      " [  1   0   0   0   0   0   0   0  20   0   0   1]\n",
      " [  1   2   0  24   9   8   6   9   0 136   0   3]\n",
      " [  0   0   1   0   0   0   0   0   0   0  13   0]\n",
      " [  0   0   0   0   0   0   0   0   0   0   0   5]]\n",
      "\n",
      "\n",
      "\n"
     ]
    }
   ],
   "source": [
    "#train multiple time the same model to try overcome variability in models\n",
    "models, histories, metrics, confusion_matrix = multiple_build_models()"
   ]
  },
  {
   "cell_type": "code",
   "execution_count": 43,
   "id": "8a05deb6",
   "metadata": {
    "execution": {
     "iopub.execute_input": "2022-12-20T11:50:33.946134Z",
     "iopub.status.busy": "2022-12-20T11:50:33.945062Z",
     "iopub.status.idle": "2022-12-20T11:50:35.711186Z",
     "shell.execute_reply": "2022-12-20T11:50:35.710205Z",
     "shell.execute_reply.started": "2022-12-20T11:50:33.946094Z"
    },
    "papermill": {
     "duration": 0.182225,
     "end_time": "2022-12-19T13:33:01.304255",
     "exception": false,
     "start_time": "2022-12-19T13:33:01.122030",
     "status": "completed"
    },
    "tags": []
   },
   "outputs": [
    {
     "data": {
      "text/plain": [
       "'/kaggle/working/conv1D.zip'"
      ]
     },
     "execution_count": 43,
     "metadata": {},
     "output_type": "execute_result"
    }
   ],
   "source": [
    "#save the model\n",
    "name_model = 'conv1D'\n",
    "models[0].save(name_model)\n",
    "shutil.make_archive(name_model, 'zip', \"./\"+name_model)\n"
   ]
  }
 ],
 "metadata": {
  "kernelspec": {
   "display_name": "Python 3 (ipykernel)",
   "language": "python",
   "name": "python3"
  },
  "language_info": {
   "codemirror_mode": {
    "name": "ipython",
    "version": 3
   },
   "file_extension": ".py",
   "mimetype": "text/x-python",
   "name": "python",
   "nbconvert_exporter": "python",
   "pygments_lexer": "ipython3",
   "version": "3.10.8"
  },
  "papermill": {
   "default_parameters": {},
   "duration": 908.554713,
   "end_time": "2022-12-19T13:33:04.386878",
   "environment_variables": {},
   "exception": null,
   "input_path": "__notebook__.ipynb",
   "output_path": "__notebook__.ipynb",
   "parameters": {},
   "start_time": "2022-12-19T13:17:55.832165",
   "version": "2.3.4"
  }
 },
 "nbformat": 4,
 "nbformat_minor": 5
}

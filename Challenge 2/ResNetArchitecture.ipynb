{
 "cells": [
  {
   "cell_type": "markdown",
   "id": "8c996c8f",
   "metadata": {
    "papermill": {
     "duration": 0.006261,
     "end_time": "2022-12-19T13:18:02.975758",
     "exception": false,
     "start_time": "2022-12-19T13:18:02.969497",
     "status": "completed"
    },
    "tags": []
   },
   "source": [
    "# ResNet for Time Series Classification"
   ]
  },
  {
   "cell_type": "markdown",
   "id": "bd6226be",
   "metadata": {
    "id": "zfehjCy896Fd",
    "papermill": {
     "duration": 0.005004,
     "end_time": "2022-12-19T13:18:02.985921",
     "exception": false,
     "start_time": "2022-12-19T13:18:02.980917",
     "status": "completed"
    },
    "tags": []
   },
   "source": [
    "### Import libraries"
   ]
  },
  {
   "cell_type": "code",
   "execution_count": 1,
   "id": "92ea47f6",
   "metadata": {
    "execution": {
     "iopub.execute_input": "2022-12-19T13:18:02.998396Z",
     "iopub.status.busy": "2022-12-19T13:18:02.997562Z",
     "iopub.status.idle": "2022-12-19T13:18:08.588839Z",
     "shell.execute_reply": "2022-12-19T13:18:08.587803Z"
    },
    "id": "Z_wVYNVVfr6q",
    "papermill": {
     "duration": 5.600483,
     "end_time": "2022-12-19T13:18:08.591496",
     "exception": false,
     "start_time": "2022-12-19T13:18:02.991013",
     "status": "completed"
    },
    "tags": []
   },
   "outputs": [
    {
     "name": "stdout",
     "output_type": "stream",
     "text": [
      "2.6.4\n"
     ]
    }
   ],
   "source": [
    "import tensorflow as tf\n",
    "import tensorflow_addons as tfa\n",
    "import numpy as np\n",
    "import os\n",
    "import random\n",
    "import seaborn as sns\n",
    "import matplotlib.pyplot as plt\n",
    "from sklearn.metrics import accuracy_score, f1_score, precision_score, recall_score\n",
    "from sklearn.metrics import confusion_matrix, classification_report\n",
    "from sklearn.preprocessing import RobustScaler\n",
    "from sklearn.model_selection import train_test_split\n",
    "import shutil\n",
    "import sys\n",
    "\n",
    "import keras_tuner\n",
    "from tensorflow import keras\n",
    "\n",
    "tfk = tf.keras\n",
    "tfkl = tf.keras.layers\n",
    "print(tf.__version__)\n",
    "\n",
    "import warnings\n",
    "import logging\n",
    "os.environ['TF_CPP_MIN_LOG_LEVEL'] = '2'\n",
    "warnings.simplefilter(action='ignore', category=FutureWarning)\n",
    "warnings.simplefilter(action='ignore', category=Warning)\n",
    "tf.get_logger().setLevel('INFO')\n",
    "tf.autograph.set_verbosity(0)\n",
    "\n",
    "tf.get_logger().setLevel(logging.ERROR)\n",
    "tf.get_logger().setLevel('ERROR')\n",
    "tf.compat.v1.logging.set_verbosity(tf.compat.v1.logging.ERROR)"
   ]
  },
  {
   "cell_type": "code",
   "execution_count": 2,
   "id": "557d3d97",
   "metadata": {
    "execution": {
     "iopub.execute_input": "2022-12-19T13:18:08.604188Z",
     "iopub.status.busy": "2022-12-19T13:18:08.603554Z",
     "iopub.status.idle": "2022-12-19T13:18:08.608834Z",
     "shell.execute_reply": "2022-12-19T13:18:08.607915Z"
    },
    "papermill": {
     "duration": 0.014053,
     "end_time": "2022-12-19T13:18:08.611067",
     "exception": false,
     "start_time": "2022-12-19T13:18:08.597014",
     "status": "completed"
    },
    "tags": []
   },
   "outputs": [],
   "source": [
    "# Random seed for reproducibility\n",
    "seed = 42\n",
    "random.seed(seed)\n",
    "os.environ['PYTHONHASHSEED'] = str(seed)\n",
    "np.random.seed(seed)\n",
    "tf.random.set_seed(seed)\n",
    "tf.compat.v1.set_random_seed(seed)"
   ]
  },
  {
   "cell_type": "code",
   "execution_count": 3,
   "id": "b3c46961",
   "metadata": {
    "execution": {
     "iopub.execute_input": "2022-12-19T13:18:08.622580Z",
     "iopub.status.busy": "2022-12-19T13:18:08.622324Z",
     "iopub.status.idle": "2022-12-19T13:18:08.629325Z",
     "shell.execute_reply": "2022-12-19T13:18:08.628293Z"
    },
    "papermill": {
     "duration": 0.015282,
     "end_time": "2022-12-19T13:18:08.631536",
     "exception": false,
     "start_time": "2022-12-19T13:18:08.616254",
     "status": "completed"
    },
    "tags": []
   },
   "outputs": [],
   "source": [
    "def Unroll2D(X,Y):\n",
    "    # Store the shape of the input array X\n",
    "    initialShape = X.shape\n",
    "\n",
    "    # Flatten the 3D array X into a 2D array\n",
    "    X_flat = X.reshape(initialShape[0]*initialShape[1],initialShape[2])\n",
    "\n",
    "    # Get the unique values and counts of the 1D array Y\n",
    "    classes, classes_count = np.unique(Y, return_counts=True)\n",
    "\n",
    "    # Calculate the number of elements in each class\n",
    "    elPerClass = classes_count*initialShape[1]\n",
    "\n",
    "    # Initialize an empty 1D array for the output Y\n",
    "    Y_flat = np.empty(0)\n",
    "\n",
    "    i=0 \n",
    "    #Build a new Y to match the unrolled dataset\n",
    "    # Iterate over the number of elements in each class\n",
    "    for el in elPerClass:\n",
    "        # Append the label for each element in the current class\n",
    "        for y in range(el):\n",
    "            Y_flat=np.append(Y_flat,i)\n",
    "        # Increment the label for the next class\n",
    "        i=i+1\n",
    "\n",
    "    # Verify that all is correct by comparing the counts of the unique values\n",
    "    # in the output Y with the expected number of elements in each class\n",
    "    classes, classes_count_post = np.unique(Y_flat, return_counts=True)\n",
    "    assert classes_count_post.all()==elPerClass.all() \n",
    "\n",
    "    # Return the flattened X and Y arrays\n",
    "    return X_flat, Y_flat"
   ]
  },
  {
   "cell_type": "markdown",
   "id": "fb535275",
   "metadata": {
    "id": "XRK9IPIc-ZEz",
    "papermill": {
     "duration": 0.004905,
     "end_time": "2022-12-19T13:18:08.641482",
     "exception": false,
     "start_time": "2022-12-19T13:18:08.636577",
     "status": "completed"
    },
    "tags": []
   },
   "source": [
    "### Exploration Data Analysis (EDA)"
   ]
  },
  {
   "cell_type": "code",
   "execution_count": 4,
   "id": "949293bc",
   "metadata": {
    "execution": {
     "iopub.execute_input": "2022-12-19T13:18:08.652801Z",
     "iopub.status.busy": "2022-12-19T13:18:08.652498Z",
     "iopub.status.idle": "2022-12-19T13:18:08.657471Z",
     "shell.execute_reply": "2022-12-19T13:18:08.656413Z"
    },
    "papermill": {
     "duration": 0.012962,
     "end_time": "2022-12-19T13:18:08.659579",
     "exception": false,
     "start_time": "2022-12-19T13:18:08.646617",
     "status": "completed"
    },
    "tags": []
   },
   "outputs": [],
   "source": [
    "# Define a function to inspect NumPy arrays\n",
    "def describe_array(np_array,name):\n",
    "    print(\"DESCRIBE \"+name.upper())\n",
    "    print(\"Dimensions:\",np_array.ndim)\n",
    "    print(\"Shape:\",np_array.shape,\"\\n\")"
   ]
  },
  {
   "cell_type": "code",
   "execution_count": 5,
   "id": "46041112",
   "metadata": {
    "execution": {
     "iopub.execute_input": "2022-12-19T13:18:08.672466Z",
     "iopub.status.busy": "2022-12-19T13:18:08.671688Z",
     "iopub.status.idle": "2022-12-19T13:18:08.799953Z",
     "shell.execute_reply": "2022-12-19T13:18:08.798301Z"
    },
    "papermill": {
     "duration": 0.13753,
     "end_time": "2022-12-19T13:18:08.802094",
     "exception": false,
     "start_time": "2022-12-19T13:18:08.664564",
     "status": "completed"
    },
    "tags": []
   },
   "outputs": [
    {
     "name": "stdout",
     "output_type": "stream",
     "text": [
      "DESCRIBE X_TRAIN\n",
      "Dimensions: 3\n",
      "Shape: (2429, 36, 6) \n",
      "\n",
      "DESCRIBE Y_TRAIN\n",
      "Dimensions: 1\n",
      "Shape: (2429,) \n",
      "\n"
     ]
    }
   ],
   "source": [
    "X_Dataset = np.load(\"/kaggle/input/an2dl-challenge2/x_train.npy\")\n",
    "Y_Dataset = np.load(\"/kaggle/input/an2dl-challenge2/y_train.npy\")\n",
    "\n",
    "describe_array(X_Dataset,\"X_train\")\n",
    "describe_array(Y_Dataset,\"Y_train\")"
   ]
  },
  {
   "cell_type": "code",
   "execution_count": 6,
   "id": "d36ecb14",
   "metadata": {
    "execution": {
     "iopub.execute_input": "2022-12-19T13:18:08.814132Z",
     "iopub.status.busy": "2022-12-19T13:18:08.813472Z",
     "iopub.status.idle": "2022-12-19T13:18:08.824561Z",
     "shell.execute_reply": "2022-12-19T13:18:08.823723Z"
    },
    "papermill": {
     "duration": 0.019377,
     "end_time": "2022-12-19T13:18:08.826764",
     "exception": false,
     "start_time": "2022-12-19T13:18:08.807387",
     "status": "completed"
    },
    "tags": []
   },
   "outputs": [],
   "source": [
    "X_train, X_val, Y_train, Y_val = train_test_split(X_Dataset, Y_Dataset, test_size=0.2, stratify = Y_Dataset)"
   ]
  },
  {
   "cell_type": "code",
   "execution_count": 7,
   "id": "affcaf45",
   "metadata": {
    "execution": {
     "iopub.execute_input": "2022-12-19T13:18:08.838247Z",
     "iopub.status.busy": "2022-12-19T13:18:08.837983Z",
     "iopub.status.idle": "2022-12-19T13:18:08.844514Z",
     "shell.execute_reply": "2022-12-19T13:18:08.842711Z"
    },
    "papermill": {
     "duration": 0.014494,
     "end_time": "2022-12-19T13:18:08.846482",
     "exception": false,
     "start_time": "2022-12-19T13:18:08.831988",
     "status": "completed"
    },
    "tags": []
   },
   "outputs": [
    {
     "name": "stdout",
     "output_type": "stream",
     "text": [
      "DESCRIBE TRAINX\n",
      "Dimensions: 3\n",
      "Shape: (1943, 36, 6) \n",
      "\n",
      "DESCRIBE TRAINY\n",
      "Dimensions: 1\n",
      "Shape: (1943,) \n",
      "\n",
      "\n",
      "DESCRIBE VALX\n",
      "Dimensions: 3\n",
      "Shape: (486, 36, 6) \n",
      "\n",
      "DESCRIBE VALY\n",
      "Dimensions: 1\n",
      "Shape: (486,) \n",
      "\n"
     ]
    }
   ],
   "source": [
    "describe_array(X_train,\"trainX\")\n",
    "describe_array(Y_train,\"trainY\")\n",
    "print()\n",
    "describe_array(X_val,\"valX\")\n",
    "describe_array(Y_val,\"valY\")"
   ]
  },
  {
   "cell_type": "code",
   "execution_count": 8,
   "id": "03663725",
   "metadata": {
    "execution": {
     "iopub.execute_input": "2022-12-19T13:18:08.858347Z",
     "iopub.status.busy": "2022-12-19T13:18:08.857452Z",
     "iopub.status.idle": "2022-12-19T13:18:08.862667Z",
     "shell.execute_reply": "2022-12-19T13:18:08.861768Z"
    },
    "papermill": {
     "duration": 0.013133,
     "end_time": "2022-12-19T13:18:08.864686",
     "exception": false,
     "start_time": "2022-12-19T13:18:08.851553",
     "status": "completed"
    },
    "tags": []
   },
   "outputs": [],
   "source": [
    "label_mapping = {\n",
    "    0: \"Wish\",\n",
    "    1: \"Another\",\n",
    "    2: \"Comfortably\",\n",
    "    3: \"Money\",\n",
    "    4: \"Breathe\",\n",
    "    5: \"Time\",\n",
    "    6: \"Brain\",\n",
    "    7: \"Echoes\",\n",
    "    8: \"Wearing\",\n",
    "    9: \"Sorrow\",\n",
    "    10: \"Hey\",\n",
    "    11: \"Shine\"\n",
    "}"
   ]
  },
  {
   "cell_type": "code",
   "execution_count": 9,
   "id": "7c1330aa",
   "metadata": {
    "execution": {
     "iopub.execute_input": "2022-12-19T13:18:08.876317Z",
     "iopub.status.busy": "2022-12-19T13:18:08.875635Z",
     "iopub.status.idle": "2022-12-19T13:18:10.160061Z",
     "shell.execute_reply": "2022-12-19T13:18:10.159067Z"
    },
    "papermill": {
     "duration": 1.292715,
     "end_time": "2022-12-19T13:18:10.162524",
     "exception": false,
     "start_time": "2022-12-19T13:18:08.869809",
     "status": "completed"
    },
    "tags": []
   },
   "outputs": [],
   "source": [
    "# Apply RobustScaler to the useful features\n",
    "Xt,Yt=Unroll2D(X_train,Y_train)\n",
    "Xv,Yv=Unroll2D(X_val,Y_val)\n",
    "\n",
    "scaler = RobustScaler()\n",
    "scaler = scaler.fit(Xt)\n",
    "\n",
    "X_train = scaler.transform(Xt).reshape(X_train.shape)\n",
    "X_val = scaler.transform(Xv).reshape(X_val.shape)"
   ]
  },
  {
   "cell_type": "code",
   "execution_count": 10,
   "id": "a88a5612",
   "metadata": {
    "execution": {
     "iopub.execute_input": "2022-12-19T13:18:10.174692Z",
     "iopub.status.busy": "2022-12-19T13:18:10.174401Z",
     "iopub.status.idle": "2022-12-19T13:18:10.180563Z",
     "shell.execute_reply": "2022-12-19T13:18:10.179649Z"
    },
    "papermill": {
     "duration": 0.014646,
     "end_time": "2022-12-19T13:18:10.182705",
     "exception": false,
     "start_time": "2022-12-19T13:18:10.168059",
     "status": "completed"
    },
    "tags": []
   },
   "outputs": [],
   "source": [
    "# To save the scaler parameters\n",
    "if not os.path.exists('/kaggle/working/export.obj'):\n",
    "    import pickle \n",
    "    import math \n",
    "    \n",
    "    filehandler = open('export.obj', 'wb') \n",
    "    pickle.dump(scaler, filehandler)\n",
    "    filehandler.close()"
   ]
  },
  {
   "cell_type": "code",
   "execution_count": 11,
   "id": "7ddbbf69",
   "metadata": {
    "execution": {
     "iopub.execute_input": "2022-12-19T13:18:10.194125Z",
     "iopub.status.busy": "2022-12-19T13:18:10.193862Z",
     "iopub.status.idle": "2022-12-19T13:18:10.203469Z",
     "shell.execute_reply": "2022-12-19T13:18:10.202374Z"
    },
    "papermill": {
     "duration": 0.018084,
     "end_time": "2022-12-19T13:18:10.205941",
     "exception": false,
     "start_time": "2022-12-19T13:18:10.187857",
     "status": "completed"
    },
    "tags": []
   },
   "outputs": [
    {
     "data": {
      "text/plain": [
       "((1943, 36, 6), (1943, 12), (486, 36, 6), (486, 12))"
      ]
     },
     "execution_count": 11,
     "metadata": {},
     "output_type": "execute_result"
    }
   ],
   "source": [
    "# Convert the sparse labels to categorical values\n",
    "Y_train = tfk.utils.to_categorical(Y_train)\n",
    "Y_val = tfk.utils.to_categorical(Y_val)\n",
    "\n",
    "X_train.shape, Y_train.shape, X_val.shape, Y_val.shape"
   ]
  },
  {
   "cell_type": "markdown",
   "id": "efce3635",
   "metadata": {
    "id": "g_0wmrz3MGsd",
    "papermill": {
     "duration": 0.005085,
     "end_time": "2022-12-19T13:18:10.216169",
     "exception": false,
     "start_time": "2022-12-19T13:18:10.211084",
     "status": "completed"
    },
    "tags": []
   },
   "source": [
    "# Build and train models"
   ]
  },
  {
   "cell_type": "code",
   "execution_count": 12,
   "id": "cad566cd",
   "metadata": {
    "execution": {
     "iopub.execute_input": "2022-12-19T13:18:10.227676Z",
     "iopub.status.busy": "2022-12-19T13:18:10.227390Z",
     "iopub.status.idle": "2022-12-19T13:18:10.231717Z",
     "shell.execute_reply": "2022-12-19T13:18:10.230802Z"
    },
    "id": "XkUqhy__KMnr",
    "papermill": {
     "duration": 0.012494,
     "end_time": "2022-12-19T13:18:10.233850",
     "exception": false,
     "start_time": "2022-12-19T13:18:10.221356",
     "status": "completed"
    },
    "tags": []
   },
   "outputs": [],
   "source": [
    "input_shape = X_train.shape[1:]\n",
    "classes = Y_train.shape[-1]\n",
    "batch_size = 64\n",
    "epochs = 1000"
   ]
  },
  {
   "cell_type": "markdown",
   "id": "cdf360b5",
   "metadata": {
    "papermill": {
     "duration": 0.005041,
     "end_time": "2022-12-19T13:18:10.244182",
     "exception": false,
     "start_time": "2022-12-19T13:18:10.239141",
     "status": "completed"
    },
    "tags": []
   },
   "source": [
    "## ResNet Conv1D"
   ]
  },
  {
   "cell_type": "code",
   "execution_count": 13,
   "id": "0ee4cf4f",
   "metadata": {
    "execution": {
     "iopub.execute_input": "2022-12-19T13:18:10.255925Z",
     "iopub.status.busy": "2022-12-19T13:18:10.255652Z",
     "iopub.status.idle": "2022-12-19T13:18:10.277780Z",
     "shell.execute_reply": "2022-12-19T13:18:10.276798Z"
    },
    "papermill": {
     "duration": 0.030334,
     "end_time": "2022-12-19T13:18:10.279682",
     "exception": false,
     "start_time": "2022-12-19T13:18:10.249348",
     "status": "completed"
    },
    "tags": []
   },
   "outputs": [],
   "source": [
    "def build_model_resnet(input_shape, nb_classes):\n",
    "    n_feature_maps = 64\n",
    "\n",
    "    input_layer = keras.layers.Input(input_shape)\n",
    "\n",
    "    # BLOCK 1\n",
    "\n",
    "    conv_x = keras.layers.Conv1D(filters=n_feature_maps, kernel_size=5, padding='same')(input_layer)\n",
    "    conv_x = keras.layers.Activation('relu')(conv_x)\n",
    "    conv_x = tfkl.Dropout(0.4, seed=seed)(conv_x)\n",
    "\n",
    "    conv_y = keras.layers.Conv1D(filters=n_feature_maps, kernel_size=5, padding='same')(conv_x)\n",
    "    conv_y = keras.layers.Activation('relu')(conv_y)\n",
    "    conv_y = tfkl.Dropout(0.4, seed=seed)(conv_y)\n",
    "    \n",
    "    # expand channels for the sum\n",
    "    shortcut_y = keras.layers.Conv1D(filters=n_feature_maps, kernel_size=1, padding='same')(input_layer)\n",
    "    shortcut_y = tfkl.Dropout(0.4, seed=seed)(shortcut_y)\n",
    "\n",
    "    output_block_1 = keras.layers.add([shortcut_y, conv_y])\n",
    "    output_block_1 = keras.layers.Activation('relu')(output_block_1)\n",
    "    \n",
    "    # BLOCK 2\n",
    "\n",
    "    conv_x = keras.layers.Conv1D(filters=n_feature_maps * 2, kernel_size=5, padding='same')(output_block_1)\n",
    "    conv_x = keras.layers.Activation('relu')(conv_x)\n",
    "    conv_x = tfkl.Dropout(0.4, seed=seed)(conv_x)\n",
    "\n",
    "    conv_y = keras.layers.Conv1D(filters=n_feature_maps * 2, kernel_size=5, padding='same')(conv_x)\n",
    "    conv_y = keras.layers.Activation('relu')(conv_y)\n",
    "    conv_y = tfkl.Dropout(0.4, seed=seed)(conv_y)\n",
    "\n",
    "    # expand channels for the sum\n",
    "    shortcut_y = keras.layers.Conv1D(filters=n_feature_maps * 2, kernel_size=1, padding='same')(output_block_1)\n",
    "    shortcut_y = tfkl.Dropout(0.4, seed=seed)(shortcut_y)\n",
    "\n",
    "    output_block_2 = keras.layers.add([shortcut_y, conv_y])\n",
    "    output_block_2 = keras.layers.Activation('relu')(output_block_2)\n",
    "    \n",
    "    # BLOCK 3\n",
    "\n",
    "    conv_x = keras.layers.Conv1D(filters=n_feature_maps * 2, kernel_size=5, padding='same')(output_block_2)\n",
    "    conv_x = keras.layers.Activation('relu')(conv_x)\n",
    "    conv_x = tfkl.Dropout(0.4, seed=seed)(conv_x)\n",
    "\n",
    "    conv_y = keras.layers.Conv1D(filters=n_feature_maps * 2, kernel_size=5, padding='same')(conv_x)\n",
    "    conv_y = keras.layers.Activation('relu')(conv_y)\n",
    "    conv_y = tfkl.Dropout(0.4, seed=seed)(conv_y)\n",
    "\n",
    "    shortcut_y = keras.layers.Conv1D(filters=n_feature_maps * 2, kernel_size=1, padding='same')(output_block_2)\n",
    "    shortcut_y = tfkl.Dropout(0.4, seed=seed)(shortcut_y)\n",
    "\n",
    "    output_block_3 = keras.layers.add([conv_y, shortcut_y])\n",
    "    output_block_3 = keras.layers.Activation('relu')(output_block_3)\n",
    "    \n",
    "    # BLOCK 4\n",
    "\n",
    "    conv_x = keras.layers.Conv1D(filters=n_feature_maps * 4, kernel_size=5, padding='same')(output_block_3)\n",
    "    conv_x = keras.layers.Activation('relu')(conv_x)\n",
    "    conv_x = tfkl.Dropout(0.4, seed=seed)(conv_x)\n",
    "\n",
    "    conv_y = keras.layers.Conv1D(filters=n_feature_maps * 4, kernel_size=5, padding='same')(conv_x)\n",
    "    conv_y = keras.layers.Activation('relu')(conv_y)\n",
    "    conv_y = tfkl.Dropout(0.4, seed=seed)(conv_y)\n",
    "\n",
    "    shortcut_y = keras.layers.Conv1D(filters=n_feature_maps * 4, kernel_size=1, padding='same')(output_block_3)\n",
    "    shortcut_y = tfkl.Dropout(0.4, seed=seed)(shortcut_y)\n",
    "\n",
    "    output_block_4 = keras.layers.add([conv_y, shortcut_y])\n",
    "    output_block_4 = keras.layers.Activation('relu')(output_block_4)\n",
    "    \n",
    "    # BLOCK 5\n",
    "\n",
    "    conv_x = keras.layers.Conv1D(filters=n_feature_maps * 4, kernel_size=5, padding='same')(output_block_4)\n",
    "    conv_x = keras.layers.Activation('relu')(conv_x)\n",
    "    conv_x = tfkl.Dropout(0.4, seed=seed)(conv_x)\n",
    "\n",
    "    conv_y = keras.layers.Conv1D(filters=n_feature_maps * 4, kernel_size=5, padding='same')(conv_x)\n",
    "    conv_y = keras.layers.Activation('relu')(conv_y)\n",
    "    conv_y = tfkl.Dropout(0.4, seed=seed)(conv_y)\n",
    "\n",
    "    shortcut_y = keras.layers.Conv1D(filters=n_feature_maps * 4, kernel_size=1, padding='same')(output_block_4)\n",
    "    shortcut_y = tfkl.Dropout(0.4, seed=seed)(shortcut_y)\n",
    "\n",
    "    output_block_5 = keras.layers.add([conv_y, shortcut_y])\n",
    "    output_block_5 = keras.layers.Activation('relu')(output_block_5)\n",
    "    \n",
    "    # BLOCK 6\n",
    "\n",
    "    conv_x = keras.layers.Conv1D(filters=n_feature_maps * 4, kernel_size=5, padding='same')(output_block_5)\n",
    "    conv_x = keras.layers.Activation('relu')(conv_x)\n",
    "    conv_x = tfkl.Dropout(0.4, seed=seed)(conv_x)\n",
    "\n",
    "    conv_y = keras.layers.Conv1D(filters=n_feature_maps * 4, kernel_size=5, padding='same')(conv_x)\n",
    "    conv_y = keras.layers.Activation('relu')(conv_y)\n",
    "    conv_y = tfkl.Dropout(0.4, seed=seed)(conv_y)\n",
    "\n",
    "    # no need to expand channels because they are equal\n",
    "    output_block_6 = keras.layers.add([conv_y, output_block_5])\n",
    "    output_block_6 = keras.layers.Activation('relu')(output_block_6)\n",
    "    \n",
    "    # FINAL\n",
    "\n",
    "    gap_layer = keras.layers.GlobalAveragePooling1D()(output_block_6)\n",
    "    \n",
    "    dropout = tfkl.Dropout(0.4, seed=seed)(gap_layer)\n",
    "\n",
    "    # Classifier\n",
    "    classifier = tfkl.Dense(256, activation=tfkl.LeakyReLU())(dropout)\n",
    "    classifier = tfkl.Dropout(0.4, seed=seed)(classifier)\n",
    "\n",
    "    output_layer = keras.layers.Dense(nb_classes, activation='softmax')(classifier)\n",
    "\n",
    "    model = keras.models.Model(inputs=input_layer, outputs=output_layer)\n",
    "    \n",
    "    model.compile(loss='categorical_crossentropy', optimizer=keras.optimizers.Adam(),\n",
    "                  metrics=['accuracy'])\n",
    "\n",
    "    return model"
   ]
  },
  {
   "cell_type": "code",
   "execution_count": 14,
   "id": "4d3be586",
   "metadata": {
    "execution": {
     "iopub.execute_input": "2022-12-19T13:18:10.291325Z",
     "iopub.status.busy": "2022-12-19T13:18:10.291063Z",
     "iopub.status.idle": "2022-12-19T13:18:12.841711Z",
     "shell.execute_reply": "2022-12-19T13:18:12.840788Z"
    },
    "papermill": {
     "duration": 2.568621,
     "end_time": "2022-12-19T13:18:12.853619",
     "exception": false,
     "start_time": "2022-12-19T13:18:10.284998",
     "status": "completed"
    },
    "tags": []
   },
   "outputs": [
    {
     "name": "stdout",
     "output_type": "stream",
     "text": [
      "Model: \"model\"\n",
      "__________________________________________________________________________________________________\n",
      "Layer (type)                    Output Shape         Param #     Connected to                     \n",
      "==================================================================================================\n",
      "input_1 (InputLayer)            [(None, 36, 6)]      0                                            \n",
      "__________________________________________________________________________________________________\n",
      "conv1d (Conv1D)                 (None, 36, 64)       1984        input_1[0][0]                    \n",
      "__________________________________________________________________________________________________\n",
      "activation (Activation)         (None, 36, 64)       0           conv1d[0][0]                     \n",
      "__________________________________________________________________________________________________\n",
      "dropout (Dropout)               (None, 36, 64)       0           activation[0][0]                 \n",
      "__________________________________________________________________________________________________\n",
      "conv1d_1 (Conv1D)               (None, 36, 64)       20544       dropout[0][0]                    \n",
      "__________________________________________________________________________________________________\n",
      "conv1d_2 (Conv1D)               (None, 36, 64)       448         input_1[0][0]                    \n",
      "__________________________________________________________________________________________________\n",
      "activation_1 (Activation)       (None, 36, 64)       0           conv1d_1[0][0]                   \n",
      "__________________________________________________________________________________________________\n",
      "dropout_2 (Dropout)             (None, 36, 64)       0           conv1d_2[0][0]                   \n",
      "__________________________________________________________________________________________________\n",
      "dropout_1 (Dropout)             (None, 36, 64)       0           activation_1[0][0]               \n",
      "__________________________________________________________________________________________________\n",
      "add (Add)                       (None, 36, 64)       0           dropout_2[0][0]                  \n",
      "                                                                 dropout_1[0][0]                  \n",
      "__________________________________________________________________________________________________\n",
      "activation_2 (Activation)       (None, 36, 64)       0           add[0][0]                        \n",
      "__________________________________________________________________________________________________\n",
      "conv1d_3 (Conv1D)               (None, 36, 128)      41088       activation_2[0][0]               \n",
      "__________________________________________________________________________________________________\n",
      "activation_3 (Activation)       (None, 36, 128)      0           conv1d_3[0][0]                   \n",
      "__________________________________________________________________________________________________\n",
      "dropout_3 (Dropout)             (None, 36, 128)      0           activation_3[0][0]               \n",
      "__________________________________________________________________________________________________\n",
      "conv1d_4 (Conv1D)               (None, 36, 128)      82048       dropout_3[0][0]                  \n",
      "__________________________________________________________________________________________________\n",
      "conv1d_5 (Conv1D)               (None, 36, 128)      8320        activation_2[0][0]               \n",
      "__________________________________________________________________________________________________\n",
      "activation_4 (Activation)       (None, 36, 128)      0           conv1d_4[0][0]                   \n",
      "__________________________________________________________________________________________________\n",
      "dropout_5 (Dropout)             (None, 36, 128)      0           conv1d_5[0][0]                   \n",
      "__________________________________________________________________________________________________\n",
      "dropout_4 (Dropout)             (None, 36, 128)      0           activation_4[0][0]               \n",
      "__________________________________________________________________________________________________\n",
      "add_1 (Add)                     (None, 36, 128)      0           dropout_5[0][0]                  \n",
      "                                                                 dropout_4[0][0]                  \n",
      "__________________________________________________________________________________________________\n",
      "activation_5 (Activation)       (None, 36, 128)      0           add_1[0][0]                      \n",
      "__________________________________________________________________________________________________\n",
      "conv1d_6 (Conv1D)               (None, 36, 128)      82048       activation_5[0][0]               \n",
      "__________________________________________________________________________________________________\n",
      "activation_6 (Activation)       (None, 36, 128)      0           conv1d_6[0][0]                   \n",
      "__________________________________________________________________________________________________\n",
      "dropout_6 (Dropout)             (None, 36, 128)      0           activation_6[0][0]               \n",
      "__________________________________________________________________________________________________\n",
      "conv1d_7 (Conv1D)               (None, 36, 128)      82048       dropout_6[0][0]                  \n",
      "__________________________________________________________________________________________________\n",
      "activation_7 (Activation)       (None, 36, 128)      0           conv1d_7[0][0]                   \n",
      "__________________________________________________________________________________________________\n",
      "conv1d_8 (Conv1D)               (None, 36, 128)      16512       activation_5[0][0]               \n",
      "__________________________________________________________________________________________________\n",
      "dropout_7 (Dropout)             (None, 36, 128)      0           activation_7[0][0]               \n",
      "__________________________________________________________________________________________________\n",
      "dropout_8 (Dropout)             (None, 36, 128)      0           conv1d_8[0][0]                   \n",
      "__________________________________________________________________________________________________\n",
      "add_2 (Add)                     (None, 36, 128)      0           dropout_7[0][0]                  \n",
      "                                                                 dropout_8[0][0]                  \n",
      "__________________________________________________________________________________________________\n",
      "activation_8 (Activation)       (None, 36, 128)      0           add_2[0][0]                      \n",
      "__________________________________________________________________________________________________\n",
      "conv1d_9 (Conv1D)               (None, 36, 256)      164096      activation_8[0][0]               \n",
      "__________________________________________________________________________________________________\n",
      "activation_9 (Activation)       (None, 36, 256)      0           conv1d_9[0][0]                   \n",
      "__________________________________________________________________________________________________\n",
      "dropout_9 (Dropout)             (None, 36, 256)      0           activation_9[0][0]               \n",
      "__________________________________________________________________________________________________\n",
      "conv1d_10 (Conv1D)              (None, 36, 256)      327936      dropout_9[0][0]                  \n",
      "__________________________________________________________________________________________________\n",
      "activation_10 (Activation)      (None, 36, 256)      0           conv1d_10[0][0]                  \n",
      "__________________________________________________________________________________________________\n",
      "conv1d_11 (Conv1D)              (None, 36, 256)      33024       activation_8[0][0]               \n",
      "__________________________________________________________________________________________________\n",
      "dropout_10 (Dropout)            (None, 36, 256)      0           activation_10[0][0]              \n",
      "__________________________________________________________________________________________________\n",
      "dropout_11 (Dropout)            (None, 36, 256)      0           conv1d_11[0][0]                  \n",
      "__________________________________________________________________________________________________\n",
      "add_3 (Add)                     (None, 36, 256)      0           dropout_10[0][0]                 \n",
      "                                                                 dropout_11[0][0]                 \n",
      "__________________________________________________________________________________________________\n",
      "activation_11 (Activation)      (None, 36, 256)      0           add_3[0][0]                      \n",
      "__________________________________________________________________________________________________\n",
      "conv1d_12 (Conv1D)              (None, 36, 256)      327936      activation_11[0][0]              \n",
      "__________________________________________________________________________________________________\n",
      "activation_12 (Activation)      (None, 36, 256)      0           conv1d_12[0][0]                  \n",
      "__________________________________________________________________________________________________\n",
      "dropout_12 (Dropout)            (None, 36, 256)      0           activation_12[0][0]              \n",
      "__________________________________________________________________________________________________\n",
      "conv1d_13 (Conv1D)              (None, 36, 256)      327936      dropout_12[0][0]                 \n",
      "__________________________________________________________________________________________________\n",
      "activation_13 (Activation)      (None, 36, 256)      0           conv1d_13[0][0]                  \n",
      "__________________________________________________________________________________________________\n",
      "conv1d_14 (Conv1D)              (None, 36, 256)      65792       activation_11[0][0]              \n",
      "__________________________________________________________________________________________________\n",
      "dropout_13 (Dropout)            (None, 36, 256)      0           activation_13[0][0]              \n",
      "__________________________________________________________________________________________________\n",
      "dropout_14 (Dropout)            (None, 36, 256)      0           conv1d_14[0][0]                  \n",
      "__________________________________________________________________________________________________\n",
      "add_4 (Add)                     (None, 36, 256)      0           dropout_13[0][0]                 \n",
      "                                                                 dropout_14[0][0]                 \n",
      "__________________________________________________________________________________________________\n",
      "activation_14 (Activation)      (None, 36, 256)      0           add_4[0][0]                      \n",
      "__________________________________________________________________________________________________\n",
      "conv1d_15 (Conv1D)              (None, 36, 256)      327936      activation_14[0][0]              \n",
      "__________________________________________________________________________________________________\n",
      "activation_15 (Activation)      (None, 36, 256)      0           conv1d_15[0][0]                  \n",
      "__________________________________________________________________________________________________\n",
      "dropout_15 (Dropout)            (None, 36, 256)      0           activation_15[0][0]              \n",
      "__________________________________________________________________________________________________\n",
      "conv1d_16 (Conv1D)              (None, 36, 256)      327936      dropout_15[0][0]                 \n",
      "__________________________________________________________________________________________________\n",
      "activation_16 (Activation)      (None, 36, 256)      0           conv1d_16[0][0]                  \n",
      "__________________________________________________________________________________________________\n",
      "dropout_16 (Dropout)            (None, 36, 256)      0           activation_16[0][0]              \n",
      "__________________________________________________________________________________________________\n",
      "add_5 (Add)                     (None, 36, 256)      0           dropout_16[0][0]                 \n",
      "                                                                 activation_14[0][0]              \n",
      "__________________________________________________________________________________________________\n",
      "activation_17 (Activation)      (None, 36, 256)      0           add_5[0][0]                      \n",
      "__________________________________________________________________________________________________\n",
      "global_average_pooling1d (Globa (None, 256)          0           activation_17[0][0]              \n",
      "__________________________________________________________________________________________________\n",
      "dropout_17 (Dropout)            (None, 256)          0           global_average_pooling1d[0][0]   \n",
      "__________________________________________________________________________________________________\n",
      "dense (Dense)                   (None, 256)          65792       dropout_17[0][0]                 \n",
      "__________________________________________________________________________________________________\n",
      "dropout_18 (Dropout)            (None, 256)          0           dense[0][0]                      \n",
      "__________________________________________________________________________________________________\n",
      "dense_1 (Dense)                 (None, 12)           3084        dropout_18[0][0]                 \n",
      "==================================================================================================\n",
      "Total params: 2,306,508\n",
      "Trainable params: 2,306,508\n",
      "Non-trainable params: 0\n",
      "__________________________________________________________________________________________________\n"
     ]
    }
   ],
   "source": [
    "model = build_model_resnet(input_shape, classes)\n",
    "model.summary()"
   ]
  },
  {
   "attachments": {},
   "cell_type": "markdown",
   "id": "b1dbba25",
   "metadata": {},
   "source": [
    "## Train The model "
   ]
  },
  {
   "cell_type": "code",
   "execution_count": null,
   "id": "80e1796d",
   "metadata": {
    "execution": {
     "iopub.execute_input": "2022-12-19T13:18:12.868163Z",
     "iopub.status.busy": "2022-12-19T13:18:12.867831Z",
     "iopub.status.idle": "2022-12-19T13:19:57.647316Z",
     "shell.execute_reply": "2022-12-19T13:19:57.646283Z"
    },
    "papermill": {
     "duration": 104.789357,
     "end_time": "2022-12-19T13:19:57.649670",
     "exception": false,
     "start_time": "2022-12-19T13:18:12.860313",
     "status": "completed"
    },
    "tags": []
   },
   "outputs": [],
   "source": [
    "#mini_batch exploitation \n",
    "mini_batch_size = int(min(X_train.shape[0] / 10, batch_size))\n",
    "\n",
    "# Train the model\n",
    "history = model.fit(\n",
    "    x = X_train,\n",
    "    y = Y_train,\n",
    "    batch_size = mini_batch_size,\n",
    "    epochs = epochs,\n",
    "    verbose=2,\n",
    "    validation_data = (X_val, Y_val),\n",
    "    callbacks = [\n",
    "        tfk.callbacks.EarlyStopping(monitor='val_accuracy', mode='max', patience=60, restore_best_weights=True),\n",
    "        keras.callbacks.ReduceLROnPlateau(monitor='loss', factor=0.5, patience=20, min_lr=0.0001)\n",
    "    ]\n",
    ").history"
   ]
  },
  {
   "cell_type": "code",
   "execution_count": 16,
   "id": "a6435b2a",
   "metadata": {
    "execution": {
     "iopub.execute_input": "2022-12-19T13:19:57.700551Z",
     "iopub.status.busy": "2022-12-19T13:19:57.699005Z",
     "iopub.status.idle": "2022-12-19T13:20:37.245776Z",
     "shell.execute_reply": "2022-12-19T13:20:37.244784Z"
    },
    "papermill": {
     "duration": 39.575539,
     "end_time": "2022-12-19T13:20:37.249261",
     "exception": false,
     "start_time": "2022-12-19T13:19:57.673722",
     "status": "completed"
    },
    "tags": []
   },
   "outputs": [
    {
     "data": {
      "image/png": "[encoded data removed]",
      "text/plain": [
       "<Figure size 1080x144 with 1 Axes>"
      ]
     },
     "metadata": {
      "needs_background": "light"
     },
     "output_type": "display_data"
    },
    {
     "data": {
      "image/png": "[encoded data removed]",
      "text/plain": [
       "<Figure size 1080x144 with 1 Axes>"
      ]
     },
     "metadata": {
      "needs_background": "light"
     },
     "output_type": "display_data"
    },
    {
     "data": {
      "image/png": "[encoded data removed]",
      "text/plain": [
       "<Figure size 1080x144 with 1 Axes>"
      ]
     },
     "metadata": {
      "needs_background": "light"
     },
     "output_type": "display_data"
    }
   ],
   "source": [
    "best_epoch = np.argmax(history['val_accuracy'])\n",
    "plt.figure(figsize=(15,2))\n",
    "plt.plot(history['loss'], label='Training loss', alpha=.8, color='#ff7f0e')\n",
    "plt.plot(history['val_loss'], label='Validation loss', alpha=.9, color='#5a9aa5')\n",
    "plt.axvline(x=best_epoch, label='Best epoch', alpha=.3, ls='--', color='#5a9aa5')\n",
    "plt.title('Categorical Crossentropy')\n",
    "plt.legend()\n",
    "plt.grid(alpha=0.15)\n",
    "plt.show()\n",
    "\n",
    "plt.figure(figsize=(15,2))\n",
    "plt.plot(history['accuracy'], label='Training accuracy', alpha=.8, color='#ff7f0e')\n",
    "plt.plot(history['val_accuracy'], label='Validation accuracy', alpha=.9, color='#5a9aa5')\n",
    "plt.axvline(x=best_epoch, label='Best epoch', alpha=.3, ls='--', color='#5a9aa5')\n",
    "plt.title('Accuracy')\n",
    "plt.legend()\n",
    "plt.grid(alpha=0.15)\n",
    "plt.show()\n",
    "\n",
    "plt.figure(figsize=(15,2))\n",
    "plt.plot(history['lr'], label='Learning Rate', alpha=.8, color='#ff7f0e')\n",
    "plt.axvline(x=best_epoch, label='Best epoch', alpha=.3, ls='--', color='#5a9aa5')\n",
    "plt.legend()\n",
    "plt.grid(alpha=0.15)\n",
    "plt.show()"
   ]
  },
  {
   "cell_type": "code",
   "execution_count": null,
   "id": "609afb9f",
   "metadata": {
    "execution": {
     "iopub.execute_input": "2022-12-19T13:20:37.311801Z",
     "iopub.status.busy": "2022-12-19T13:20:37.310906Z",
     "iopub.status.idle": "2022-12-19T13:20:38.159395Z",
     "shell.execute_reply": "2022-12-19T13:20:38.158450Z"
    },
    "papermill": {
     "duration": 0.880845,
     "end_time": "2022-12-19T13:20:38.161408",
     "exception": false,
     "start_time": "2022-12-19T13:20:37.280563",
     "status": "completed"
    },
    "tags": []
   },
   "outputs": [],
   "source": [
    "#prediction and evaluation is done on the Validation dataset\n",
    "predictions = model.predict(X_val)\n",
    "# Compute the confusion matrix\n",
    "cm = confusion_matrix(np.argmax(Y_val, axis=-1), np.argmax(predictions, axis=-1))\n",
    "\n",
    "# Compute the classification metrics\n",
    "accuracy = accuracy_score(np.argmax(Y_val, axis=-1), np.argmax(predictions, axis=-1))\n",
    "precision = precision_score(np.argmax(Y_val, axis=-1), np.argmax(predictions, axis=-1), average='macro')\n",
    "recall = recall_score(np.argmax(Y_val, axis=-1), np.argmax(predictions, axis=-1), average='macro')\n",
    "f1 = f1_score(np.argmax(Y_val, axis=-1), np.argmax(predictions, axis=-1), average='macro')\n",
    "print('Accuracy:',accuracy.round(4))\n",
    "print('Precision:',precision.round(4))\n",
    "print('Recall:',recall.round(4))\n",
    "print('F1:',f1.round(4))\n",
    "\n",
    "print(classification_report(np.argmax(Y_val, axis=-1), np.argmax(predictions, axis=-1), digits=3))\n",
    "print()\n",
    "print(cm.T)\n",
    "\n",
    "# Plot the confusion matrix\n",
    "plt.figure(figsize=(5,5))\n",
    "sns.heatmap(cm.T, cmap='Oranges', xticklabels=list(label_mapping.values()), yticklabels=list(label_mapping.values()))\n",
    "plt.xlabel('True labels')\n",
    "plt.ylabel('Predicted labels')\n",
    "plt.show()"
   ]
  },
  {
   "cell_type": "code",
   "execution_count": 18,
   "id": "085b4479",
   "metadata": {
    "execution": {
     "iopub.execute_input": "2022-12-19T13:20:38.215501Z",
     "iopub.status.busy": "2022-12-19T13:20:38.215172Z",
     "iopub.status.idle": "2022-12-19T13:20:38.432908Z",
     "shell.execute_reply": "2022-12-19T13:20:38.431842Z"
    },
    "papermill": {
     "duration": 0.248514,
     "end_time": "2022-12-19T13:20:38.435381",
     "exception": false,
     "start_time": "2022-12-19T13:20:38.186867",
     "status": "completed"
    },
    "tags": []
   },
   "outputs": [],
   "source": [
    "def multiple_build_models(repetitions=3):\n",
    "    models= []\n",
    "    histories = []\n",
    "    metrics = []\n",
    "    confusion = []\n",
    "    \n",
    "    for i in range(repetitions): \n",
    "        print(\"sto trainando il modello numero: \",i)\n",
    "        model = build_model_resnet(input_shape, classes)\n",
    "        \n",
    "        mini_batch_size = int(min(X_train.shape[0] / 10, batch_size))\n",
    "        # Train the model\n",
    "        history = model.fit(\n",
    "            x = X_train,\n",
    "            y = Y_train,\n",
    "            batch_size = mini_batch_size,\n",
    "            epochs = epochs,\n",
    "            verbose=0,\n",
    "            validation_data = (X_val, Y_val),\n",
    "            callbacks = [\n",
    "                tfk.callbacks.EarlyStopping(monitor='val_accuracy', mode='max', patience=60, restore_best_weights=True),\n",
    "                keras.callbacks.ReduceLROnPlateau(monitor='loss', factor=0.5, patience=20, min_lr=0.0001)\n",
    "            ]\n",
    "        ).history\n",
    "\n",
    "        predictions = model.predict(X_val)\n",
    "        # Compute the confusion matrix\n",
    "        cm = confusion_matrix(np.argmax(Y_val, axis=-1), np.argmax(predictions, axis=-1))\n",
    "\n",
    "        # Compute the classification metrics\n",
    "        accuracy = accuracy_score(np.argmax(Y_val, axis=-1), np.argmax(predictions, axis=-1))\n",
    "        precision = precision_score(np.argmax(Y_val, axis=-1), np.argmax(predictions, axis=-1), average='macro')\n",
    "        recall = recall_score(np.argmax(Y_val, axis=-1), np.argmax(predictions, axis=-1), average='macro')\n",
    "        f1 = f1_score(np.argmax(Y_val, axis=-1), np.argmax(predictions, axis=-1), average='macro')\n",
    "        \n",
    "        print('\\tAccuracy:',accuracy.round(4))\n",
    "        print('\\tPrecision:',precision.round(4))\n",
    "        print('\\tRecall:',recall.round(4))\n",
    "        print('\\tF1:',f1.round(4),\"\\n\")\n",
    "        \n",
    "        print(cm.T)\n",
    "        print(\"\\n\\n\")\n",
    "        \n",
    "        models.append(model)\n",
    "        histories.append(history)\n",
    "        metrics.append((accuracy.round(4),precision.round(4),recall.round(4),f1.round(4))) \n",
    "        confusion.append(cm) \n",
    "        \n",
    "    return models,histories,metrics,confusion"
   ]
  },
  {
   "cell_type": "code",
   "execution_count": null,
   "id": "53706b26",
   "metadata": {
    "execution": {
     "iopub.execute_input": "2022-12-19T13:20:38.497975Z",
     "iopub.status.busy": "2022-12-19T13:20:38.497579Z",
     "iopub.status.idle": "2022-12-19T13:33:00.894819Z",
     "shell.execute_reply": "2022-12-19T13:33:00.893403Z"
    },
    "papermill": {
     "duration": 742.432398,
     "end_time": "2022-12-19T13:33:00.897727",
     "exception": false,
     "start_time": "2022-12-19T13:20:38.465329",
     "status": "completed"
    },
    "tags": []
   },
   "outputs": [],
   "source": [
    "#train multiple time the same model to try overcome variability in models\n",
    "models, histories, metrics, confusion_matrix = multiple_build_models(repetitions=5)"
   ]
  },
  {
   "cell_type": "code",
   "execution_count": 20,
   "id": "071bfa09",
   "metadata": {
    "execution": {
     "iopub.execute_input": "2022-12-19T13:33:01.295449Z",
     "iopub.status.busy": "2022-12-19T13:33:01.294775Z",
     "iopub.status.idle": "2022-12-19T13:33:01.302096Z",
     "shell.execute_reply": "2022-12-19T13:33:01.301099Z"
    },
    "papermill": {
     "duration": 0.182225,
     "end_time": "2022-12-19T13:33:01.304255",
     "exception": false,
     "start_time": "2022-12-19T13:33:01.122030",
     "status": "completed"
    },
    "tags": []
   },
   "outputs": [
    {
     "data": {
      "text/plain": [
       "'\\nname_model = \\'ResNet_17_12_76\\'\\nmodels[0].save(name_model)\\n# model = tfk.models.load_model(\\'LSTM\\')\\nshutil.make_archive(name_model, \\'zip\\', \"./\"+name_model)\\n'"
      ]
     },
     "execution_count": 20,
     "metadata": {},
     "output_type": "execute_result"
    }
   ],
   "source": [
    "#save the model\n",
    "name_model = 'ResNet_17_12_76'\n",
    "models[0].save(name_model)\n",
    "shutil.make_archive(name_model, 'zip', \"./\"+name_model)\n"
   ]
  }
 ],
 "metadata": {
  "kernelspec": {
   "display_name": "Python 3 (ipykernel)",
   "language": "python",
   "name": "python3"
  },
  "language_info": {
   "codemirror_mode": {
    "name": "ipython",
    "version": 3
   },
   "file_extension": ".py",
   "mimetype": "text/x-python",
   "name": "python",
   "nbconvert_exporter": "python",
   "pygments_lexer": "ipython3",
   "version": "3.10.8"
  },
  "papermill": {
   "default_parameters": {},
   "duration": 908.554713,
   "end_time": "2022-12-19T13:33:04.386878",
   "environment_variables": {},
   "exception": null,
   "input_path": "__notebook__.ipynb",
   "output_path": "__notebook__.ipynb",
   "parameters": {},
   "start_time": "2022-12-19T13:17:55.832165",
   "version": "2.3.4"
  }
 },
 "nbformat": 4,
 "nbformat_minor": 5
}
